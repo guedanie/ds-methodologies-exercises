{
 "cells": [
  {
   "cell_type": "markdown",
   "metadata": {},
   "source": [
    "# Cross Validation\n",
    "\n",
    "Cross validation is a way we can further splot up our data to find the best model, or the hyper parameters for a model."
   ]
  },
  {
   "cell_type": "markdown",
   "metadata": {},
   "source": [
    "> Only use test data once \n",
    "\n",
    "A common mistake is to use the test plit of your data with multiple models. Doing so can lead to overfitting on your data, and the test data set should only be used once, to give an idea of how well your *best* model will generalize. \n",
    "\n",
    "You should **not** use the test data set to compare different model, or to find the best hypter parameters for a model, instead use cross validation methods. "
   ]
  },
  {
   "cell_type": "code",
   "execution_count": 1,
   "metadata": {},
   "outputs": [],
   "source": [
    "import pandas as pd\n",
    "\n",
    "from sklearn.model_selection import train_test_split\n",
    "from sklearn.tree import DecisionTreeClassifier\n",
    "from sklearn.neighbors import KNeighborsClassifier\n",
    "from sklearn.linear_model import LogisticRegression"
   ]
  },
  {
   "cell_type": "markdown",
   "metadata": {},
   "source": [
    "For this lesson, we'll be using a data set that contains information on used cars and their sale prices.\n",
    "\n",
    "We'll create a feature that determines whether a car sold for over the average sale price, and try to predict this."
   ]
  },
  {
   "cell_type": "code",
   "execution_count": 2,
   "metadata": {},
   "outputs": [],
   "source": [
    "# cars = pd.read_csv('./data/cars.csv')\n",
    "# cars.columns = [c.lower() for c in cars]\n",
    "# cars.set_index('id', inplace=True)\n",
    "\n",
    "# print('{} rows x {} cols'.format(*cars.shape))\n",
    "# cars.head()"
   ]
  },
  {
   "cell_type": "markdown",
   "metadata": {},
   "source": [
    "## Data Prep\n",
    "\n",
    "We'll construct a feature that says whether the car sold for over the average price for the car's make, model, and year:"
   ]
  },
  {
   "cell_type": "code",
   "execution_count": 4,
   "metadata": {},
   "outputs": [],
   "source": [
    "# cars['avg_saleprice'] = cars.groupby(['year', 'make', 'model']).price.transform('mean')\n",
    "# cars['gt_avg'] = (cars.price > cars.avg_saleprice).astype(int)"
   ]
  },
  {
   "cell_type": "code",
   "execution_count": null,
   "metadata": {},
   "outputs": [],
   "source": [
    "# # We will remove the features we aren't going to use:\n",
    "\n",
    "# cars.drop(columns=['price', 'city', 'vin', 'avg_saleprice'], inplace=True)"
   ]
  },
  {
   "cell_type": "code",
   "execution_count": 5,
   "metadata": {},
   "outputs": [],
   "source": [
    "# # And encode the categoriacal columns:\n",
    "\n",
    "# from sklearn.preprocessing import LabelEncoder\n",
    "\n",
    "# for col in ['state', 'make', 'model', 'year']:\n",
    "#     le = LabelEncoder().fit(cars[col])\n",
    "#     cars[col] = le.transform(cars[col])"
   ]
  },
  {
   "cell_type": "markdown",
   "metadata": {},
   "source": [
    "## Basic Cross Validation\n",
    "\n",
    "The `cross_val_score` function can be used to automate the splitting process. We can specify a number of splits we wanto to test data, and "
   ]
  },
  {
   "cell_type": "code",
   "execution_count": null,
   "metadata": {},
   "outputs": [],
   "source": [
    "# import sklearn.metrics as m\n",
    "# from sklearn.model_selection import cross_val_score\n",
    "\n",
    "# tree = DecisionTreeClassifier(max_depth=2)\n",
    "\n",
    "# cross_val_score(tree, X_train, y_train, cv=3)"
   ]
  },
  {
   "cell_type": "markdown",
   "metadata": {},
   "source": [
    "## Grid Search CV\n",
    "\n",
    "Sklearn's grid search cross validation (`GridSearchCV`) class lets us quickly try out many different combinations of hyper parameters. \n",
    "\n",
    "For our example, we'll try out different for `max_depth` and `max_features` with a decision tree classifier. \n",
    "\n",
    "We will specify the parameters we wish to use as a dictionary, then use that dictionary when we create a the class"
   ]
  },
  {
   "cell_type": "code",
   "execution_count": 6,
   "metadata": {},
   "outputs": [],
   "source": [
    "# from sklearn.model_selection import GridSearchCV\n",
    "\n",
    "# params = {'max_depth': [2, 3, 4],\n",
    "#           'max_features': [None, 1, 3]}\n",
    "\n",
    "# tree = DecisionTreeClassifier()\n",
    "\n",
    "# grid = GridSearchCV(tree, params, cv=3, iid=True)\n",
    "\n",
    "# grid.fit(X_train, y_train)"
   ]
  }
 ],
 "metadata": {
  "kernelspec": {
   "display_name": "Python 3",
   "language": "python",
   "name": "python3"
  },
  "language_info": {
   "codemirror_mode": {
    "name": "ipython",
    "version": 3
   },
   "file_extension": ".py",
   "mimetype": "text/x-python",
   "name": "python",
   "nbconvert_exporter": "python",
   "pygments_lexer": "ipython3",
   "version": "3.7.4"
  }
 },
 "nbformat": 4,
 "nbformat_minor": 2
}
