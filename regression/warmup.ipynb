{
 "cells": [
  {
   "cell_type": "markdown",
   "metadata": {},
   "source": [
    "# Dataframe Manipulation Warmup"
   ]
  },
  {
   "cell_type": "code",
   "execution_count": 1,
   "metadata": {},
   "outputs": [],
   "source": [
    "import numpy as np\n",
    "import pandas as pd\n",
    "\n",
    "np.random.seed(406)\n",
    "\n",
    "n = 5000\n",
    "df = pd.DataFrame({\n",
    "    'favorite_animal': np.random.choice(['cat', 'dog', 'frog', 'lemur', 'panda'], n),\n",
    "    'favorite_vegetable': np.random.choice(['brussel sprouts', 'potato', 'squash'], n),\n",
    "    'favorite_fruit': np.random.choice(['banana', 'apple', 'blueberries'], n),\n",
    "    'wears_glasses': np.random.choice(['yes', 'no'], n),\n",
    "    'netflix_consumption': np.random.normal(10, 2, n),\n",
    "    'open_browser_tabs': np.random.randint(2, 90, n),\n",
    "})"
   ]
  },
  {
   "cell_type": "markdown",
   "metadata": {},
   "source": [
    "- What is the highest amount of netflix consumption? `17.535`\n",
    "- How many people wear glasses? What percentage of people is this? `2555`, `.511`\n",
    "- How many people's favorite animal is a dog? `1002`\n",
    "- What is the most common favorite animal? `lemur`\n",
    "- What is the average netflix consumption for people that prefer brussel\n",
    "  sprouts? `10.008`\n",
    "- What is the most common favorite fruit for people who wear glasses and have\n",
    "  more than 40 open browser tabs? `blueberries`\n",
    "- What percentage of people have a netflix consumption lower than 7? `.0716`\n",
    "- What is the average netflix consumption for people with less than 30 open\n",
    "  browser tabs? `9.91935`\n",
    "- How many people *don't* wear glasses, have a favorite animal of a panda, have\n",
    "  a favorite fruit of blueberries, and have more than 60 open browser tabs? What\n",
    "  is the median netflix consumption for this group? What is the most common\n",
    "  favorite vegetable for this group? `46`, `10.455`, `potato`\n",
    "- What is the least popular combination of favorite fruit and vegetable? `apple` and `potato`\n",
    "- Which combination of favorite animal and wearing glasses has the highest average\n",
    "  netflix consumption? people that wear glasses and prefer pandas\n",
    "- **Bonus**: for each of the above questions, what kind of visualization would\n",
    "  be the most effective in conveying your answer?"
   ]
  },
  {
   "cell_type": "code",
   "execution_count": 7,
   "metadata": {},
   "outputs": [
    {
     "data": {
      "text/plain": [
       "1562    17.534819\n",
       "Name: netflix_consumption, dtype: float64"
      ]
     },
     "execution_count": 7,
     "metadata": {},
     "output_type": "execute_result"
    }
   ],
   "source": [
    "# What is the highest amount of netflix consumption? Viz = \"bar graph\"\n",
    "\n",
    "df[\"netflix_consumption\"].sort_values().tail(1)"
   ]
  },
  {
   "cell_type": "code",
   "execution_count": 187,
   "metadata": {},
   "outputs": [
    {
     "data": {
      "text/plain": [
       "(2555, 0.511)"
      ]
     },
     "execution_count": 187,
     "metadata": {},
     "output_type": "execute_result"
    }
   ],
   "source": [
    "# How many people wear glasses? What percentage of people is this?\n",
    "# viz = pie chart\n",
    "\n",
    "df[df[\"wears_glasses\"] == \"yes\"].count()\n",
    "df.shape\n",
    "\n",
    "\n",
    "n = 2555\n",
    "p = n/5000\n",
    "\n",
    "n, p"
   ]
  },
  {
   "cell_type": "code",
   "execution_count": 31,
   "metadata": {},
   "outputs": [
    {
     "data": {
      "text/plain": [
       "1002"
      ]
     },
     "execution_count": 31,
     "metadata": {},
     "output_type": "execute_result"
    }
   ],
   "source": [
    "# How many people's favorite animal is a dog?\n",
    "# = \"bar graph\"\n",
    "\n",
    "df.favorite_animal[df.favorite_animal == \"dog\"].count()"
   ]
  },
  {
   "cell_type": "code",
   "execution_count": 39,
   "metadata": {},
   "outputs": [
    {
     "data": {
      "text/plain": [
       "favorite_animal\n",
       "lemur    1028\n",
       "Name: favorite_animal, dtype: int64"
      ]
     },
     "execution_count": 39,
     "metadata": {},
     "output_type": "execute_result"
    }
   ],
   "source": [
    "# What is the most common favorite animal?\n",
    "# viz = \"bar graph\"\n",
    "\n",
    "df.groupby(\"favorite_animal\").favorite_animal.count().sort_values().tail(1)"
   ]
  },
  {
   "cell_type": "code",
   "execution_count": 44,
   "metadata": {},
   "outputs": [
    {
     "data": {
      "text/plain": [
       "10.00847154798366"
      ]
     },
     "execution_count": 44,
     "metadata": {},
     "output_type": "execute_result"
    }
   ],
   "source": [
    "# What is the average netflix consumption for people that prefer brussel sprouts?\n",
    "# viz = \"bar graph\"\n",
    "\n",
    "df.netflix_consumption[df[\"favorite_vegetable\"]==\"brussel sprouts\"].mean()"
   ]
  },
  {
   "cell_type": "code",
   "execution_count": 52,
   "metadata": {},
   "outputs": [
    {
     "data": {
      "text/plain": [
       "blueberries    498\n",
       "Name: favorite_fruit, dtype: int64"
      ]
     },
     "execution_count": 52,
     "metadata": {},
     "output_type": "execute_result"
    }
   ],
   "source": [
    " #What is the most common favorite fruit for people who wear glasses and have more than 40 open browser tabs?\n",
    "# viz = \"bar graph\"\n",
    "    \n",
    "    \n",
    "glasses =  df[\"wears_glasses\"] == \"yes\"\n",
    "tabs = df[\"open_browser_tabs\"] > 40\n",
    "    \n",
    "    \n",
    "df[\"favorite_fruit\"][glasses & tabs].value_counts().head(1)"
   ]
  },
  {
   "cell_type": "code",
   "execution_count": 188,
   "metadata": {},
   "outputs": [
    {
     "data": {
      "text/plain": [
       "0.0716"
      ]
     },
     "execution_count": 188,
     "metadata": {},
     "output_type": "execute_result"
    }
   ],
   "source": [
    "# What percentage of people have a netflix consumption lower than 7? \n",
    "# viz = \"scatter plot\"\n",
    "\n",
    "n_ppl = df[df[\"netflix_consumption\"] < 7].shape[0]\n",
    "\n",
    "n_ppl / 5000"
   ]
  },
  {
   "cell_type": "code",
   "execution_count": 70,
   "metadata": {},
   "outputs": [
    {
     "data": {
      "text/plain": [
       "9.91935736918227"
      ]
     },
     "execution_count": 70,
     "metadata": {},
     "output_type": "execute_result"
    }
   ],
   "source": [
    "# What is the average netflix consumption for people with less than 30 open browser tabs?\n",
    "# viz = \"scatter plot\"\n",
    "\n",
    "\n",
    "df[\"netflix_consumption\"][df[\"open_browser_tabs\"] < 30].mean()"
   ]
  },
  {
   "cell_type": "code",
   "execution_count": 99,
   "metadata": {},
   "outputs": [
    {
     "data": {
      "text/plain": [
       "(46, 10.45479760071613, 'potato')"
      ]
     },
     "execution_count": 99,
     "metadata": {},
     "output_type": "execute_result"
    }
   ],
   "source": [
    "# How many people *don't* wear glasses, have a favorite animal of a panda, have a favorite fruit of blueberries, and have more than 60 open browser tabs? \n",
    "# What is the median netflix consumption for this group? \n",
    "# What is the most common favorite vegetable for this group?\n",
    "\n",
    "# viz = \"pie chart\"\n",
    "\n",
    "glasses = df[\"wears_glasses\"] == \"no\"\n",
    "pandas = df[\"favorite_animal\"] == \"panda\"\n",
    "fruit = df[\"favorite_fruit\"] == \"blueberries\"\n",
    "tabs = df[\"open_browser_tabs\"] > 60\n",
    "\n",
    "total_count = df[glasses & pandas & fruit & tabs]\n",
    "\n",
    "median_consumption = total_count[\"netflix_consumption\"].median()\n",
    "\n",
    "veggie = total_count[\"favorite_vegetable\"].value_counts().head(1)\n",
    "\n",
    "total_count.shape[0], median_consumption, veggie.index[0]"
   ]
  },
  {
   "cell_type": "code",
   "execution_count": 205,
   "metadata": {},
   "outputs": [
    {
     "data": {
      "text/html": [
       "<div>\n",
       "<style scoped>\n",
       "    .dataframe tbody tr th:only-of-type {\n",
       "        vertical-align: middle;\n",
       "    }\n",
       "\n",
       "    .dataframe tbody tr th {\n",
       "        vertical-align: top;\n",
       "    }\n",
       "\n",
       "    .dataframe thead th {\n",
       "        text-align: right;\n",
       "    }\n",
       "</style>\n",
       "<table border=\"1\" class=\"dataframe\">\n",
       "  <thead>\n",
       "    <tr style=\"text-align: right;\">\n",
       "      <th>favorite_vegetable</th>\n",
       "      <th>brussel sprouts</th>\n",
       "      <th>potato</th>\n",
       "      <th>squash</th>\n",
       "    </tr>\n",
       "    <tr>\n",
       "      <th>favorite_fruit</th>\n",
       "      <th></th>\n",
       "      <th></th>\n",
       "      <th></th>\n",
       "    </tr>\n",
       "  </thead>\n",
       "  <tbody>\n",
       "    <tr>\n",
       "      <th>apple</th>\n",
       "      <td>565</td>\n",
       "      <td>512</td>\n",
       "      <td>555</td>\n",
       "    </tr>\n",
       "  </tbody>\n",
       "</table>\n",
       "</div>"
      ],
      "text/plain": [
       "favorite_vegetable  brussel sprouts  potato  squash\n",
       "favorite_fruit                                     \n",
       "apple                           565     512     555"
      ]
     },
     "execution_count": 205,
     "metadata": {},
     "output_type": "execute_result"
    }
   ],
   "source": [
    "# What is the least popular combination of favorite fruit and vegetable?\n",
    "\n",
    "pd.crosstab(df.favorite_fruit, df.favorite_vegetable).nsmallest(1, columns=\"potato\")\n",
    "\n"
   ]
  },
  {
   "cell_type": "code",
   "execution_count": 223,
   "metadata": {},
   "outputs": [
    {
     "data": {
      "text/html": [
       "<div>\n",
       "<style scoped>\n",
       "    .dataframe tbody tr th:only-of-type {\n",
       "        vertical-align: middle;\n",
       "    }\n",
       "\n",
       "    .dataframe tbody tr th {\n",
       "        vertical-align: top;\n",
       "    }\n",
       "\n",
       "    .dataframe thead tr th {\n",
       "        text-align: left;\n",
       "    }\n",
       "\n",
       "    .dataframe thead tr:last-of-type th {\n",
       "        text-align: right;\n",
       "    }\n",
       "</style>\n",
       "<table border=\"1\" class=\"dataframe\">\n",
       "  <thead>\n",
       "    <tr>\n",
       "      <th></th>\n",
       "      <th colspan=\"2\" halign=\"left\">netflix_consumption</th>\n",
       "    </tr>\n",
       "    <tr>\n",
       "      <th>wears_glasses</th>\n",
       "      <th>no</th>\n",
       "      <th>yes</th>\n",
       "    </tr>\n",
       "    <tr>\n",
       "      <th>favorite_animal</th>\n",
       "      <th></th>\n",
       "      <th></th>\n",
       "    </tr>\n",
       "  </thead>\n",
       "  <tbody>\n",
       "    <tr>\n",
       "      <th>cat</th>\n",
       "      <td>9.846183</td>\n",
       "      <td>9.884685</td>\n",
       "    </tr>\n",
       "    <tr>\n",
       "      <th>dog</th>\n",
       "      <td>9.933246</td>\n",
       "      <td>10.087352</td>\n",
       "    </tr>\n",
       "    <tr>\n",
       "      <th>frog</th>\n",
       "      <td>9.962311</td>\n",
       "      <td>9.834740</td>\n",
       "    </tr>\n",
       "    <tr>\n",
       "      <th>lemur</th>\n",
       "      <td>10.024557</td>\n",
       "      <td>10.010196</td>\n",
       "    </tr>\n",
       "    <tr>\n",
       "      <th>panda</th>\n",
       "      <td>9.946293</td>\n",
       "      <td>10.092273</td>\n",
       "    </tr>\n",
       "  </tbody>\n",
       "</table>\n",
       "</div>"
      ],
      "text/plain": [
       "                netflix_consumption           \n",
       "wears_glasses                    no        yes\n",
       "favorite_animal                               \n",
       "cat                        9.846183   9.884685\n",
       "dog                        9.933246  10.087352\n",
       "frog                       9.962311   9.834740\n",
       "lemur                     10.024557  10.010196\n",
       "panda                      9.946293  10.092273"
      ]
     },
     "execution_count": 223,
     "metadata": {},
     "output_type": "execute_result"
    }
   ],
   "source": [
    "# Which combination of favorite animal and wearing glasses has the highest average netflix consumption?\n",
    "\n",
    "df.pivot_table(index=\"favorite_animal\", columns=\"wears_glasses\", values=[\"netflix_consumption\"], aggfunc=\"mean\")"
   ]
  }
 ],
 "metadata": {
  "kernelspec": {
   "display_name": "Python 3",
   "language": "python",
   "name": "python3"
  },
  "language_info": {
   "codemirror_mode": {
    "name": "ipython",
    "version": 3
   },
   "file_extension": ".py",
   "mimetype": "text/x-python",
   "name": "python",
   "nbconvert_exporter": "python",
   "pygments_lexer": "ipython3",
   "version": "3.7.4"
  }
 },
 "nbformat": 4,
 "nbformat_minor": 2
}
