{
 "cells": [
  {
   "cell_type": "markdown",
   "metadata": {},
   "source": [
    "### Using the data on student grades from this lesson, complete the following:"
   ]
  },
  {
   "cell_type": "code",
   "execution_count": 1,
   "metadata": {},
   "outputs": [],
   "source": [
    "import pandas as pd\n",
    "import numpy as np"
   ]
  },
  {
   "cell_type": "code",
   "execution_count": 2,
   "metadata": {},
   "outputs": [],
   "source": [
    "def wrangle_grades():\n",
    "    grades = pd.read_csv(\"student_grades_copy.csv\")\n",
    "    grades.replace(r'^\\s*$', np.nan, regex=True, inplace=True)\n",
    "    df = grades.dropna().astype('int')\n",
    "    df.drop(columns = [\"Unnamed: 0\"], inplace = True)\n",
    "    return df"
   ]
  },
  {
   "cell_type": "code",
   "execution_count": 3,
   "metadata": {},
   "outputs": [],
   "source": [
    "grades = wrangle_grades()"
   ]
  },
  {
   "cell_type": "code",
   "execution_count": 4,
   "metadata": {
    "scrolled": true
   },
   "outputs": [
    {
     "name": "stdout",
     "output_type": "stream",
     "text": [
      "<class 'pandas.core.frame.DataFrame'>\n",
      "Int64Index: 102 entries, 0 to 103\n",
      "Data columns (total 5 columns):\n",
      "student_id     102 non-null int64\n",
      "exam1          102 non-null int64\n",
      "exam2          102 non-null int64\n",
      "exam3          102 non-null int64\n",
      "final_grade    102 non-null int64\n",
      "dtypes: int64(5)\n",
      "memory usage: 4.8 KB\n"
     ]
    }
   ],
   "source": [
    "grades.info()"
   ]
  },
  {
   "cell_type": "code",
   "execution_count": 5,
   "metadata": {},
   "outputs": [],
   "source": [
    "import split_scale"
   ]
  },
  {
   "cell_type": "code",
   "execution_count": 6,
   "metadata": {},
   "outputs": [],
   "source": [
    "train, test = split_scale.split_my_df(grades)\n",
    "\n",
    "predictions = pd.DataFrame({\n",
    "    \"actual\": train.final_grade\n",
    "})"
   ]
  },
  {
   "cell_type": "markdown",
   "metadata": {},
   "source": [
    "Create a model that uses exam 1 to predict the final grade."
   ]
  },
  {
   "cell_type": "code",
   "execution_count": 7,
   "metadata": {},
   "outputs": [],
   "source": [
    "import sklearn.linear_model\n",
    "\n",
    "X = train[[\"exam1\"]]\n",
    "y = train.final_grade\n",
    "\n",
    "lm = sklearn.linear_model.LinearRegression()\n",
    "\n",
    "lm.fit(X,y)\n",
    "\n",
    "predictions[\"exam1_lm\"] = lm.predict(X)"
   ]
  },
  {
   "cell_type": "code",
   "execution_count": 8,
   "metadata": {},
   "outputs": [
    {
     "data": {
      "text/html": [
       "<div>\n",
       "<style scoped>\n",
       "    .dataframe tbody tr th:only-of-type {\n",
       "        vertical-align: middle;\n",
       "    }\n",
       "\n",
       "    .dataframe tbody tr th {\n",
       "        vertical-align: top;\n",
       "    }\n",
       "\n",
       "    .dataframe thead th {\n",
       "        text-align: right;\n",
       "    }\n",
       "</style>\n",
       "<table border=\"1\" class=\"dataframe\">\n",
       "  <thead>\n",
       "    <tr style=\"text-align: right;\">\n",
       "      <th></th>\n",
       "      <th>actual</th>\n",
       "      <th>exam1_lm</th>\n",
       "    </tr>\n",
       "  </thead>\n",
       "  <tbody>\n",
       "    <tr>\n",
       "      <th>86</th>\n",
       "      <td>77</td>\n",
       "      <td>75.341560</td>\n",
       "    </tr>\n",
       "    <tr>\n",
       "      <th>21</th>\n",
       "      <td>77</td>\n",
       "      <td>75.341560</td>\n",
       "    </tr>\n",
       "    <tr>\n",
       "      <th>31</th>\n",
       "      <td>81</td>\n",
       "      <td>82.203999</td>\n",
       "    </tr>\n",
       "    <tr>\n",
       "      <th>33</th>\n",
       "      <td>76</td>\n",
       "      <td>77.629040</td>\n",
       "    </tr>\n",
       "    <tr>\n",
       "      <th>102</th>\n",
       "      <td>65</td>\n",
       "      <td>65.429150</td>\n",
       "    </tr>\n",
       "  </tbody>\n",
       "</table>\n",
       "</div>"
      ],
      "text/plain": [
       "     actual   exam1_lm\n",
       "86       77  75.341560\n",
       "21       77  75.341560\n",
       "31       81  82.203999\n",
       "33       76  77.629040\n",
       "102      65  65.429150"
      ]
     },
     "execution_count": 8,
     "metadata": {},
     "output_type": "execute_result"
    }
   ],
   "source": [
    "predictions.head()"
   ]
  },
  {
   "cell_type": "markdown",
   "metadata": {},
   "source": [
    "Create a model that uses exam 2 to predict the final grade."
   ]
  },
  {
   "cell_type": "code",
   "execution_count": 9,
   "metadata": {},
   "outputs": [],
   "source": [
    "X = train[[\"exam2\"]]\n",
    "\n",
    "lm = sklearn.linear_model.LinearRegression()\n",
    "\n",
    "lm.fit(X, y)\n",
    "\n",
    "predictions[\"exam2_lm\"] = lm.predict(X)\n",
    "predictions[\"baseline\"] = train.final_grade.mean()"
   ]
  },
  {
   "cell_type": "markdown",
   "metadata": {},
   "source": [
    "Compare your models in the following manner:"
   ]
  },
  {
   "cell_type": "code",
   "execution_count": 10,
   "metadata": {},
   "outputs": [
    {
     "data": {
      "text/plain": [
       "actual        0.000000\n",
       "exam1_lm      3.405933\n",
       "exam2_lm     16.067423\n",
       "baseline    107.971041\n",
       "dtype: float64"
      ]
     },
     "execution_count": 10,
     "metadata": {},
     "output_type": "execute_result"
    }
   ],
   "source": [
    "predictions.apply(lambda col: sklearn.metrics.mean_squared_error(predictions.actual, col))"
   ]
  },
  {
   "cell_type": "markdown",
   "metadata": {},
   "source": [
    "Visualize the residuals. Create a seperate visualization for each model."
   ]
  },
  {
   "cell_type": "code",
   "execution_count": 11,
   "metadata": {
    "scrolled": true
   },
   "outputs": [
    {
     "name": "stderr",
     "output_type": "stream",
     "text": [
      "/usr/local/anaconda3/lib/python3.7/site-packages/ipykernel_launcher.py:7: SettingWithCopyWarning: \n",
      "A value is trying to be set on a copy of a slice from a DataFrame.\n",
      "Try using .loc[row_indexer,col_indexer] = value instead\n",
      "\n",
      "See the caveats in the documentation: http://pandas.pydata.org/pandas-docs/stable/user_guide/indexing.html#returning-a-view-versus-a-copy\n",
      "  import sys\n"
     ]
    },
    {
     "data": {
      "text/plain": [
       "<matplotlib.axes._subplots.AxesSubplot at 0x13033abd0>"
      ]
     },
     "execution_count": 11,
     "metadata": {},
     "output_type": "execute_result"
    }
   ],
   "source": [
    "import evaluate\n",
    "import matplotlib.pyplot as plt\n",
    "import seaborn as sns\n",
    "\n",
    "residuals = predictions[[\"actual\", \"exam1_lm\"]]\n",
    "\n",
    "residuals[\"residual\"] = residuals.exam1_lm - residuals.actual\n",
    " \n",
    "sns.scatterplot(x = residuals.exam1_lm, y = residuals.residual, data=residuals)"
   ]
  },
  {
   "cell_type": "code",
   "execution_count": 12,
   "metadata": {},
   "outputs": [
    {
     "name": "stderr",
     "output_type": "stream",
     "text": [
      "/usr/local/anaconda3/lib/python3.7/site-packages/ipykernel_launcher.py:3: SettingWithCopyWarning: \n",
      "A value is trying to be set on a copy of a slice from a DataFrame.\n",
      "Try using .loc[row_indexer,col_indexer] = value instead\n",
      "\n",
      "See the caveats in the documentation: http://pandas.pydata.org/pandas-docs/stable/user_guide/indexing.html#returning-a-view-versus-a-copy\n",
      "  This is separate from the ipykernel package so we can avoid doing imports until\n"
     ]
    },
    {
     "data": {
      "text/plain": [
       "<matplotlib.axes._subplots.AxesSubplot at 0x12fe373d0>"
      ]
     },
     "execution_count": 12,
     "metadata": {},
     "output_type": "execute_result"
    },
    {
     "data": {
      "image/png": "[encoded data removed]",
      "text/plain": [
       "<Figure size 432x288 with 1 Axes>"
      ]
     },
     "metadata": {
      "needs_background": "light"
     },
     "output_type": "display_data"
    }
   ],
   "source": [
    "residuals = predictions[[\"actual\", \"exam2_lm\"]]\n",
    "\n",
    "residuals[\"residual\"] = residuals.exam2_lm - residuals.actual\n",
    " \n",
    "sns.scatterplot(x = residuals.exam2_lm, y = residuals.residual, data=residuals)"
   ]
  },
  {
   "cell_type": "markdown",
   "metadata": {},
   "source": [
    "Visualize the actual vs the predicted values. Create a seperate visualization for each model."
   ]
  },
  {
   "cell_type": "code",
   "execution_count": 13,
   "metadata": {},
   "outputs": [
    {
     "data": {
      "image/png": "[encoded data removed]",
      "text/plain": [
       "<Figure size 648x648 with 1 Axes>"
      ]
     },
     "metadata": {
      "needs_background": "light"
     },
     "output_type": "display_data"
    }
   ],
   "source": [
    "plt.figure(figsize=(9, 9))\n",
    "\n",
    "plt.scatter(predictions.actual, predictions.exam1_lm, label=\"exam1 lm\", marker='o')\n",
    "plt.scatter(predictions.actual, predictions.baseline, label=r'Baseline ($\\hat{y} = \\bar{y}$)', marker='o')\n",
    "plt.plot([60, 100], [60, 100], label='Perfect predictions', ls=':', c='grey')\n",
    "\n",
    "plt.legend(title='Model')\n",
    "plt.ylabel('Predicted Final Grade')\n",
    "plt.xlabel('Actual Final Grade')\n",
    "plt.title('Predicted vs Actual Final Grade')\n",
    "\n",
    "plt.show()"
   ]
  },
  {
   "cell_type": "code",
   "execution_count": 14,
   "metadata": {},
   "outputs": [
    {
     "data": {
      "image/png": "[encoded data removed]",
      "text/plain": [
       "<Figure size 648x648 with 1 Axes>"
      ]
     },
     "metadata": {
      "needs_background": "light"
     },
     "output_type": "display_data"
    }
   ],
   "source": [
    "plt.figure(figsize=(9, 9))\n",
    "\n",
    "plt.scatter(predictions.actual, predictions.exam2_lm, label=\"exam2 lm\", marker='o')\n",
    "plt.scatter(predictions.actual, predictions.baseline, label=r'Baseline ($\\hat{y} = \\bar{y}$)', marker='o')\n",
    "plt.plot([60, 100], [60, 100], label='Perfect predictions', ls=':', c='grey')\n",
    "\n",
    "plt.legend(title='Model')\n",
    "plt.ylabel('Predicted Final Grade')\n",
    "plt.xlabel('Actual Final Grade')\n",
    "plt.title('Predicted vs Actual Final Grade')\n",
    "\n",
    "plt.show()"
   ]
  },
  {
   "cell_type": "code",
   "execution_count": 15,
   "metadata": {
    "scrolled": true
   },
   "outputs": [
    {
     "data": {
      "image/png": "[encoded data removed]",
      "text/plain": [
       "<Figure size 648x648 with 1 Axes>"
      ]
     },
     "metadata": {
      "needs_background": "light"
     },
     "output_type": "display_data"
    }
   ],
   "source": [
    "plt.figure(figsize=(9, 9))\n",
    "\n",
    "plt.scatter(predictions.actual, predictions.exam1_lm, label=\"exam1 lm\", marker='o')\n",
    "plt.scatter(predictions.actual, predictions.exam2_lm, label=\"exam2 lm\", marker='o')\n",
    "plt.scatter(predictions.actual, predictions.baseline, label=r'Baseline ($\\hat{y} = \\bar{y}$)', marker='o')\n",
    "plt.plot([60, 100], [60, 100], label='Perfect predictions', ls=':', c='grey')\n",
    "\n",
    "plt.legend(title='Model')\n",
    "plt.ylabel('Predicted Final Grade')\n",
    "plt.xlabel('Actual Final Grade')\n",
    "plt.title('Predicted vs Actual Final Grade')\n",
    "\n",
    "plt.show()"
   ]
  },
  {
   "cell_type": "markdown",
   "metadata": {},
   "source": [
    "### Create a model that uses exam 1 and exam 3 to predict final grade. How does this model compare to your previous ones?"
   ]
  },
  {
   "cell_type": "code",
   "execution_count": 16,
   "metadata": {
    "scrolled": true
   },
   "outputs": [
    {
     "data": {
      "text/html": [
       "<div>\n",
       "<style scoped>\n",
       "    .dataframe tbody tr th:only-of-type {\n",
       "        vertical-align: middle;\n",
       "    }\n",
       "\n",
       "    .dataframe tbody tr th {\n",
       "        vertical-align: top;\n",
       "    }\n",
       "\n",
       "    .dataframe thead th {\n",
       "        text-align: right;\n",
       "    }\n",
       "</style>\n",
       "<table border=\"1\" class=\"dataframe\">\n",
       "  <thead>\n",
       "    <tr style=\"text-align: right;\">\n",
       "      <th></th>\n",
       "      <th>actual</th>\n",
       "      <th>exam1_lm</th>\n",
       "      <th>exam2_lm</th>\n",
       "      <th>baseline</th>\n",
       "      <th>exam1_exam2_lm</th>\n",
       "    </tr>\n",
       "  </thead>\n",
       "  <tbody>\n",
       "    <tr>\n",
       "      <th>86</th>\n",
       "      <td>77</td>\n",
       "      <td>75.341560</td>\n",
       "      <td>69.572030</td>\n",
       "      <td>80.679012</td>\n",
       "      <td>75.055828</td>\n",
       "    </tr>\n",
       "    <tr>\n",
       "      <th>21</th>\n",
       "      <td>77</td>\n",
       "      <td>75.341560</td>\n",
       "      <td>69.572030</td>\n",
       "      <td>80.679012</td>\n",
       "      <td>75.055828</td>\n",
       "    </tr>\n",
       "    <tr>\n",
       "      <th>31</th>\n",
       "      <td>81</td>\n",
       "      <td>82.203999</td>\n",
       "      <td>74.445625</td>\n",
       "      <td>80.679012</td>\n",
       "      <td>82.355741</td>\n",
       "    </tr>\n",
       "    <tr>\n",
       "      <th>33</th>\n",
       "      <td>76</td>\n",
       "      <td>77.629040</td>\n",
       "      <td>74.445625</td>\n",
       "      <td>80.679012</td>\n",
       "      <td>76.103539</td>\n",
       "    </tr>\n",
       "    <tr>\n",
       "      <th>102</th>\n",
       "      <td>65</td>\n",
       "      <td>65.429150</td>\n",
       "      <td>69.572030</td>\n",
       "      <td>80.679012</td>\n",
       "      <td>66.358968</td>\n",
       "    </tr>\n",
       "  </tbody>\n",
       "</table>\n",
       "</div>"
      ],
      "text/plain": [
       "     actual   exam1_lm   exam2_lm   baseline  exam1_exam2_lm\n",
       "86       77  75.341560  69.572030  80.679012       75.055828\n",
       "21       77  75.341560  69.572030  80.679012       75.055828\n",
       "31       81  82.203999  74.445625  80.679012       82.355741\n",
       "33       76  77.629040  74.445625  80.679012       76.103539\n",
       "102      65  65.429150  69.572030  80.679012       66.358968"
      ]
     },
     "execution_count": 16,
     "metadata": {},
     "output_type": "execute_result"
    }
   ],
   "source": [
    "X = train[[\"exam1\", \"exam3\"]]\n",
    "\n",
    "lm.fit(X, y)\n",
    "\n",
    "predictions[\"exam1_exam2_lm\"] = lm.predict(X)\n",
    "\n",
    "predictions.head()"
   ]
  },
  {
   "cell_type": "code",
   "execution_count": 17,
   "metadata": {
    "scrolled": true
   },
   "outputs": [
    {
     "data": {
      "text/plain": [
       "actual              0.000000\n",
       "exam1_lm            3.405933\n",
       "exam2_lm           16.067423\n",
       "baseline          107.971041\n",
       "exam1_exam2_lm      2.861172\n",
       "dtype: float64"
      ]
     },
     "execution_count": 17,
     "metadata": {},
     "output_type": "execute_result"
    }
   ],
   "source": [
    "predictions.apply(lambda col: sklearn.metrics.mean_squared_error(predictions.actual, col))"
   ]
  },
  {
   "cell_type": "markdown",
   "metadata": {},
   "source": [
    "### Take your best preforming model and measure its performance on the test data set. How does performance differ between train and test?"
   ]
  },
  {
   "cell_type": "code",
   "execution_count": 18,
   "metadata": {},
   "outputs": [],
   "source": [
    "X_test = test[[\"exam1\", \"exam2\"]]\n",
    "y_test = test[\"final_grade\"]\n",
    "\n",
    "lm.fit(X_test, y_test)\n",
    "\n",
    "test_predictions = lm.predict(X_test)\n",
    "test_actual = y_test"
   ]
  },
  {
   "cell_type": "code",
   "execution_count": 19,
   "metadata": {},
   "outputs": [],
   "source": [
    "mse = sklearn.metrics.mean_squared_error(test_actual, test_predictions)"
   ]
  },
  {
   "cell_type": "code",
   "execution_count": 20,
   "metadata": {},
   "outputs": [
    {
     "data": {
      "text/plain": [
       "2.1241318444999586"
      ]
     },
     "execution_count": 20,
     "metadata": {},
     "output_type": "execute_result"
    }
   ],
   "source": [
    "import math\n",
    "\n",
    "rmse = math.sqrt(mse)\n",
    "rmse"
   ]
  },
  {
   "cell_type": "code",
   "execution_count": 21,
   "metadata": {},
   "outputs": [
    {
     "data": {
      "text/html": [
       "<div>\n",
       "<style scoped>\n",
       "    .dataframe tbody tr th:only-of-type {\n",
       "        vertical-align: middle;\n",
       "    }\n",
       "\n",
       "    .dataframe tbody tr th {\n",
       "        vertical-align: top;\n",
       "    }\n",
       "\n",
       "    .dataframe thead th {\n",
       "        text-align: right;\n",
       "    }\n",
       "</style>\n",
       "<table border=\"1\" class=\"dataframe\">\n",
       "  <thead>\n",
       "    <tr style=\"text-align: right;\">\n",
       "      <th></th>\n",
       "      <th>actual</th>\n",
       "      <th>exam1_exam2_lm</th>\n",
       "    </tr>\n",
       "  </thead>\n",
       "  <tbody>\n",
       "    <tr>\n",
       "      <th>86</th>\n",
       "      <td>77</td>\n",
       "      <td>75.055828</td>\n",
       "    </tr>\n",
       "    <tr>\n",
       "      <th>21</th>\n",
       "      <td>77</td>\n",
       "      <td>75.055828</td>\n",
       "    </tr>\n",
       "    <tr>\n",
       "      <th>31</th>\n",
       "      <td>81</td>\n",
       "      <td>82.355741</td>\n",
       "    </tr>\n",
       "    <tr>\n",
       "      <th>33</th>\n",
       "      <td>76</td>\n",
       "      <td>76.103539</td>\n",
       "    </tr>\n",
       "    <tr>\n",
       "      <th>102</th>\n",
       "      <td>65</td>\n",
       "      <td>66.358968</td>\n",
       "    </tr>\n",
       "    <tr>\n",
       "      <th>...</th>\n",
       "      <td>...</td>\n",
       "      <td>...</td>\n",
       "    </tr>\n",
       "    <tr>\n",
       "      <th>85</th>\n",
       "      <td>76</td>\n",
       "      <td>76.103539</td>\n",
       "    </tr>\n",
       "    <tr>\n",
       "      <th>19</th>\n",
       "      <td>93</td>\n",
       "      <td>92.611393</td>\n",
       "    </tr>\n",
       "    <tr>\n",
       "      <th>100</th>\n",
       "      <td>70</td>\n",
       "      <td>70.443342</td>\n",
       "    </tr>\n",
       "    <tr>\n",
       "      <th>94</th>\n",
       "      <td>85</td>\n",
       "      <td>85.051682</td>\n",
       "    </tr>\n",
       "    <tr>\n",
       "      <th>68</th>\n",
       "      <td>85</td>\n",
       "      <td>85.051682</td>\n",
       "    </tr>\n",
       "  </tbody>\n",
       "</table>\n",
       "<p>81 rows × 2 columns</p>\n",
       "</div>"
      ],
      "text/plain": [
       "     actual  exam1_exam2_lm\n",
       "86       77       75.055828\n",
       "21       77       75.055828\n",
       "31       81       82.355741\n",
       "33       76       76.103539\n",
       "102      65       66.358968\n",
       "..      ...             ...\n",
       "85       76       76.103539\n",
       "19       93       92.611393\n",
       "100      70       70.443342\n",
       "94       85       85.051682\n",
       "68       85       85.051682\n",
       "\n",
       "[81 rows x 2 columns]"
      ]
     },
     "execution_count": 21,
     "metadata": {},
     "output_type": "execute_result"
    }
   ],
   "source": [
    "predictions[[\"actual\", \"exam1_exam2_lm\"]]"
   ]
  },
  {
   "cell_type": "markdown",
   "metadata": {},
   "source": [
    "# Telco_churn Exercises\n",
    "\n",
    "As a customer analyst, I want to know who has spent the most money with us over their lifetime. I have monthly charges and tenure, so I think I will be able to use those two attributes as features to estimate total_charges. I need to do this within an average of $5.00 per customer."
   ]
  },
  {
   "cell_type": "code",
   "execution_count": 22,
   "metadata": {},
   "outputs": [],
   "source": [
    "import wrangle\n",
    "import explore\n",
    "import split_scale\n",
    "import evaluate"
   ]
  },
  {
   "cell_type": "markdown",
   "metadata": {},
   "source": [
    "## Wrangle"
   ]
  },
  {
   "cell_type": "code",
   "execution_count": 23,
   "metadata": {},
   "outputs": [],
   "source": [
    "customers = wrangle.wrangle_telco()"
   ]
  },
  {
   "cell_type": "code",
   "execution_count": 24,
   "metadata": {
    "scrolled": false
   },
   "outputs": [
    {
     "name": "stdout",
     "output_type": "stream",
     "text": [
      "<class 'pandas.core.frame.DataFrame'>\n",
      "Int64Index: 1685 entries, 0 to 1694\n",
      "Data columns (total 7 columns):\n",
      "customer_id             1685 non-null object\n",
      "monthly_charges         1685 non-null float64\n",
      "tenure                  1685 non-null int64\n",
      "total_charges           1685 non-null float64\n",
      "tenure_years            1685 non-null float64\n",
      "tenure_years_bins       1685 non-null category\n",
      "monthly_charges_bins    1685 non-null category\n",
      "dtypes: category(2), float64(3), int64(1), object(1)\n",
      "memory usage: 82.5+ KB\n"
     ]
    }
   ],
   "source": [
    "customers.info()"
   ]
  },
  {
   "cell_type": "code",
   "execution_count": 25,
   "metadata": {},
   "outputs": [],
   "source": [
    "customers = customers.drop(columns= [\"customer_id\", \"tenure_years_bins\", \"monthly_charges_bins\"])"
   ]
  },
  {
   "cell_type": "code",
   "execution_count": 26,
   "metadata": {},
   "outputs": [
    {
     "data": {
      "text/html": [
       "<div>\n",
       "<style scoped>\n",
       "    .dataframe tbody tr th:only-of-type {\n",
       "        vertical-align: middle;\n",
       "    }\n",
       "\n",
       "    .dataframe tbody tr th {\n",
       "        vertical-align: top;\n",
       "    }\n",
       "\n",
       "    .dataframe thead th {\n",
       "        text-align: right;\n",
       "    }\n",
       "</style>\n",
       "<table border=\"1\" class=\"dataframe\">\n",
       "  <thead>\n",
       "    <tr style=\"text-align: right;\">\n",
       "      <th></th>\n",
       "      <th>monthly_charges</th>\n",
       "      <th>tenure</th>\n",
       "      <th>total_charges</th>\n",
       "      <th>tenure_years</th>\n",
       "    </tr>\n",
       "  </thead>\n",
       "  <tbody>\n",
       "    <tr>\n",
       "      <th>0</th>\n",
       "      <td>109.70</td>\n",
       "      <td>71</td>\n",
       "      <td>7904.25</td>\n",
       "      <td>5.0</td>\n",
       "    </tr>\n",
       "    <tr>\n",
       "      <th>1</th>\n",
       "      <td>84.65</td>\n",
       "      <td>63</td>\n",
       "      <td>5377.80</td>\n",
       "      <td>4.0</td>\n",
       "    </tr>\n",
       "    <tr>\n",
       "      <th>2</th>\n",
       "      <td>90.45</td>\n",
       "      <td>65</td>\n",
       "      <td>5957.90</td>\n",
       "      <td>4.0</td>\n",
       "    </tr>\n",
       "    <tr>\n",
       "      <th>3</th>\n",
       "      <td>45.20</td>\n",
       "      <td>54</td>\n",
       "      <td>2460.55</td>\n",
       "      <td>3.0</td>\n",
       "    </tr>\n",
       "    <tr>\n",
       "      <th>4</th>\n",
       "      <td>116.80</td>\n",
       "      <td>72</td>\n",
       "      <td>8456.75</td>\n",
       "      <td>5.0</td>\n",
       "    </tr>\n",
       "  </tbody>\n",
       "</table>\n",
       "</div>"
      ],
      "text/plain": [
       "   monthly_charges  tenure  total_charges  tenure_years\n",
       "0           109.70      71        7904.25           5.0\n",
       "1            84.65      63        5377.80           4.0\n",
       "2            90.45      65        5957.90           4.0\n",
       "3            45.20      54        2460.55           3.0\n",
       "4           116.80      72        8456.75           5.0"
      ]
     },
     "execution_count": 26,
     "metadata": {},
     "output_type": "execute_result"
    }
   ],
   "source": [
    "customers.head()"
   ]
  },
  {
   "cell_type": "markdown",
   "metadata": {},
   "source": [
    "## Split_scale"
   ]
  },
  {
   "cell_type": "code",
   "execution_count": 27,
   "metadata": {},
   "outputs": [],
   "source": [
    "test, train = split_scale.split_my_df(customers)"
   ]
  },
  {
   "cell_type": "code",
   "execution_count": 28,
   "metadata": {},
   "outputs": [
    {
     "data": {
      "text/plain": [
       "(1348, 4)"
      ]
     },
     "execution_count": 28,
     "metadata": {},
     "output_type": "execute_result"
    }
   ],
   "source": [
    "test.shape"
   ]
  },
  {
   "cell_type": "code",
   "execution_count": 29,
   "metadata": {},
   "outputs": [],
   "source": [
    "scaler, train_scaled, test_scaled = split_scale.min_max_scaler(train, test)"
   ]
  },
  {
   "cell_type": "markdown",
   "metadata": {},
   "source": [
    "## Model\n",
    "\n",
    "Fit 3 different linear models to your data, one with just tenure, one with just monthly_charges, and one with both."
   ]
  },
  {
   "cell_type": "code",
   "execution_count": 30,
   "metadata": {},
   "outputs": [],
   "source": [
    "import pandas as pd\n",
    "import sklearn.linear_model\n",
    "\n",
    "X = train_scaled[[\"tenure\"]]\n",
    "y = train[[\"total_charges\"]]\n",
    "\n",
    "lm = sklearn.linear_model.LinearRegression()\n",
    "\n",
    "lm.fit(X,y)\n",
    "\n",
    "predictions = pd.DataFrame({\n",
    "    \"actual\": train.total_charges\n",
    "})\n",
    "\n",
    "predictions[\"simple_lm_tenure\"] = lm.predict(X)"
   ]
  },
  {
   "cell_type": "code",
   "execution_count": 31,
   "metadata": {},
   "outputs": [
    {
     "data": {
      "text/html": [
       "<div>\n",
       "<style scoped>\n",
       "    .dataframe tbody tr th:only-of-type {\n",
       "        vertical-align: middle;\n",
       "    }\n",
       "\n",
       "    .dataframe tbody tr th {\n",
       "        vertical-align: top;\n",
       "    }\n",
       "\n",
       "    .dataframe thead th {\n",
       "        text-align: right;\n",
       "    }\n",
       "</style>\n",
       "<table border=\"1\" class=\"dataframe\">\n",
       "  <thead>\n",
       "    <tr style=\"text-align: right;\">\n",
       "      <th></th>\n",
       "      <th>actual</th>\n",
       "      <th>simple_lm_tenure</th>\n",
       "    </tr>\n",
       "  </thead>\n",
       "  <tbody>\n",
       "    <tr>\n",
       "      <th>305</th>\n",
       "      <td>1502.25</td>\n",
       "      <td>5051.123810</td>\n",
       "    </tr>\n",
       "    <tr>\n",
       "      <th>452</th>\n",
       "      <td>7567.20</td>\n",
       "      <td>4616.667542</td>\n",
       "    </tr>\n",
       "    <tr>\n",
       "      <th>917</th>\n",
       "      <td>7049.75</td>\n",
       "      <td>4269.102528</td>\n",
       "    </tr>\n",
       "    <tr>\n",
       "      <th>1421</th>\n",
       "      <td>1225.65</td>\n",
       "      <td>4355.993781</td>\n",
       "    </tr>\n",
       "    <tr>\n",
       "      <th>1557</th>\n",
       "      <td>587.40</td>\n",
       "      <td>880.343639</td>\n",
       "    </tr>\n",
       "  </tbody>\n",
       "</table>\n",
       "</div>"
      ],
      "text/plain": [
       "       actual  simple_lm_tenure\n",
       "305   1502.25       5051.123810\n",
       "452   7567.20       4616.667542\n",
       "917   7049.75       4269.102528\n",
       "1421  1225.65       4355.993781\n",
       "1557   587.40        880.343639"
      ]
     },
     "execution_count": 31,
     "metadata": {},
     "output_type": "execute_result"
    }
   ],
   "source": [
    "predictions.head()"
   ]
  },
  {
   "cell_type": "code",
   "execution_count": 32,
   "metadata": {},
   "outputs": [],
   "source": [
    "X = train_scaled[[\"monthly_charges\"]]\n",
    "\n",
    "lm = sklearn.linear_model.LinearRegression()\n",
    "\n",
    "lm.fit(X, y)\n",
    "\n",
    "predictions[\"simple_lm_monthly_charges\"] = lm.predict(X)"
   ]
  },
  {
   "cell_type": "code",
   "execution_count": 33,
   "metadata": {},
   "outputs": [
    {
     "data": {
      "text/html": [
       "<div>\n",
       "<style scoped>\n",
       "    .dataframe tbody tr th:only-of-type {\n",
       "        vertical-align: middle;\n",
       "    }\n",
       "\n",
       "    .dataframe tbody tr th {\n",
       "        vertical-align: top;\n",
       "    }\n",
       "\n",
       "    .dataframe thead th {\n",
       "        text-align: right;\n",
       "    }\n",
       "</style>\n",
       "<table border=\"1\" class=\"dataframe\">\n",
       "  <thead>\n",
       "    <tr style=\"text-align: right;\">\n",
       "      <th></th>\n",
       "      <th>actual</th>\n",
       "      <th>simple_lm_tenure</th>\n",
       "      <th>simple_lm_monthly_charges</th>\n",
       "    </tr>\n",
       "  </thead>\n",
       "  <tbody>\n",
       "    <tr>\n",
       "      <th>305</th>\n",
       "      <td>1502.25</td>\n",
       "      <td>5051.123810</td>\n",
       "      <td>862.999456</td>\n",
       "    </tr>\n",
       "    <tr>\n",
       "      <th>452</th>\n",
       "      <td>7567.20</td>\n",
       "      <td>4616.667542</td>\n",
       "      <td>7235.095242</td>\n",
       "    </tr>\n",
       "    <tr>\n",
       "      <th>917</th>\n",
       "      <td>7049.75</td>\n",
       "      <td>4269.102528</td>\n",
       "      <td>7087.722982</td>\n",
       "    </tr>\n",
       "    <tr>\n",
       "      <th>1421</th>\n",
       "      <td>1225.65</td>\n",
       "      <td>4355.993781</td>\n",
       "      <td>789.313326</td>\n",
       "    </tr>\n",
       "    <tr>\n",
       "      <th>1557</th>\n",
       "      <td>587.40</td>\n",
       "      <td>880.343639</td>\n",
       "      <td>1115.637615</td>\n",
       "    </tr>\n",
       "  </tbody>\n",
       "</table>\n",
       "</div>"
      ],
      "text/plain": [
       "       actual  simple_lm_tenure  simple_lm_monthly_charges\n",
       "305   1502.25       5051.123810                 862.999456\n",
       "452   7567.20       4616.667542                7235.095242\n",
       "917   7049.75       4269.102528                7087.722982\n",
       "1421  1225.65       4355.993781                 789.313326\n",
       "1557   587.40        880.343639                1115.637615"
      ]
     },
     "execution_count": 33,
     "metadata": {},
     "output_type": "execute_result"
    }
   ],
   "source": [
    "predictions.head()"
   ]
  },
  {
   "cell_type": "code",
   "execution_count": 34,
   "metadata": {
    "scrolled": true
   },
   "outputs": [
    {
     "data": {
      "text/html": [
       "<div>\n",
       "<style scoped>\n",
       "    .dataframe tbody tr th:only-of-type {\n",
       "        vertical-align: middle;\n",
       "    }\n",
       "\n",
       "    .dataframe tbody tr th {\n",
       "        vertical-align: top;\n",
       "    }\n",
       "\n",
       "    .dataframe thead th {\n",
       "        text-align: right;\n",
       "    }\n",
       "</style>\n",
       "<table border=\"1\" class=\"dataframe\">\n",
       "  <thead>\n",
       "    <tr style=\"text-align: right;\">\n",
       "      <th></th>\n",
       "      <th>actual</th>\n",
       "      <th>simple_lm_tenure</th>\n",
       "      <th>simple_lm_monthly_charges</th>\n",
       "      <th>tenure_and_monthly_charges</th>\n",
       "    </tr>\n",
       "  </thead>\n",
       "  <tbody>\n",
       "    <tr>\n",
       "      <th>305</th>\n",
       "      <td>1502.25</td>\n",
       "      <td>5051.123810</td>\n",
       "      <td>862.999456</td>\n",
       "      <td>1859.384825</td>\n",
       "    </tr>\n",
       "    <tr>\n",
       "      <th>452</th>\n",
       "      <td>7567.20</td>\n",
       "      <td>4616.667542</td>\n",
       "      <td>7235.095242</td>\n",
       "      <td>7205.810102</td>\n",
       "    </tr>\n",
       "    <tr>\n",
       "      <th>917</th>\n",
       "      <td>7049.75</td>\n",
       "      <td>4269.102528</td>\n",
       "      <td>7087.722982</td>\n",
       "      <td>6917.225703</td>\n",
       "    </tr>\n",
       "    <tr>\n",
       "      <th>1421</th>\n",
       "      <td>1225.65</td>\n",
       "      <td>4355.993781</td>\n",
       "      <td>789.313326</td>\n",
       "      <td>1474.643543</td>\n",
       "    </tr>\n",
       "    <tr>\n",
       "      <th>1557</th>\n",
       "      <td>587.40</td>\n",
       "      <td>880.343639</td>\n",
       "      <td>1115.637615</td>\n",
       "      <td>155.709325</td>\n",
       "    </tr>\n",
       "  </tbody>\n",
       "</table>\n",
       "</div>"
      ],
      "text/plain": [
       "       actual  simple_lm_tenure  simple_lm_monthly_charges  \\\n",
       "305   1502.25       5051.123810                 862.999456   \n",
       "452   7567.20       4616.667542                7235.095242   \n",
       "917   7049.75       4269.102528                7087.722982   \n",
       "1421  1225.65       4355.993781                 789.313326   \n",
       "1557   587.40        880.343639                1115.637615   \n",
       "\n",
       "      tenure_and_monthly_charges  \n",
       "305                  1859.384825  \n",
       "452                  7205.810102  \n",
       "917                  6917.225703  \n",
       "1421                 1474.643543  \n",
       "1557                  155.709325  "
      ]
     },
     "execution_count": 34,
     "metadata": {},
     "output_type": "execute_result"
    }
   ],
   "source": [
    "X = train_scaled[[\"monthly_charges\", \"tenure\"]]\n",
    "\n",
    "lm = sklearn.linear_model.LinearRegression()\n",
    "\n",
    "lm.fit(X, y)\n",
    "\n",
    "predictions[\"tenure_and_monthly_charges\"] = lm.predict(X)\n",
    "\n",
    "predictions.head()"
   ]
  },
  {
   "cell_type": "code",
   "execution_count": 35,
   "metadata": {},
   "outputs": [
    {
     "data": {
      "text/plain": [
       "(array([[6130.19087127, 2845.31414359]]), array([-1114.21432971]))"
      ]
     },
     "execution_count": 35,
     "metadata": {},
     "output_type": "execute_result"
    }
   ],
   "source": [
    "lm.coef_, lm.intercept_"
   ]
  },
  {
   "cell_type": "markdown",
   "metadata": {},
   "source": [
    "### Evaluate the models and your baseline."
   ]
  },
  {
   "cell_type": "code",
   "execution_count": 36,
   "metadata": {},
   "outputs": [],
   "source": [
    "predictions[\"baseline\"] = train[\"total_charges\"].mean()"
   ]
  },
  {
   "cell_type": "code",
   "execution_count": 37,
   "metadata": {
    "scrolled": true
   },
   "outputs": [
    {
     "data": {
      "text/plain": [
       "actual                        0.000000e+00\n",
       "simple_lm_tenure              3.936631e+06\n",
       "simple_lm_monthly_charges     7.283096e+05\n",
       "tenure_and_monthly_charges    2.600517e+05\n",
       "baseline                      6.601142e+06\n",
       "dtype: float64"
      ]
     },
     "execution_count": 37,
     "metadata": {},
     "output_type": "execute_result"
    }
   ],
   "source": [
    "predictions.apply(lambda col: sklearn.metrics.mean_squared_error(predictions.actual, col))"
   ]
  },
  {
   "cell_type": "code",
   "execution_count": 38,
   "metadata": {},
   "outputs": [
    {
     "data": {
      "text/plain": [
       "(260051.69845166107, 509.9526433421647)"
      ]
     },
     "execution_count": 38,
     "metadata": {},
     "output_type": "execute_result"
    }
   ],
   "source": [
    "train_mse = sklearn.metrics.mean_squared_error(predictions.actual, predictions.tenure_and_monthly_charges)\n",
    "\n",
    "train_rmse = math.sqrt(train_mse)\n",
    "\n",
    "train_mse, train_rmse"
   ]
  },
  {
   "cell_type": "markdown",
   "metadata": {},
   "source": [
    "We conclude that the multivariate model is the most accurate"
   ]
  },
  {
   "cell_type": "markdown",
   "metadata": {},
   "source": [
    "### Select the model that performed the best, and apply it to your test data."
   ]
  },
  {
   "cell_type": "code",
   "execution_count": 39,
   "metadata": {},
   "outputs": [],
   "source": [
    "X_test = test_scaled[[\"monthly_charges\", \"tenure\"]]\n",
    "y_test = test.total_charges\n",
    "\n",
    "lm.fit(X_test, y_test)\n",
    "\n",
    "test_predictions = lm.predict(X_test)\n",
    "test_actual = y_test"
   ]
  },
  {
   "cell_type": "code",
   "execution_count": 40,
   "metadata": {
    "scrolled": true
   },
   "outputs": [
    {
     "data": {
      "text/plain": [
       "(240622.98063575584, 490.53336342776504)"
      ]
     },
     "execution_count": 40,
     "metadata": {},
     "output_type": "execute_result"
    }
   ],
   "source": [
    "test_mse = sklearn.metrics.mean_squared_error(test_actual, test_predictions)\n",
    "\n",
    "import math\n",
    "\n",
    "test_rmse = math.sqrt(test_mse)\n",
    "test_mse, test_rmse"
   ]
  },
  {
   "cell_type": "code",
   "execution_count": 41,
   "metadata": {},
   "outputs": [
    {
     "data": {
      "text/plain": [
       "-7.443620398597797e-13"
      ]
     },
     "execution_count": 41,
     "metadata": {},
     "output_type": "execute_result"
    }
   ],
   "source": [
    "residuals = test_actual - test_predictions\n",
    "residuals.mean()"
   ]
  },
  {
   "cell_type": "markdown",
   "metadata": {},
   "source": [
    "This rmse seems too high... I might have screwed something up"
   ]
  },
  {
   "cell_type": "code",
   "execution_count": 42,
   "metadata": {
    "scrolled": true
   },
   "outputs": [
    {
     "data": {
      "image/png": "[encoded data removed]",
      "text/plain": [
       "<Figure size 648x648 with 1 Axes>"
      ]
     },
     "metadata": {},
     "output_type": "display_data"
    }
   ],
   "source": [
    "plt.figure(figsize=(9, 9))\n",
    "\n",
    "plt.scatter(predictions.actual, predictions.tenure_and_monthly_charges, label=\"tenure and monthly charges\", marker='o')\n",
    "plt.scatter(predictions.actual, predictions.baseline, label=r'Baseline ($\\hat{y} = \\bar{y}$)', marker='o')\n",
    "plt.plot([60, 100], [60, 100], label='Perfect predictions', ls=':', c='grey')\n",
    "\n",
    "plt.legend(title='Model')\n",
    "plt.ylabel('Predicted')\n",
    "plt.xlabel('Actual')\n",
    "plt.title('Predicted vs Actual')\n",
    "\n",
    "plt.show()"
   ]
  },
  {
   "cell_type": "code",
   "execution_count": 46,
   "metadata": {},
   "outputs": [
    {
     "name": "stdout",
     "output_type": "stream",
     "text": [
      "2 selected features\n",
      "['monthly_charges', 'tenure_years']\n"
     ]
    }
   ],
   "source": [
    "import feature_engineering\n",
    "\n",
    "X_train, y_train, X_test, y_test = split_scale.pull_X_y(train, test, \"total_charges\")\n",
    "\n",
    "\n",
    "feature_engineering.rfe(X_train,y_train,2)"
   ]
  }
 ],
 "metadata": {
  "kernelspec": {
   "display_name": "Python 3",
   "language": "python",
   "name": "python3"
  },
  "language_info": {
   "codemirror_mode": {
    "name": "ipython",
    "version": 3
   },
   "file_extension": ".py",
   "mimetype": "text/x-python",
   "name": "python",
   "nbconvert_exporter": "python",
   "pygments_lexer": "ipython3",
   "version": "3.7.4"
  }
 },
 "nbformat": 4,
 "nbformat_minor": 2
}
