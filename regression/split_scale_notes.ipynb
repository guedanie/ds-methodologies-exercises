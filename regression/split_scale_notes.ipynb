{
 "cells": [
  {
   "cell_type": "markdown",
   "metadata": {},
   "source": [
    "Create split_scale.py that will contain the functions that follow. Each scaler function should create the object, fit and transform both train and test. They should return the scaler, train dataframe scaled, test dataframe scaled. Be sure your indices represent the original indices from train/test, as those represent the indices from the original dataframe. Be sure to set a random state where applicable for reproducibility!"
   ]
  },
  {
   "cell_type": "code",
   "execution_count": 1,
   "metadata": {},
   "outputs": [],
   "source": [
    "from wrangle import wrangle_telco\n",
    "import pandas as pd\n",
    "import numpy as np\n",
    "from sklearn.model_selection import train_test_split\n",
    "from sklearn.preprocessing import StandardScaler, QuantileTransformer, PowerTransformer, RobustScaler, MinMaxScaler"
   ]
  },
  {
   "cell_type": "code",
   "execution_count": 2,
   "metadata": {},
   "outputs": [],
   "source": [
    "customers = wrangle_telco()"
   ]
  },
  {
   "cell_type": "code",
   "execution_count": 3,
   "metadata": {},
   "outputs": [
    {
     "name": "stdout",
     "output_type": "stream",
     "text": [
      "<class 'pandas.core.frame.DataFrame'>\n",
      "Int64Index: 1685 entries, 0 to 1694\n",
      "Data columns (total 4 columns):\n",
      "customer_id        1685 non-null object\n",
      "monthly_charges    1685 non-null float64\n",
      "tenure             1685 non-null int64\n",
      "total_charges      1685 non-null float64\n",
      "dtypes: float64(2), int64(1), object(1)\n",
      "memory usage: 65.8+ KB\n"
     ]
    }
   ],
   "source": [
    "customers.info()"
   ]
  },
  {
   "cell_type": "code",
   "execution_count": 4,
   "metadata": {},
   "outputs": [
    {
     "name": "stdout",
     "output_type": "stream",
     "text": [
      "X_train: (1348, 2)\n",
      "X_test: (337, 2)\n",
      "y_train: (1348,)\n",
      "y_test: (337,)\n"
     ]
    }
   ],
   "source": [
    "X = customers[[\"tenure\", \"monthly_charges\"]]\n",
    "y = customers[\"total_charges\"]\n",
    "\n",
    "X_train, X_test, y_train, y_test = train_test_split(X, y,test_size=.2, random_state = 123)\n",
    "\n",
    "print('X_train:', X_train.shape)\n",
    "print('X_test:', X_test.shape)\n",
    "print('y_train:', y_train.shape)\n",
    "print('y_test:', y_test.shape)"
   ]
  },
  {
   "cell_type": "code",
   "execution_count": 5,
   "metadata": {},
   "outputs": [
    {
     "data": {
      "text/html": [
       "<div>\n",
       "<style scoped>\n",
       "    .dataframe tbody tr th:only-of-type {\n",
       "        vertical-align: middle;\n",
       "    }\n",
       "\n",
       "    .dataframe tbody tr th {\n",
       "        vertical-align: top;\n",
       "    }\n",
       "\n",
       "    .dataframe thead th {\n",
       "        text-align: right;\n",
       "    }\n",
       "</style>\n",
       "<table border=\"1\" class=\"dataframe\">\n",
       "  <thead>\n",
       "    <tr style=\"text-align: right;\">\n",
       "      <th></th>\n",
       "      <th>tenure</th>\n",
       "      <th>monthly_charges</th>\n",
       "    </tr>\n",
       "  </thead>\n",
       "  <tbody>\n",
       "    <tr>\n",
       "      <td>119</td>\n",
       "      <td>70</td>\n",
       "      <td>75.50</td>\n",
       "    </tr>\n",
       "    <tr>\n",
       "      <td>1424</td>\n",
       "      <td>55</td>\n",
       "      <td>20.30</td>\n",
       "    </tr>\n",
       "    <tr>\n",
       "      <td>385</td>\n",
       "      <td>65</td>\n",
       "      <td>109.05</td>\n",
       "    </tr>\n",
       "    <tr>\n",
       "      <td>1140</td>\n",
       "      <td>70</td>\n",
       "      <td>98.30</td>\n",
       "    </tr>\n",
       "    <tr>\n",
       "      <td>1504</td>\n",
       "      <td>71</td>\n",
       "      <td>116.25</td>\n",
       "    </tr>\n",
       "    <tr>\n",
       "      <td>...</td>\n",
       "      <td>...</td>\n",
       "      <td>...</td>\n",
       "    </tr>\n",
       "    <tr>\n",
       "      <td>1131</td>\n",
       "      <td>65</td>\n",
       "      <td>19.85</td>\n",
       "    </tr>\n",
       "    <tr>\n",
       "      <td>1356</td>\n",
       "      <td>63</td>\n",
       "      <td>19.55</td>\n",
       "    </tr>\n",
       "    <tr>\n",
       "      <td>1416</td>\n",
       "      <td>7</td>\n",
       "      <td>19.85</td>\n",
       "    </tr>\n",
       "    <tr>\n",
       "      <td>1399</td>\n",
       "      <td>35</td>\n",
       "      <td>69.15</td>\n",
       "    </tr>\n",
       "    <tr>\n",
       "      <td>1544</td>\n",
       "      <td>10</td>\n",
       "      <td>26.10</td>\n",
       "    </tr>\n",
       "  </tbody>\n",
       "</table>\n",
       "<p>1348 rows × 2 columns</p>\n",
       "</div>"
      ],
      "text/plain": [
       "      tenure  monthly_charges\n",
       "119       70            75.50\n",
       "1424      55            20.30\n",
       "385       65           109.05\n",
       "1140      70            98.30\n",
       "1504      71           116.25\n",
       "...      ...              ...\n",
       "1131      65            19.85\n",
       "1356      63            19.55\n",
       "1416       7            19.85\n",
       "1399      35            69.15\n",
       "1544      10            26.10\n",
       "\n",
       "[1348 rows x 2 columns]"
      ]
     },
     "execution_count": 5,
     "metadata": {},
     "output_type": "execute_result"
    }
   ],
   "source": [
    "X_train"
   ]
  },
  {
   "cell_type": "markdown",
   "metadata": {},
   "source": [
    "Now we transform the data\n",
    "\n",
    "**Standard_scaler**"
   ]
  },
  {
   "cell_type": "code",
   "execution_count": 6,
   "metadata": {},
   "outputs": [],
   "source": [
    "scaler = StandardScaler().fit(X_train, y_train)\n",
    "\n",
    "X_train_scaled = pd.DataFrame(scaler.transform(X_train), columns=X_train.columns.values).set_index([X_train.index.values])\n",
    "\n",
    "X_test_scaled = pd.DataFrame(scaler.transform(X_test), columns=X_test.columns.values).set_index([X_test.index.values])"
   ]
  },
  {
   "cell_type": "code",
   "execution_count": 7,
   "metadata": {},
   "outputs": [
    {
     "data": {
      "text/html": [
       "<div>\n",
       "<style scoped>\n",
       "    .dataframe tbody tr th:only-of-type {\n",
       "        vertical-align: middle;\n",
       "    }\n",
       "\n",
       "    .dataframe tbody tr th {\n",
       "        vertical-align: top;\n",
       "    }\n",
       "\n",
       "    .dataframe thead th {\n",
       "        text-align: right;\n",
       "    }\n",
       "</style>\n",
       "<table border=\"1\" class=\"dataframe\">\n",
       "  <thead>\n",
       "    <tr style=\"text-align: right;\">\n",
       "      <th></th>\n",
       "      <th>tenure</th>\n",
       "      <th>monthly_charges</th>\n",
       "    </tr>\n",
       "  </thead>\n",
       "  <tbody>\n",
       "    <tr>\n",
       "      <td>119</td>\n",
       "      <td>70</td>\n",
       "      <td>75.50</td>\n",
       "    </tr>\n",
       "    <tr>\n",
       "      <td>1424</td>\n",
       "      <td>55</td>\n",
       "      <td>20.30</td>\n",
       "    </tr>\n",
       "    <tr>\n",
       "      <td>385</td>\n",
       "      <td>65</td>\n",
       "      <td>109.05</td>\n",
       "    </tr>\n",
       "    <tr>\n",
       "      <td>1140</td>\n",
       "      <td>70</td>\n",
       "      <td>98.30</td>\n",
       "    </tr>\n",
       "    <tr>\n",
       "      <td>1504</td>\n",
       "      <td>71</td>\n",
       "      <td>116.25</td>\n",
       "    </tr>\n",
       "    <tr>\n",
       "      <td>...</td>\n",
       "      <td>...</td>\n",
       "      <td>...</td>\n",
       "    </tr>\n",
       "    <tr>\n",
       "      <td>1131</td>\n",
       "      <td>65</td>\n",
       "      <td>19.85</td>\n",
       "    </tr>\n",
       "    <tr>\n",
       "      <td>1356</td>\n",
       "      <td>63</td>\n",
       "      <td>19.55</td>\n",
       "    </tr>\n",
       "    <tr>\n",
       "      <td>1416</td>\n",
       "      <td>7</td>\n",
       "      <td>19.85</td>\n",
       "    </tr>\n",
       "    <tr>\n",
       "      <td>1399</td>\n",
       "      <td>35</td>\n",
       "      <td>69.15</td>\n",
       "    </tr>\n",
       "    <tr>\n",
       "      <td>1544</td>\n",
       "      <td>10</td>\n",
       "      <td>26.10</td>\n",
       "    </tr>\n",
       "  </tbody>\n",
       "</table>\n",
       "<p>1348 rows × 2 columns</p>\n",
       "</div>"
      ],
      "text/plain": [
       "      tenure  monthly_charges\n",
       "119       70            75.50\n",
       "1424      55            20.30\n",
       "385       65           109.05\n",
       "1140      70            98.30\n",
       "1504      71           116.25\n",
       "...      ...              ...\n",
       "1131      65            19.85\n",
       "1356      63            19.55\n",
       "1416       7            19.85\n",
       "1399      35            69.15\n",
       "1544      10            26.10\n",
       "\n",
       "[1348 rows x 2 columns]"
      ]
     },
     "execution_count": 7,
     "metadata": {},
     "output_type": "execute_result"
    }
   ],
   "source": [
    "X_train"
   ]
  },
  {
   "cell_type": "code",
   "execution_count": 8,
   "metadata": {},
   "outputs": [],
   "source": [
    "import split_scale"
   ]
  },
  {
   "cell_type": "code",
   "execution_count": 9,
   "metadata": {},
   "outputs": [],
   "source": [
    "train, test, _, _ = split_scale.split_my_data(X, y, .8)"
   ]
  },
  {
   "cell_type": "code",
   "execution_count": 10,
   "metadata": {},
   "outputs": [],
   "source": [
    "scaler, train_scaled, test_scaled = split_scale.standard_scaler(train, test)"
   ]
  },
  {
   "cell_type": "code",
   "execution_count": 11,
   "metadata": {},
   "outputs": [
    {
     "data": {
      "text/plain": [
       "StandardScaler(copy=True, with_mean=True, with_std=True)"
      ]
     },
     "execution_count": 11,
     "metadata": {},
     "output_type": "execute_result"
    }
   ],
   "source": [
    "scaler"
   ]
  },
  {
   "cell_type": "code",
   "execution_count": 12,
   "metadata": {},
   "outputs": [],
   "source": [
    "scaler, train_scaled, test_scaled = split_scale.gaussian_scaler(train, test, False)"
   ]
  },
  {
   "cell_type": "code",
   "execution_count": 13,
   "metadata": {
    "scrolled": true
   },
   "outputs": [
    {
     "data": {
      "text/html": [
       "<div>\n",
       "<style scoped>\n",
       "    .dataframe tbody tr th:only-of-type {\n",
       "        vertical-align: middle;\n",
       "    }\n",
       "\n",
       "    .dataframe tbody tr th {\n",
       "        vertical-align: top;\n",
       "    }\n",
       "\n",
       "    .dataframe thead th {\n",
       "        text-align: right;\n",
       "    }\n",
       "</style>\n",
       "<table border=\"1\" class=\"dataframe\">\n",
       "  <thead>\n",
       "    <tr style=\"text-align: right;\">\n",
       "      <th></th>\n",
       "      <th>tenure</th>\n",
       "      <th>monthly_charges</th>\n",
       "    </tr>\n",
       "  </thead>\n",
       "  <tbody>\n",
       "    <tr>\n",
       "      <td>119</td>\n",
       "      <td>0.813319</td>\n",
       "      <td>0.562438</td>\n",
       "    </tr>\n",
       "    <tr>\n",
       "      <td>1424</td>\n",
       "      <td>-0.318595</td>\n",
       "      <td>-1.262577</td>\n",
       "    </tr>\n",
       "    <tr>\n",
       "      <td>385</td>\n",
       "      <td>0.400918</td>\n",
       "      <td>1.253310</td>\n",
       "    </tr>\n",
       "    <tr>\n",
       "      <td>1140</td>\n",
       "      <td>0.813319</td>\n",
       "      <td>1.048691</td>\n",
       "    </tr>\n",
       "    <tr>\n",
       "      <td>1504</td>\n",
       "      <td>0.900066</td>\n",
       "      <td>1.383335</td>\n",
       "    </tr>\n",
       "    <tr>\n",
       "      <td>...</td>\n",
       "      <td>...</td>\n",
       "      <td>...</td>\n",
       "    </tr>\n",
       "    <tr>\n",
       "      <td>1131</td>\n",
       "      <td>0.400918</td>\n",
       "      <td>-1.286668</td>\n",
       "    </tr>\n",
       "    <tr>\n",
       "      <td>1356</td>\n",
       "      <td>0.245852</td>\n",
       "      <td>-1.302920</td>\n",
       "    </tr>\n",
       "    <tr>\n",
       "      <td>1416</td>\n",
       "      <td>-1.954336</td>\n",
       "      <td>-1.286668</td>\n",
       "    </tr>\n",
       "    <tr>\n",
       "      <td>1399</td>\n",
       "      <td>-1.350400</td>\n",
       "      <td>0.410805</td>\n",
       "    </tr>\n",
       "    <tr>\n",
       "      <td>1544</td>\n",
       "      <td>-1.931993</td>\n",
       "      <td>-0.978374</td>\n",
       "    </tr>\n",
       "  </tbody>\n",
       "</table>\n",
       "<p>1348 rows × 2 columns</p>\n",
       "</div>"
      ],
      "text/plain": [
       "        tenure  monthly_charges\n",
       "119   0.813319         0.562438\n",
       "1424 -0.318595        -1.262577\n",
       "385   0.400918         1.253310\n",
       "1140  0.813319         1.048691\n",
       "1504  0.900066         1.383335\n",
       "...        ...              ...\n",
       "1131  0.400918        -1.286668\n",
       "1356  0.245852        -1.302920\n",
       "1416 -1.954336        -1.286668\n",
       "1399 -1.350400         0.410805\n",
       "1544 -1.931993        -0.978374\n",
       "\n",
       "[1348 rows x 2 columns]"
      ]
     },
     "execution_count": 13,
     "metadata": {},
     "output_type": "execute_result"
    }
   ],
   "source": [
    "train_scaled"
   ]
  },
  {
   "cell_type": "code",
   "execution_count": 14,
   "metadata": {
    "scrolled": true
   },
   "outputs": [],
   "source": [
    "og_train, og_test = split_scale.scale_inverse(scaler, train_scaled, test_scaled)"
   ]
  },
  {
   "cell_type": "code",
   "execution_count": 17,
   "metadata": {},
   "outputs": [
    {
     "data": {
      "text/html": [
       "<div>\n",
       "<style scoped>\n",
       "    .dataframe tbody tr th:only-of-type {\n",
       "        vertical-align: middle;\n",
       "    }\n",
       "\n",
       "    .dataframe tbody tr th {\n",
       "        vertical-align: top;\n",
       "    }\n",
       "\n",
       "    .dataframe thead th {\n",
       "        text-align: right;\n",
       "    }\n",
       "</style>\n",
       "<table border=\"1\" class=\"dataframe\">\n",
       "  <thead>\n",
       "    <tr style=\"text-align: right;\">\n",
       "      <th></th>\n",
       "      <th>tenure</th>\n",
       "      <th>monthly_charges</th>\n",
       "    </tr>\n",
       "  </thead>\n",
       "  <tbody>\n",
       "    <tr>\n",
       "      <td>119</td>\n",
       "      <td>70.0</td>\n",
       "      <td>75.50</td>\n",
       "    </tr>\n",
       "    <tr>\n",
       "      <td>1424</td>\n",
       "      <td>55.0</td>\n",
       "      <td>20.30</td>\n",
       "    </tr>\n",
       "    <tr>\n",
       "      <td>385</td>\n",
       "      <td>65.0</td>\n",
       "      <td>109.05</td>\n",
       "    </tr>\n",
       "    <tr>\n",
       "      <td>1140</td>\n",
       "      <td>70.0</td>\n",
       "      <td>98.30</td>\n",
       "    </tr>\n",
       "    <tr>\n",
       "      <td>1504</td>\n",
       "      <td>71.0</td>\n",
       "      <td>116.25</td>\n",
       "    </tr>\n",
       "    <tr>\n",
       "      <td>...</td>\n",
       "      <td>...</td>\n",
       "      <td>...</td>\n",
       "    </tr>\n",
       "    <tr>\n",
       "      <td>1131</td>\n",
       "      <td>65.0</td>\n",
       "      <td>19.85</td>\n",
       "    </tr>\n",
       "    <tr>\n",
       "      <td>1356</td>\n",
       "      <td>63.0</td>\n",
       "      <td>19.55</td>\n",
       "    </tr>\n",
       "    <tr>\n",
       "      <td>1416</td>\n",
       "      <td>7.0</td>\n",
       "      <td>19.85</td>\n",
       "    </tr>\n",
       "    <tr>\n",
       "      <td>1399</td>\n",
       "      <td>35.0</td>\n",
       "      <td>69.15</td>\n",
       "    </tr>\n",
       "    <tr>\n",
       "      <td>1544</td>\n",
       "      <td>10.0</td>\n",
       "      <td>26.10</td>\n",
       "    </tr>\n",
       "  </tbody>\n",
       "</table>\n",
       "<p>1348 rows × 2 columns</p>\n",
       "</div>"
      ],
      "text/plain": [
       "      tenure  monthly_charges\n",
       "119     70.0            75.50\n",
       "1424    55.0            20.30\n",
       "385     65.0           109.05\n",
       "1140    70.0            98.30\n",
       "1504    71.0           116.25\n",
       "...      ...              ...\n",
       "1131    65.0            19.85\n",
       "1356    63.0            19.55\n",
       "1416     7.0            19.85\n",
       "1399    35.0            69.15\n",
       "1544    10.0            26.10\n",
       "\n",
       "[1348 rows x 2 columns]"
      ]
     },
     "execution_count": 17,
     "metadata": {},
     "output_type": "execute_result"
    }
   ],
   "source": [
    "og_train"
   ]
  },
  {
   "cell_type": "code",
   "execution_count": 15,
   "metadata": {},
   "outputs": [],
   "source": [
    "X_train, X_test, y_train, y_test = split_scale.split_my_data(X, y, .8)"
   ]
  },
  {
   "cell_type": "code",
   "execution_count": 16,
   "metadata": {},
   "outputs": [
    {
     "ename": "ValueError",
     "evalue": "Expected 2D array, got 1D array instead:\narray=[1502.25 7567.2  7049.75 1225.65  587.4  4542.35 2337.45 1042.65 7774.05\n 2768.65 3623.95  106.9  6944.5  1728.2  1849.2   428.45 1035.5  2965.75\n  197.4  1192.7  5717.85 3418.2   269.65 6435.25 4386.2  3846.75 6735.05\n 2424.5   487.95 4908.25 3496.3  1345.85 3238.4   784.25 7856.   5468.45\n 1790.8  3046.4  3983.6  6506.15  788.55 5744.35 1520.1   935.9   498.1\n  305.55 1732.95 1759.55 1090.1   599.25  486.05 8078.1  7082.85 1914.5\n  689.35 3512.9   613.95 1272.05 6441.85 5186.   6194.1  5776.45 5956.85\n 3822.45 6223.8  3517.9  5930.05 4025.5  1436.95 7365.3  6697.2  1680.25\n 2553.7   521.   4664.15 6365.35 2627.35 5487.     96.85 1319.95 7998.8\n 6925.9  2554.   7015.9  5602.25 6733.   6253.   1830.05 1048.45  692.55\n 1414.65  808.95 4230.25 1971.15 5625.55 7251.7  5324.5  7188.5  3486.65\n 4122.65 1458.1  1389.35 6895.5   967.85  470.   5760.65 7895.15 8312.75\n 8041.65 1851.45 4566.5   777.35 1415.85 7853.7  4250.1  7581.5  1873.7\n  515.75 1052.35 6989.7  5607.75 1245.05 1688.9  4720.   1335.2  5950.2\n 1782.05  609.1  4059.85 3166.9  1108.2  1802.55 4735.2  1672.15 5502.55\n 7382.25 3423.5   602.9  1714.95 1031.7   890.5  1170.55 5550.1  5711.05\n 3377.8  7987.6  7634.25 6549.45 2302.35  873.4  5999.85 1379.8   847.25\n 2054.4  1750.7   369.1   373.5  1709.1  1209.25 4860.85 5705.05 6172.\n 2181.75 1790.15  243.65 2879.9  6342.7  1051.9  6368.2  1024.   4759.55\n 2779.5  7854.9  1710.15 6309.65 1234.6  2933.95 7576.7  6668.   4546.\n 5861.75  789.55 5375.15 4895.1  1859.2  7839.85 6333.4  6501.35 2390.45\n 1871.85 4479.2   494.05  630.6   124.45 1183.2   826.   5632.55 4284.2\n 1161.75  520.55 7690.9  6227.5  4995.35 1401.15 2193.2  1988.05 5484.4\n  224.5  3593.8  8182.85 4304.5  2345.55 4845.4  7334.05 3379.25 5963.95\n  571.75 7348.8  6457.15 1022.6  5682.25 4575.35 1638.7   419.4  2006.95\n 1618.2  7337.55 3027.65 1776.   8404.9  6994.6   125.   2398.4  2316.85\n 1809.35 6841.3    68.8  7869.05 8065.65 6376.55 1255.1  5883.85 8399.15\n 1738.9  1725.4  6998.95  553.   5265.2   943.    388.6  1734.65 6042.7\n 7842.3  1412.65 5265.55 4798.4  3794.5  1389.6  3297.   7658.3  4911.35\n 6474.45 1493.1   272.35 7679.65 7843.55 6563.4  6891.4  1023.95 4652.4\n  521.8  4084.35 1344.5  6301.7  4868.4   264.55 2369.3  3533.6  3921.1\n 4590.35 3914.05 4707.85 1298.7  1842.7  4428.45 1028.75 3948.45 1210.3\n 3533.6   265.3  4415.75  116.95 6605.55 5435.   8240.85 4317.35  905.55\n 1492.1  6141.65  223.15 6404.   7542.25 7737.55  978.   3139.8  5730.15\n 8405.    514.75 1482.3  7993.3  4390.25 6333.8  6859.05  509.3   552.1\n 7149.35 1715.15 6640.7  2339.3  8100.55 3177.25 2754.   1240.15 5129.45\n 3370.2  6465.   6707.15 6144.55 7455.45  210.65 1654.6  7261.25 5728.55\n  611.45 1787.35 3084.9   684.4 ].\nReshape your data either using array.reshape(-1, 1) if your data has a single feature or array.reshape(1, -1) if it contains a single sample.",
     "output_type": "error",
     "traceback": [
      "\u001b[0;31m---------------------------------------------------------------------------\u001b[0m",
      "\u001b[0;31mValueError\u001b[0m                                Traceback (most recent call last)",
      "\u001b[0;32m<ipython-input-16-0ef3d1ddaaf3>\u001b[0m in \u001b[0;36m<module>\u001b[0;34m\u001b[0m\n\u001b[0;32m----> 1\u001b[0;31m \u001b[0msacler\u001b[0m\u001b[0;34m,\u001b[0m \u001b[0mtrain\u001b[0m\u001b[0;34m,\u001b[0m \u001b[0mtest\u001b[0m \u001b[0;34m=\u001b[0m \u001b[0msplit_scale\u001b[0m\u001b[0;34m.\u001b[0m\u001b[0mmin_max_scaler\u001b[0m\u001b[0;34m(\u001b[0m\u001b[0my_train\u001b[0m\u001b[0;34m,\u001b[0m \u001b[0my_test\u001b[0m\u001b[0;34m)\u001b[0m\u001b[0;34m\u001b[0m\u001b[0;34m\u001b[0m\u001b[0m\n\u001b[0m",
      "\u001b[0;32m~/codeup_data_science/ds-methodologies-exercises/regression/split_scale.py\u001b[0m in \u001b[0;36mmin_max_scaler\u001b[0;34m(train, test)\u001b[0m\n\u001b[1;32m     67\u001b[0m \u001b[0;31m# Linear scaler\u001b[0m\u001b[0;34m\u001b[0m\u001b[0;34m\u001b[0m\u001b[0;34m\u001b[0m\u001b[0m\n\u001b[1;32m     68\u001b[0m \u001b[0;32mdef\u001b[0m \u001b[0mmin_max_scaler\u001b[0m\u001b[0;34m(\u001b[0m\u001b[0mtrain\u001b[0m\u001b[0;34m,\u001b[0m \u001b[0mtest\u001b[0m\u001b[0;34m)\u001b[0m\u001b[0;34m:\u001b[0m\u001b[0;34m\u001b[0m\u001b[0;34m\u001b[0m\u001b[0m\n\u001b[0;32m---> 69\u001b[0;31m     \u001b[0mscaler\u001b[0m \u001b[0;34m=\u001b[0m \u001b[0mMinMaxScaler\u001b[0m\u001b[0;34m(\u001b[0m\u001b[0;34m)\u001b[0m\u001b[0;34m.\u001b[0m\u001b[0mfit\u001b[0m\u001b[0;34m(\u001b[0m\u001b[0mtest\u001b[0m\u001b[0;34m)\u001b[0m\u001b[0;34m\u001b[0m\u001b[0;34m\u001b[0m\u001b[0m\n\u001b[0m\u001b[1;32m     70\u001b[0m     \u001b[0mscaler\u001b[0m\u001b[0;34m,\u001b[0m \u001b[0mtrain_scaled\u001b[0m\u001b[0;34m,\u001b[0m \u001b[0mtest_scaled\u001b[0m \u001b[0;34m=\u001b[0m \u001b[0mreturn_values\u001b[0m\u001b[0;34m(\u001b[0m\u001b[0mscaler\u001b[0m\u001b[0;34m,\u001b[0m \u001b[0mtrain\u001b[0m \u001b[0;34m,\u001b[0m \u001b[0mtest\u001b[0m\u001b[0;34m)\u001b[0m\u001b[0;34m\u001b[0m\u001b[0;34m\u001b[0m\u001b[0m\n\u001b[1;32m     71\u001b[0m     \u001b[0;32mreturn\u001b[0m \u001b[0mscaler\u001b[0m\u001b[0;34m,\u001b[0m \u001b[0mtrain_scaled\u001b[0m\u001b[0;34m,\u001b[0m \u001b[0mtest_scaled\u001b[0m\u001b[0;34m\u001b[0m\u001b[0;34m\u001b[0m\u001b[0m\n",
      "\u001b[0;32m/usr/local/anaconda3/lib/python3.7/site-packages/sklearn/preprocessing/data.py\u001b[0m in \u001b[0;36mfit\u001b[0;34m(self, X, y)\u001b[0m\n\u001b[1;32m    323\u001b[0m         \u001b[0;31m# Reset internal state before fitting\u001b[0m\u001b[0;34m\u001b[0m\u001b[0;34m\u001b[0m\u001b[0;34m\u001b[0m\u001b[0m\n\u001b[1;32m    324\u001b[0m         \u001b[0mself\u001b[0m\u001b[0;34m.\u001b[0m\u001b[0m_reset\u001b[0m\u001b[0;34m(\u001b[0m\u001b[0;34m)\u001b[0m\u001b[0;34m\u001b[0m\u001b[0;34m\u001b[0m\u001b[0m\n\u001b[0;32m--> 325\u001b[0;31m         \u001b[0;32mreturn\u001b[0m \u001b[0mself\u001b[0m\u001b[0;34m.\u001b[0m\u001b[0mpartial_fit\u001b[0m\u001b[0;34m(\u001b[0m\u001b[0mX\u001b[0m\u001b[0;34m,\u001b[0m \u001b[0my\u001b[0m\u001b[0;34m)\u001b[0m\u001b[0;34m\u001b[0m\u001b[0;34m\u001b[0m\u001b[0m\n\u001b[0m\u001b[1;32m    326\u001b[0m \u001b[0;34m\u001b[0m\u001b[0m\n\u001b[1;32m    327\u001b[0m     \u001b[0;32mdef\u001b[0m \u001b[0mpartial_fit\u001b[0m\u001b[0;34m(\u001b[0m\u001b[0mself\u001b[0m\u001b[0;34m,\u001b[0m \u001b[0mX\u001b[0m\u001b[0;34m,\u001b[0m \u001b[0my\u001b[0m\u001b[0;34m=\u001b[0m\u001b[0;32mNone\u001b[0m\u001b[0;34m)\u001b[0m\u001b[0;34m:\u001b[0m\u001b[0;34m\u001b[0m\u001b[0;34m\u001b[0m\u001b[0m\n",
      "\u001b[0;32m/usr/local/anaconda3/lib/python3.7/site-packages/sklearn/preprocessing/data.py\u001b[0m in \u001b[0;36mpartial_fit\u001b[0;34m(self, X, y)\u001b[0m\n\u001b[1;32m    351\u001b[0m         X = check_array(X, copy=self.copy,\n\u001b[1;32m    352\u001b[0m                         \u001b[0mestimator\u001b[0m\u001b[0;34m=\u001b[0m\u001b[0mself\u001b[0m\u001b[0;34m,\u001b[0m \u001b[0mdtype\u001b[0m\u001b[0;34m=\u001b[0m\u001b[0mFLOAT_DTYPES\u001b[0m\u001b[0;34m,\u001b[0m\u001b[0;34m\u001b[0m\u001b[0;34m\u001b[0m\u001b[0m\n\u001b[0;32m--> 353\u001b[0;31m                         force_all_finite=\"allow-nan\")\n\u001b[0m\u001b[1;32m    354\u001b[0m \u001b[0;34m\u001b[0m\u001b[0m\n\u001b[1;32m    355\u001b[0m         \u001b[0mdata_min\u001b[0m \u001b[0;34m=\u001b[0m \u001b[0mnp\u001b[0m\u001b[0;34m.\u001b[0m\u001b[0mnanmin\u001b[0m\u001b[0;34m(\u001b[0m\u001b[0mX\u001b[0m\u001b[0;34m,\u001b[0m \u001b[0maxis\u001b[0m\u001b[0;34m=\u001b[0m\u001b[0;36m0\u001b[0m\u001b[0;34m)\u001b[0m\u001b[0;34m\u001b[0m\u001b[0;34m\u001b[0m\u001b[0m\n",
      "\u001b[0;32m/usr/local/anaconda3/lib/python3.7/site-packages/sklearn/utils/validation.py\u001b[0m in \u001b[0;36mcheck_array\u001b[0;34m(array, accept_sparse, accept_large_sparse, dtype, order, copy, force_all_finite, ensure_2d, allow_nd, ensure_min_samples, ensure_min_features, warn_on_dtype, estimator)\u001b[0m\n\u001b[1;32m    519\u001b[0m                     \u001b[0;34m\"Reshape your data either using array.reshape(-1, 1) if \"\u001b[0m\u001b[0;34m\u001b[0m\u001b[0;34m\u001b[0m\u001b[0m\n\u001b[1;32m    520\u001b[0m                     \u001b[0;34m\"your data has a single feature or array.reshape(1, -1) \"\u001b[0m\u001b[0;34m\u001b[0m\u001b[0;34m\u001b[0m\u001b[0m\n\u001b[0;32m--> 521\u001b[0;31m                     \"if it contains a single sample.\".format(array))\n\u001b[0m\u001b[1;32m    522\u001b[0m \u001b[0;34m\u001b[0m\u001b[0m\n\u001b[1;32m    523\u001b[0m         \u001b[0;31m# in the future np.flexible dtypes will be handled like object dtypes\u001b[0m\u001b[0;34m\u001b[0m\u001b[0;34m\u001b[0m\u001b[0;34m\u001b[0m\u001b[0m\n",
      "\u001b[0;31mValueError\u001b[0m: Expected 2D array, got 1D array instead:\narray=[1502.25 7567.2  7049.75 1225.65  587.4  4542.35 2337.45 1042.65 7774.05\n 2768.65 3623.95  106.9  6944.5  1728.2  1849.2   428.45 1035.5  2965.75\n  197.4  1192.7  5717.85 3418.2   269.65 6435.25 4386.2  3846.75 6735.05\n 2424.5   487.95 4908.25 3496.3  1345.85 3238.4   784.25 7856.   5468.45\n 1790.8  3046.4  3983.6  6506.15  788.55 5744.35 1520.1   935.9   498.1\n  305.55 1732.95 1759.55 1090.1   599.25  486.05 8078.1  7082.85 1914.5\n  689.35 3512.9   613.95 1272.05 6441.85 5186.   6194.1  5776.45 5956.85\n 3822.45 6223.8  3517.9  5930.05 4025.5  1436.95 7365.3  6697.2  1680.25\n 2553.7   521.   4664.15 6365.35 2627.35 5487.     96.85 1319.95 7998.8\n 6925.9  2554.   7015.9  5602.25 6733.   6253.   1830.05 1048.45  692.55\n 1414.65  808.95 4230.25 1971.15 5625.55 7251.7  5324.5  7188.5  3486.65\n 4122.65 1458.1  1389.35 6895.5   967.85  470.   5760.65 7895.15 8312.75\n 8041.65 1851.45 4566.5   777.35 1415.85 7853.7  4250.1  7581.5  1873.7\n  515.75 1052.35 6989.7  5607.75 1245.05 1688.9  4720.   1335.2  5950.2\n 1782.05  609.1  4059.85 3166.9  1108.2  1802.55 4735.2  1672.15 5502.55\n 7382.25 3423.5   602.9  1714.95 1031.7   890.5  1170.55 5550.1  5711.05\n 3377.8  7987.6  7634.25 6549.45 2302.35  873.4  5999.85 1379.8   847.25\n 2054.4  1750.7   369.1   373.5  1709.1  1209.25 4860.85 5705.05 6172.\n 2181.75 1790.15  243.65 2879.9  6342.7  1051.9  6368.2  1024.   4759.55\n 2779.5  7854.9  1710.15 6309.65 1234.6  2933.95 7576.7  6668.   4546.\n 5861.75  789.55 5375.15 4895.1  1859.2  7839.85 6333.4  6501.35 2390.45\n 1871.85 4479.2   494.05  630.6   124.45 1183.2   826.   5632.55 4284.2\n 1161.75  520.55 7690.9  6227.5  4995.35 1401.15 2193.2  1988.05 5484.4\n  224.5  3593.8  8182.85 4304.5  2345.55 4845.4  7334.05 3379.25 5963.95\n  571.75 7348.8  6457.15 1022.6  5682.25 4575.35 1638.7   419.4  2006.95\n 1618.2  7337.55 3027.65 1776.   8404.9  6994.6   125.   2398.4  2316.85\n 1809.35 6841.3    68.8  7869.05 8065.65 6376.55 1255.1  5883.85 8399.15\n 1738.9  1725.4  6998.95  553.   5265.2   943.    388.6  1734.65 6042.7\n 7842.3  1412.65 5265.55 4798.4  3794.5  1389.6  3297.   7658.3  4911.35\n 6474.45 1493.1   272.35 7679.65 7843.55 6563.4  6891.4  1023.95 4652.4\n  521.8  4084.35 1344.5  6301.7  4868.4   264.55 2369.3  3533.6  3921.1\n 4590.35 3914.05 4707.85 1298.7  1842.7  4428.45 1028.75 3948.45 1210.3\n 3533.6   265.3  4415.75  116.95 6605.55 5435.   8240.85 4317.35  905.55\n 1492.1  6141.65  223.15 6404.   7542.25 7737.55  978.   3139.8  5730.15\n 8405.    514.75 1482.3  7993.3  4390.25 6333.8  6859.05  509.3   552.1\n 7149.35 1715.15 6640.7  2339.3  8100.55 3177.25 2754.   1240.15 5129.45\n 3370.2  6465.   6707.15 6144.55 7455.45  210.65 1654.6  7261.25 5728.55\n  611.45 1787.35 3084.9   684.4 ].\nReshape your data either using array.reshape(-1, 1) if your data has a single feature or array.reshape(1, -1) if it contains a single sample."
     ]
    }
   ],
   "source": [
    "sacler, train, test = split_scale.min_max_scaler(y_train, y_test)"
   ]
  }
 ],
 "metadata": {
  "kernelspec": {
   "display_name": "Python 3",
   "language": "python",
   "name": "python3"
  },
  "language_info": {
   "codemirror_mode": {
    "name": "ipython",
    "version": 3
   },
   "file_extension": ".py",
   "mimetype": "text/x-python",
   "name": "python",
   "nbconvert_exporter": "python",
   "pygments_lexer": "ipython3",
   "version": "3.7.4"
  }
 },
 "nbformat": 4,
 "nbformat_minor": 2
}
