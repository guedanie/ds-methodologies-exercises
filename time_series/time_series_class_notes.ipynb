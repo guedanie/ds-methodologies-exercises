{
 "cells": [
  {
   "cell_type": "markdown",
   "metadata": {},
   "source": [
    "# Overview\n"
   ]
  },
  {
   "cell_type": "markdown",
   "metadata": {},
   "source": [
    "# Class Discussion\n",
    "\n",
    "* More of a sub methodology - fall under regression or classification\n",
    "* It's all about finding patters in temporal data, and making predictioms. \n",
    "    * The features are, by their nature, dependent on one another. \n",
    "    \n",
    "Time Series | Not Time Series |\n",
    "------------|-----------------|\n",
    "Forecast  the number of new customers next month using historical data | Predict number of new customers each month using sales / marketing activity |\n",
    "Features = each historical month | observation = month / year |\n",
    "target = next month | features = previous minth campaign count | \n",
    "\n",
    "\n",
    "* We can use linear regression to get predictions over time, but in this case, we do not use any date elements into the model. In time series, it is the only model where time is a factor that is fed into the model. \n",
    "\n",
    "*Limitation of Time Series*\n",
    "\n",
    "* It is very easy to fall to the curse of dimensionality, jsut because time can be a huge features with lots of dimensions, and thus it leads to use having to create individual models for each group or product. \n",
    "* We can avoid this by using an ensamble algorithm or to cluster them into smaller patters.\n",
    "\n",
    "\n",
    "In time series, you can visualize the entire dataset in one line chart. While in regression models, we visualize observations as scatter plot. Features in time series are dependent on time, while in the linear regression models they are completely independent of each other. \n",
    "\n",
    "## Vocab\n",
    "\n",
    "* **Resampling**: Chaninging the frequency of data points\n",
    "* **Treand**: Long term preogression (increasing or decreasing)\n",
    "* **Seasonality**: Series is influenced by season falctors. Also know as prediodic series\n",
    "* **cyclic**: Fluctuations that are not of a fixed period. Duration of fluctiontion might be something like 2 yrs\n",
    "* **Heteroskedasticity**: Changes in variance over time \n",
    "* **Autocorrelation**: Used to detect non randomess in data. It is a correlation coefficient, but instead of between 2 difference variables, it is between the values of the same variable at 2 different times. (Think of the lotery numbers, the loterry number of tomorrow are in no way correlated to the ones to yesturday). \n",
    "* **Lag Variable**: Previous time step (yesturday is a lag var to today).\n",
    "\n",
    "## New Skills:\n",
    "\n",
    "**Acquisition**: Gather data using a RESTAPI\n",
    "**Prep**: Working with dates (resample(), asfreq())\n",
    "**Explore**: Splitting a TS data into train/test\n",
    "  * `sklearn.model_selection.TimeSeriesSplit`\n",
    "  * Using date cutoff\n",
    "    Vis time series data: Plot simple aggregate\n",
    "    * Rolling aggregate \n",
    "    * Customize dateime axis\n",
    "    * Explore seasonality\n",
    "    * Merge multiple frequencies into same plot\n",
    "\n",
    "**Model**: Forcast / predict methods\n",
    "* Analysing lag\n",
    "* Last observed value\n",
    "* Previous cycle\n"
   ]
  },
  {
   "cell_type": "markdown",
   "metadata": {},
   "source": [
    "# Acquire\n",
    "\n",
    "### Definition: \n",
    "\n",
    "* Concept of sending requests over the internet\n",
    "\n",
    "\n",
    "### Main Types of HTTP Requests:\n",
    "\n",
    "* GET is download request\n",
    "    * GET Request can have key=> value pairs\n",
    "    * THose key=> value pairs go in the URL\n",
    "* POST is Upload request (almost all forms submissions, and definitely login and registration forms use POST)\n",
    "\n",
    "**Responses from Server**\n",
    "\n",
    "* Servers send back respinses with a status code\n",
    "\n",
    "### How we'll use request right now\n",
    "\n",
    "* We'll be sending HTT_ request to a REST API that returns JSON\n",
    "* That means we're using the `request.get` as a programmmatic way to send GET requests instead of using the browser. \n",
    "* REST is a convetion for mapping URL patterns to funcrtions the server runs\n",
    "* The \"method\" column here is a function taht the web server would run to produce the appropriate response given the data from the request URL \n",
    "* THis is a REST at high level \n",
    "\n",
    "## Handling Text Responses\n",
    "\n",
    "* If it's plain text you cna handle and parse\n",
    "* If the string contains HTML\n",
    "    * Save and render in a broweser to see results\n",
    "    * Or parse with BeautifulSoup or similar library\n",
    "* Scraping is a function of getting HTML and then parsing the data you want from it. "
   ]
  },
  {
   "cell_type": "code",
   "execution_count": 2,
   "metadata": {},
   "outputs": [],
   "source": [
    "import requests\n",
    "import pandas as pd"
   ]
  },
  {
   "cell_type": "markdown",
   "metadata": {},
   "source": [
    "# Data Preparation"
   ]
  },
  {
   "cell_type": "markdown",
   "metadata": {},
   "source": [
    "Dealing with dates and dealing with time is one of the biggest challenges when it comes to any type of computer system\n",
    "\n",
    "New skills we will cover in the Data Preparation stage of time series analysis are handling missing values in time series data and working with datetime data.\n",
    "\n",
    "* We will use pd.to_datetime function to set columns as dates\n",
    "* We will use df.sort_values() and DataFrame.set_index() to sort the dataframe by the datetime column and then set that column as the index.\n",
    "* We will use Datetime methods and attributes to answer questions about those dates.\n",
    "* We will select a range of dates using the indexed datetime column: `df['2013-12-29':'2014-01-01']`\n",
    "* We will aggregate and resample using `df.groupby()` and `df.asfreq()`: `df.groupby('sale_date').sum().asfreq('12H')`\n",
    "* We will resample and then aggregate using df.resample() and `df.aggregate()`: `df.resample('2D').aggregate(np.mean)`\n",
    "* We will fill missing values using `df.ffill()` or `df.fillna(method='ffill')`, which fills missing values with the value from the previous row. We can use method=bfill to fill in reverse."
   ]
  },
  {
   "cell_type": "code",
   "execution_count": 2,
   "metadata": {},
   "outputs": [],
   "source": [
    "import pandas as pd\n",
    "from datetime import timedelta, datetime\n",
    "import numpy as np\n",
    "import matplotlib.pyplot as plt\n",
    "\n",
    "%matplotlib inline\n",
    "import warnings\n",
    "warnings.filterwarnings(\"ignore\")\n",
    "\n",
    "import acquire"
   ]
  },
  {
   "cell_type": "code",
   "execution_count": 3,
   "metadata": {},
   "outputs": [],
   "source": [
    "df = acquire.read_complied_data()"
   ]
  },
  {
   "cell_type": "code",
   "execution_count": 5,
   "metadata": {},
   "outputs": [
    {
     "name": "stdout",
     "output_type": "stream",
     "text": [
      "<class 'pandas.core.frame.DataFrame'>\n",
      "RangeIndex: 913000 entries, 0 to 912999\n",
      "Data columns (total 15 columns):\n",
      "item             913000 non-null int64\n",
      "sale_amount      913000 non-null float64\n",
      "sale_date        913000 non-null object\n",
      "sale_id          913000 non-null int64\n",
      "store            913000 non-null int64\n",
      "store_address    913000 non-null object\n",
      "store_city       913000 non-null object\n",
      "store_state      913000 non-null object\n",
      "store_zipcode    913000 non-null int64\n",
      "item_brand       913000 non-null object\n",
      "item_id          913000 non-null int64\n",
      "item_name        913000 non-null object\n",
      "item_price       913000 non-null float64\n",
      "item_upc12       913000 non-null int64\n",
      "item_upc14       913000 non-null int64\n",
      "dtypes: float64(2), int64(7), object(6)\n",
      "memory usage: 104.5+ MB\n"
     ]
    }
   ],
   "source": [
    "df.info()"
   ]
  },
  {
   "cell_type": "markdown",
   "metadata": {},
   "source": [
    "## Prepare Stage\n",
    "\n",
    "* Set dates to datetimes using pd.to_datetime()\n",
    "* Handle any other data preparation/wrangling tasks\n",
    "* Handle nulls or gaps in datetime data.\n",
    "* Explore other timeframes for the timeseries data\n",
    "* It is incredibly important to define what each observation means (a transaction, daily, weekly, etc...)\n",
    "* What do we learn by changing our time window for how we look at the data?\n",
    "\n",
    "## Set Datetime Index\n",
    "\n",
    "* Step 0, specify the column(s) that are datetimes and use pd.to_datetime() to convert them.\n",
    "* Step 1 is to sort values by sale_date (so the observations are in order)\n",
    "* Step 2 is to use .set_index to specify the sale_date column as the row index."
   ]
  },
  {
   "cell_type": "code",
   "execution_count": 6,
   "metadata": {},
   "outputs": [],
   "source": [
    "# Reassign the sale_date column to be a datetime type\n",
    "df['sale_date'] = pd.to_datetime(df['sale_date'])\n",
    "\n",
    "# Sort rows by the date and then set the index as that date\n",
    "df = df.sort_values(\"sale_date\").set_index(\"sale_date\")"
   ]
  },
  {
   "cell_type": "code",
   "execution_count": 15,
   "metadata": {},
   "outputs": [
    {
     "data": {
      "text/html": [
       "<div>\n",
       "<style scoped>\n",
       "    .dataframe tbody tr th:only-of-type {\n",
       "        vertical-align: middle;\n",
       "    }\n",
       "\n",
       "    .dataframe tbody tr th {\n",
       "        vertical-align: top;\n",
       "    }\n",
       "\n",
       "    .dataframe thead th {\n",
       "        text-align: right;\n",
       "    }\n",
       "</style>\n",
       "<table border=\"1\" class=\"dataframe\">\n",
       "  <thead>\n",
       "    <tr style=\"text-align: right;\">\n",
       "      <th></th>\n",
       "      <th>item</th>\n",
       "      <th>sale_amount</th>\n",
       "      <th>sale_id</th>\n",
       "      <th>store</th>\n",
       "      <th>store_address</th>\n",
       "      <th>store_city</th>\n",
       "      <th>store_state</th>\n",
       "      <th>store_zipcode</th>\n",
       "      <th>item_brand</th>\n",
       "      <th>item_id</th>\n",
       "      <th>item_name</th>\n",
       "      <th>item_price</th>\n",
       "      <th>item_upc12</th>\n",
       "      <th>item_upc14</th>\n",
       "    </tr>\n",
       "    <tr>\n",
       "      <th>sale_date</th>\n",
       "      <th></th>\n",
       "      <th></th>\n",
       "      <th></th>\n",
       "      <th></th>\n",
       "      <th></th>\n",
       "      <th></th>\n",
       "      <th></th>\n",
       "      <th></th>\n",
       "      <th></th>\n",
       "      <th></th>\n",
       "      <th></th>\n",
       "      <th></th>\n",
       "      <th></th>\n",
       "      <th></th>\n",
       "    </tr>\n",
       "  </thead>\n",
       "  <tbody>\n",
       "    <tr>\n",
       "      <th>2013-01-01 00:00:00+00:00</th>\n",
       "      <td>1</td>\n",
       "      <td>13.0</td>\n",
       "      <td>1</td>\n",
       "      <td>1</td>\n",
       "      <td>12125 Alamo Ranch Pkwy</td>\n",
       "      <td>San Antonio</td>\n",
       "      <td>TX</td>\n",
       "      <td>78253</td>\n",
       "      <td>Riceland</td>\n",
       "      <td>1</td>\n",
       "      <td>Riceland American Jazmine Rice</td>\n",
       "      <td>0.84</td>\n",
       "      <td>35200264013</td>\n",
       "      <td>35200264013</td>\n",
       "    </tr>\n",
       "    <tr>\n",
       "      <th>2013-01-01 00:00:00+00:00</th>\n",
       "      <td>12</td>\n",
       "      <td>26.0</td>\n",
       "      <td>211817</td>\n",
       "      <td>7</td>\n",
       "      <td>12018 Perrin Beitel Rd</td>\n",
       "      <td>San Antonio</td>\n",
       "      <td>TX</td>\n",
       "      <td>78217</td>\n",
       "      <td>Mueller</td>\n",
       "      <td>12</td>\n",
       "      <td>Mueller Sport Care Basic Support Level Medium ...</td>\n",
       "      <td>8.40</td>\n",
       "      <td>74676640211</td>\n",
       "      <td>74676640211</td>\n",
       "    </tr>\n",
       "    <tr>\n",
       "      <th>2013-01-01 00:00:00+00:00</th>\n",
       "      <td>46</td>\n",
       "      <td>27.0</td>\n",
       "      <td>832657</td>\n",
       "      <td>7</td>\n",
       "      <td>12018 Perrin Beitel Rd</td>\n",
       "      <td>San Antonio</td>\n",
       "      <td>TX</td>\n",
       "      <td>78217</td>\n",
       "      <td>Mama Marys</td>\n",
       "      <td>46</td>\n",
       "      <td>Pizza Sauce</td>\n",
       "      <td>4.65</td>\n",
       "      <td>35457770664</td>\n",
       "      <td>35457770664</td>\n",
       "    </tr>\n",
       "    <tr>\n",
       "      <th>2013-01-01 00:00:00+00:00</th>\n",
       "      <td>12</td>\n",
       "      <td>54.0</td>\n",
       "      <td>213643</td>\n",
       "      <td>8</td>\n",
       "      <td>15000 San Pedro Ave</td>\n",
       "      <td>San Antonio</td>\n",
       "      <td>TX</td>\n",
       "      <td>78232</td>\n",
       "      <td>Mueller</td>\n",
       "      <td>12</td>\n",
       "      <td>Mueller Sport Care Basic Support Level Medium ...</td>\n",
       "      <td>8.40</td>\n",
       "      <td>74676640211</td>\n",
       "      <td>74676640211</td>\n",
       "    </tr>\n",
       "    <tr>\n",
       "      <th>2013-01-01 00:00:00+00:00</th>\n",
       "      <td>12</td>\n",
       "      <td>35.0</td>\n",
       "      <td>215469</td>\n",
       "      <td>9</td>\n",
       "      <td>735 SW Military Dr</td>\n",
       "      <td>San Antonio</td>\n",
       "      <td>TX</td>\n",
       "      <td>78221</td>\n",
       "      <td>Mueller</td>\n",
       "      <td>12</td>\n",
       "      <td>Mueller Sport Care Basic Support Level Medium ...</td>\n",
       "      <td>8.40</td>\n",
       "      <td>74676640211</td>\n",
       "      <td>74676640211</td>\n",
       "    </tr>\n",
       "    <tr>\n",
       "      <th>...</th>\n",
       "      <td>...</td>\n",
       "      <td>...</td>\n",
       "      <td>...</td>\n",
       "      <td>...</td>\n",
       "      <td>...</td>\n",
       "      <td>...</td>\n",
       "      <td>...</td>\n",
       "      <td>...</td>\n",
       "      <td>...</td>\n",
       "      <td>...</td>\n",
       "      <td>...</td>\n",
       "      <td>...</td>\n",
       "      <td>...</td>\n",
       "      <td>...</td>\n",
       "    </tr>\n",
       "    <tr>\n",
       "      <th>2017-12-31 00:00:00+00:00</th>\n",
       "      <td>34</td>\n",
       "      <td>21.0</td>\n",
       "      <td>619014</td>\n",
       "      <td>9</td>\n",
       "      <td>735 SW Military Dr</td>\n",
       "      <td>San Antonio</td>\n",
       "      <td>TX</td>\n",
       "      <td>78221</td>\n",
       "      <td>Halls</td>\n",
       "      <td>34</td>\n",
       "      <td>Halls Menthol Cough Suppresant/oral Anesthetic...</td>\n",
       "      <td>4.17</td>\n",
       "      <td>312546628694</td>\n",
       "      <td>312546628694</td>\n",
       "    </tr>\n",
       "    <tr>\n",
       "      <th>2017-12-31 00:00:00+00:00</th>\n",
       "      <td>34</td>\n",
       "      <td>32.0</td>\n",
       "      <td>620840</td>\n",
       "      <td>10</td>\n",
       "      <td>8503 NW Military Hwy</td>\n",
       "      <td>San Antonio</td>\n",
       "      <td>TX</td>\n",
       "      <td>78231</td>\n",
       "      <td>Halls</td>\n",
       "      <td>34</td>\n",
       "      <td>Halls Menthol Cough Suppresant/oral Anesthetic...</td>\n",
       "      <td>4.17</td>\n",
       "      <td>312546628694</td>\n",
       "      <td>312546628694</td>\n",
       "    </tr>\n",
       "    <tr>\n",
       "      <th>2017-12-31 00:00:00+00:00</th>\n",
       "      <td>35</td>\n",
       "      <td>55.0</td>\n",
       "      <td>622666</td>\n",
       "      <td>1</td>\n",
       "      <td>12125 Alamo Ranch Pkwy</td>\n",
       "      <td>San Antonio</td>\n",
       "      <td>TX</td>\n",
       "      <td>78253</td>\n",
       "      <td>Natures Way</td>\n",
       "      <td>35</td>\n",
       "      <td>Natures Way Forskohlii - 60 Ct</td>\n",
       "      <td>5.19</td>\n",
       "      <td>33674100066</td>\n",
       "      <td>33674100066</td>\n",
       "    </tr>\n",
       "    <tr>\n",
       "      <th>2017-12-31 00:00:00+00:00</th>\n",
       "      <td>33</td>\n",
       "      <td>100.0</td>\n",
       "      <td>598928</td>\n",
       "      <td>8</td>\n",
       "      <td>15000 San Pedro Ave</td>\n",
       "      <td>San Antonio</td>\n",
       "      <td>TX</td>\n",
       "      <td>78232</td>\n",
       "      <td>The First Years</td>\n",
       "      <td>33</td>\n",
       "      <td>Tomy The First Years Gumdrop Orthodontic Pacif...</td>\n",
       "      <td>6.52</td>\n",
       "      <td>71463060078</td>\n",
       "      <td>71463060078</td>\n",
       "    </tr>\n",
       "    <tr>\n",
       "      <th>2017-12-31 00:00:00+00:00</th>\n",
       "      <td>50</td>\n",
       "      <td>82.0</td>\n",
       "      <td>913000</td>\n",
       "      <td>10</td>\n",
       "      <td>8503 NW Military Hwy</td>\n",
       "      <td>San Antonio</td>\n",
       "      <td>TX</td>\n",
       "      <td>78231</td>\n",
       "      <td>Choice</td>\n",
       "      <td>50</td>\n",
       "      <td>Choice Organic Teas Black Tea Classic Black - ...</td>\n",
       "      <td>5.20</td>\n",
       "      <td>47445919221</td>\n",
       "      <td>47445919221</td>\n",
       "    </tr>\n",
       "  </tbody>\n",
       "</table>\n",
       "<p>913000 rows × 14 columns</p>\n",
       "</div>"
      ],
      "text/plain": [
       "                           item  sale_amount  sale_id  store  \\\n",
       "sale_date                                                      \n",
       "2013-01-01 00:00:00+00:00     1         13.0        1      1   \n",
       "2013-01-01 00:00:00+00:00    12         26.0   211817      7   \n",
       "2013-01-01 00:00:00+00:00    46         27.0   832657      7   \n",
       "2013-01-01 00:00:00+00:00    12         54.0   213643      8   \n",
       "2013-01-01 00:00:00+00:00    12         35.0   215469      9   \n",
       "...                         ...          ...      ...    ...   \n",
       "2017-12-31 00:00:00+00:00    34         21.0   619014      9   \n",
       "2017-12-31 00:00:00+00:00    34         32.0   620840     10   \n",
       "2017-12-31 00:00:00+00:00    35         55.0   622666      1   \n",
       "2017-12-31 00:00:00+00:00    33        100.0   598928      8   \n",
       "2017-12-31 00:00:00+00:00    50         82.0   913000     10   \n",
       "\n",
       "                                    store_address   store_city store_state  \\\n",
       "sale_date                                                                    \n",
       "2013-01-01 00:00:00+00:00  12125 Alamo Ranch Pkwy  San Antonio          TX   \n",
       "2013-01-01 00:00:00+00:00  12018 Perrin Beitel Rd  San Antonio          TX   \n",
       "2013-01-01 00:00:00+00:00  12018 Perrin Beitel Rd  San Antonio          TX   \n",
       "2013-01-01 00:00:00+00:00     15000 San Pedro Ave  San Antonio          TX   \n",
       "2013-01-01 00:00:00+00:00      735 SW Military Dr  San Antonio          TX   \n",
       "...                                           ...          ...         ...   \n",
       "2017-12-31 00:00:00+00:00      735 SW Military Dr  San Antonio          TX   \n",
       "2017-12-31 00:00:00+00:00    8503 NW Military Hwy  San Antonio          TX   \n",
       "2017-12-31 00:00:00+00:00  12125 Alamo Ranch Pkwy  San Antonio          TX   \n",
       "2017-12-31 00:00:00+00:00     15000 San Pedro Ave  San Antonio          TX   \n",
       "2017-12-31 00:00:00+00:00    8503 NW Military Hwy  San Antonio          TX   \n",
       "\n",
       "                           store_zipcode       item_brand  item_id  \\\n",
       "sale_date                                                            \n",
       "2013-01-01 00:00:00+00:00          78253         Riceland        1   \n",
       "2013-01-01 00:00:00+00:00          78217          Mueller       12   \n",
       "2013-01-01 00:00:00+00:00          78217       Mama Marys       46   \n",
       "2013-01-01 00:00:00+00:00          78232          Mueller       12   \n",
       "2013-01-01 00:00:00+00:00          78221          Mueller       12   \n",
       "...                                  ...              ...      ...   \n",
       "2017-12-31 00:00:00+00:00          78221            Halls       34   \n",
       "2017-12-31 00:00:00+00:00          78231            Halls       34   \n",
       "2017-12-31 00:00:00+00:00          78253      Natures Way       35   \n",
       "2017-12-31 00:00:00+00:00          78232  The First Years       33   \n",
       "2017-12-31 00:00:00+00:00          78231           Choice       50   \n",
       "\n",
       "                                                                   item_name  \\\n",
       "sale_date                                                                      \n",
       "2013-01-01 00:00:00+00:00                     Riceland American Jazmine Rice   \n",
       "2013-01-01 00:00:00+00:00  Mueller Sport Care Basic Support Level Medium ...   \n",
       "2013-01-01 00:00:00+00:00                                        Pizza Sauce   \n",
       "2013-01-01 00:00:00+00:00  Mueller Sport Care Basic Support Level Medium ...   \n",
       "2013-01-01 00:00:00+00:00  Mueller Sport Care Basic Support Level Medium ...   \n",
       "...                                                                      ...   \n",
       "2017-12-31 00:00:00+00:00  Halls Menthol Cough Suppresant/oral Anesthetic...   \n",
       "2017-12-31 00:00:00+00:00  Halls Menthol Cough Suppresant/oral Anesthetic...   \n",
       "2017-12-31 00:00:00+00:00                     Natures Way Forskohlii - 60 Ct   \n",
       "2017-12-31 00:00:00+00:00  Tomy The First Years Gumdrop Orthodontic Pacif...   \n",
       "2017-12-31 00:00:00+00:00  Choice Organic Teas Black Tea Classic Black - ...   \n",
       "\n",
       "                           item_price    item_upc12    item_upc14  \n",
       "sale_date                                                          \n",
       "2013-01-01 00:00:00+00:00        0.84   35200264013   35200264013  \n",
       "2013-01-01 00:00:00+00:00        8.40   74676640211   74676640211  \n",
       "2013-01-01 00:00:00+00:00        4.65   35457770664   35457770664  \n",
       "2013-01-01 00:00:00+00:00        8.40   74676640211   74676640211  \n",
       "2013-01-01 00:00:00+00:00        8.40   74676640211   74676640211  \n",
       "...                               ...           ...           ...  \n",
       "2017-12-31 00:00:00+00:00        4.17  312546628694  312546628694  \n",
       "2017-12-31 00:00:00+00:00        4.17  312546628694  312546628694  \n",
       "2017-12-31 00:00:00+00:00        5.19   33674100066   33674100066  \n",
       "2017-12-31 00:00:00+00:00        6.52   71463060078   71463060078  \n",
       "2017-12-31 00:00:00+00:00        5.20   47445919221   47445919221  \n",
       "\n",
       "[913000 rows x 14 columns]"
      ]
     },
     "execution_count": 15,
     "metadata": {},
     "output_type": "execute_result"
    }
   ],
   "source": [
    "df"
   ]
  },
  {
   "cell_type": "markdown",
   "metadata": {},
   "source": [
    "## Defining Our Observations\n",
    "\n",
    "* At this stage, what does each row actually measure or observe?\n",
    "* Notice that each row is not a single day. With datetime indeces, we can have multiple rows at the same datetime value.\n",
    "* It looks like each individual row, each observation is a sale of a specific item at a specific store"
   ]
  },
  {
   "cell_type": "markdown",
   "metadata": {},
   "source": [
    "## What is a row? What does that mean in English? What does it mean in the language of the business?\n",
    "\n",
    "* When dealing with any time series datapoints, it is critical to define each observation and what it means\n",
    "* In this context, each sale_id references a given number of item_names sold at a specific store, on a specific day\n",
    "* Each row represents the quantity of a specific item_name sold each day at a specific store\n",
    "* Consider that \"a sale\" may have a different definition to different departments. Finance and compliance may define a sale differently than inventory and purchasing who may define it differently than other departments.\n",
    "\n",
    "### Uing .loc on datetime index to obtain rows by exact date, partial date, or date ranges\n",
    "\n",
    "* `df.loc[\"2013-01-23\"]` returns all the rows that have that exact date\n",
    "* `df.loc[\"2014-12\"]` returns all the rows that belong to December 2014\n",
    "* `df.loc[\"2015-01-01\":\"2015-01-03\"]` returns all the rows on Jan 1st - 3rd, inclusive, in 2015"
   ]
  },
  {
   "cell_type": "code",
   "execution_count": 18,
   "metadata": {},
   "outputs": [
    {
     "data": {
      "text/html": [
       "<div>\n",
       "<style scoped>\n",
       "    .dataframe tbody tr th:only-of-type {\n",
       "        vertical-align: middle;\n",
       "    }\n",
       "\n",
       "    .dataframe tbody tr th {\n",
       "        vertical-align: top;\n",
       "    }\n",
       "\n",
       "    .dataframe thead th {\n",
       "        text-align: right;\n",
       "    }\n",
       "</style>\n",
       "<table border=\"1\" class=\"dataframe\">\n",
       "  <thead>\n",
       "    <tr style=\"text-align: right;\">\n",
       "      <th></th>\n",
       "      <th>item</th>\n",
       "      <th>sale_amount</th>\n",
       "      <th>sale_id</th>\n",
       "      <th>store</th>\n",
       "      <th>store_address</th>\n",
       "      <th>store_city</th>\n",
       "      <th>store_state</th>\n",
       "      <th>store_zipcode</th>\n",
       "      <th>item_brand</th>\n",
       "      <th>item_id</th>\n",
       "      <th>item_name</th>\n",
       "      <th>item_price</th>\n",
       "      <th>item_upc12</th>\n",
       "      <th>item_upc14</th>\n",
       "    </tr>\n",
       "    <tr>\n",
       "      <th>sale_date</th>\n",
       "      <th></th>\n",
       "      <th></th>\n",
       "      <th></th>\n",
       "      <th></th>\n",
       "      <th></th>\n",
       "      <th></th>\n",
       "      <th></th>\n",
       "      <th></th>\n",
       "      <th></th>\n",
       "      <th></th>\n",
       "      <th></th>\n",
       "      <th></th>\n",
       "      <th></th>\n",
       "      <th></th>\n",
       "    </tr>\n",
       "  </thead>\n",
       "  <tbody>\n",
       "    <tr>\n",
       "      <th>2016-01-01 00:00:00+00:00</th>\n",
       "      <td>50</td>\n",
       "      <td>58.0</td>\n",
       "      <td>908618</td>\n",
       "      <td>8</td>\n",
       "      <td>15000 San Pedro Ave</td>\n",
       "      <td>San Antonio</td>\n",
       "      <td>TX</td>\n",
       "      <td>78232</td>\n",
       "      <td>Choice</td>\n",
       "      <td>50</td>\n",
       "      <td>Choice Organic Teas Black Tea Classic Black - ...</td>\n",
       "      <td>5.20</td>\n",
       "      <td>47445919221</td>\n",
       "      <td>47445919221</td>\n",
       "    </tr>\n",
       "    <tr>\n",
       "      <th>2016-01-01 00:00:00+00:00</th>\n",
       "      <td>46</td>\n",
       "      <td>34.0</td>\n",
       "      <td>833752</td>\n",
       "      <td>7</td>\n",
       "      <td>12018 Perrin Beitel Rd</td>\n",
       "      <td>San Antonio</td>\n",
       "      <td>TX</td>\n",
       "      <td>78217</td>\n",
       "      <td>Mama Marys</td>\n",
       "      <td>46</td>\n",
       "      <td>Pizza Sauce</td>\n",
       "      <td>4.65</td>\n",
       "      <td>35457770664</td>\n",
       "      <td>35457770664</td>\n",
       "    </tr>\n",
       "    <tr>\n",
       "      <th>2016-01-01 00:00:00+00:00</th>\n",
       "      <td>38</td>\n",
       "      <td>69.0</td>\n",
       "      <td>689498</td>\n",
       "      <td>8</td>\n",
       "      <td>15000 San Pedro Ave</td>\n",
       "      <td>San Antonio</td>\n",
       "      <td>TX</td>\n",
       "      <td>78232</td>\n",
       "      <td>Sundown Naturals</td>\n",
       "      <td>38</td>\n",
       "      <td>Sundown Naturals Essential Electrolytes Tropic...</td>\n",
       "      <td>3.45</td>\n",
       "      <td>30768540548</td>\n",
       "      <td>30768540548</td>\n",
       "    </tr>\n",
       "  </tbody>\n",
       "</table>\n",
       "</div>"
      ],
      "text/plain": [
       "                           item  sale_amount  sale_id  store  \\\n",
       "sale_date                                                      \n",
       "2016-01-01 00:00:00+00:00    50         58.0   908618      8   \n",
       "2016-01-01 00:00:00+00:00    46         34.0   833752      7   \n",
       "2016-01-01 00:00:00+00:00    38         69.0   689498      8   \n",
       "\n",
       "                                    store_address   store_city store_state  \\\n",
       "sale_date                                                                    \n",
       "2016-01-01 00:00:00+00:00     15000 San Pedro Ave  San Antonio          TX   \n",
       "2016-01-01 00:00:00+00:00  12018 Perrin Beitel Rd  San Antonio          TX   \n",
       "2016-01-01 00:00:00+00:00     15000 San Pedro Ave  San Antonio          TX   \n",
       "\n",
       "                           store_zipcode        item_brand  item_id  \\\n",
       "sale_date                                                             \n",
       "2016-01-01 00:00:00+00:00          78232            Choice       50   \n",
       "2016-01-01 00:00:00+00:00          78217        Mama Marys       46   \n",
       "2016-01-01 00:00:00+00:00          78232  Sundown Naturals       38   \n",
       "\n",
       "                                                                   item_name  \\\n",
       "sale_date                                                                      \n",
       "2016-01-01 00:00:00+00:00  Choice Organic Teas Black Tea Classic Black - ...   \n",
       "2016-01-01 00:00:00+00:00                                        Pizza Sauce   \n",
       "2016-01-01 00:00:00+00:00  Sundown Naturals Essential Electrolytes Tropic...   \n",
       "\n",
       "                           item_price   item_upc12   item_upc14  \n",
       "sale_date                                                        \n",
       "2016-01-01 00:00:00+00:00        5.20  47445919221  47445919221  \n",
       "2016-01-01 00:00:00+00:00        4.65  35457770664  35457770664  \n",
       "2016-01-01 00:00:00+00:00        3.45  30768540548  30768540548  "
      ]
     },
     "execution_count": 18,
     "metadata": {},
     "output_type": "execute_result"
    }
   ],
   "source": [
    "df.loc[\"2016\": \"2017\"].head(3) # Use .loc to return sets of matching rows"
   ]
  },
  {
   "cell_type": "markdown",
   "metadata": {},
   "source": [
    "- The .day_name() method returns the name of the day like Monday or Tuesday - The .month_name() method returns the name of the month. - The .dayofyear attribute gets the ordinal day of the year. - The .week attribute returns the ordinal week in the year - The .daysinmonth attribute returns the number of days this month contains"
   ]
  },
  {
   "cell_type": "code",
   "execution_count": 19,
   "metadata": {},
   "outputs": [
    {
     "data": {
      "text/plain": [
       "<matplotlib.axes._subplots.AxesSubplot at 0x12820b250>"
      ]
     },
     "execution_count": 19,
     "metadata": {},
     "output_type": "execute_result"
    },
    {
     "data": {
      "image/png": "[encoded data removed]",
      "text/plain": [
       "<Figure size 432x288 with 1 Axes>"
      ]
     },
     "metadata": {
      "needs_background": "light"
     },
     "output_type": "display_data"
    }
   ],
   "source": [
    "# Chart out the sum of the sales_amounts by each day\n",
    "by_date = df.groupby(['sale_date'])['sale_amount'].sum().reset_index()\n",
    "by_date.plot(x='sale_date', y='sale_amount')"
   ]
  },
  {
   "cell_type": "markdown",
   "metadata": {},
   "source": [
    "## Let's get to know our data a bit better\n",
    "\n",
    "* Currently, the dataframe has one row per sold item, but what if we need more or less granularity?\n",
    "* Let's get to know our data then consider what it means to define our observation in different ways.\n",
    "* We'll also look at different time-windows for our data.\n",
    "\n",
    "### Plot Target Variable Over Time\n",
    "\n",
    "Generate a quick plot of our target variable over time, the variable we wish to forecast or predict. We will first aggregate the sale_amount by sale_date using sum(), i.e. group by sale_date and sum the sale_amount. We will then do a quick plot of this aggregated data."
   ]
  },
  {
   "cell_type": "markdown",
   "metadata": {},
   "source": [
    "# Grouping by dates to aggregate values"
   ]
  },
  {
   "cell_type": "markdown",
   "metadata": {},
   "source": [
    "## Resampling\n",
    "\n",
    "* Resampling allows us to redefine the frequency of our data. This is changing the time-window of our focus\n",
    "* Residesign the frequency of the data\n",
    "\n",
    "## Downsampling\n",
    "\n",
    "* Downsampling means to redefine our data to have more datapoints than the original\n",
    "* Creates more datapoints than the original\n",
    "* If our original data is daily, but we resample to hourly, it's downsample\n",
    "* One example of why we may do this is to merge less granular data with more granular data.\n",
    "* We will need to handle NaNs introduced by downsampling\n",
    "* We'll likely use `.ffill` or `bfill` to handle the nulls introduced by downsampling. `.ffill` means \"forward fill\", to replace a null with the last good value.\n"
   ]
  },
  {
   "cell_type": "code",
   "execution_count": 20,
   "metadata": {},
   "outputs": [
    {
     "data": {
      "text/plain": [
       "sale_date\n",
       "2013-01-01 00:00:00+00:00    13696.0\n",
       "2013-01-01 12:00:00+00:00        NaN\n",
       "2013-01-02 00:00:00+00:00    13678.0\n",
       "2013-01-02 12:00:00+00:00        NaN\n",
       "2013-01-03 00:00:00+00:00    14488.0\n",
       "Freq: 12H, Name: sale_amount, dtype: float64"
      ]
     },
     "execution_count": 20,
     "metadata": {},
     "output_type": "execute_result"
    }
   ],
   "source": [
    "downsampling_example = df.groupby(\"sale_date\").sale_amount.sum().asfreq(\"12H\")\n",
    "downsampling_example.head()"
   ]
  },
  {
   "cell_type": "code",
   "execution_count": 21,
   "metadata": {},
   "outputs": [
    {
     "data": {
      "text/plain": [
       "sale_date\n",
       "2013-01-01 00:00:00+00:00    13696.0\n",
       "2013-01-01 12:00:00+00:00    13696.0\n",
       "2013-01-02 00:00:00+00:00    13678.0\n",
       "2013-01-02 12:00:00+00:00    13678.0\n",
       "2013-01-03 00:00:00+00:00    14488.0\n",
       "Freq: 12H, Name: sale_amount, dtype: float64"
      ]
     },
     "execution_count": 21,
     "metadata": {},
     "output_type": "execute_result"
    }
   ],
   "source": [
    "downsampling_example.ffill().head()"
   ]
  },
  {
   "cell_type": "markdown",
   "metadata": {},
   "source": [
    "## Upsampling\n",
    "\n",
    "* Upsampling means to create fewer datapoints than the original\n",
    "* If we take hourly data and resample to daily, then we're \"upsampling\"\n",
    "* With upsampling, we lose granulirity\n",
    "* It's critical to use the .resample function when upsampling.\n"
   ]
  },
  {
   "cell_type": "code",
   "execution_count": 22,
   "metadata": {},
   "outputs": [
    {
     "data": {
      "text/plain": [
       "sale_date\n",
       "2013-01-06 00:00:00+00:00    17291.0\n",
       "2013-01-13 00:00:00+00:00    17741.0\n",
       "2013-01-20 00:00:00+00:00    17612.0\n",
       "2013-01-27 00:00:00+00:00    17579.0\n",
       "2013-02-03 00:00:00+00:00    19544.0\n",
       "Freq: W-SUN, Name: sale_amount, dtype: float64"
      ]
     },
     "execution_count": 22,
     "metadata": {},
     "output_type": "execute_result"
    }
   ],
   "source": [
    "# Upsampling without using .resample is destructive. This DROPS DATA AND IS BAD NEWS!\n",
    "df.groupby(\"sale_date\").sale_amount.sum().asfreq(\"W\").head()"
   ]
  },
  {
   "cell_type": "code",
   "execution_count": 23,
   "metadata": {},
   "outputs": [
    {
     "data": {
      "text/plain": [
       "17291.0"
      ]
     },
     "execution_count": 23,
     "metadata": {},
     "output_type": "execute_result"
    }
   ],
   "source": [
    "# Notice how the sum of all sales on this one specific day matches the .asfreq above when we don't use .resample?\n",
    "# This is why we need .resample when upsampling\n",
    "df.loc[\"2013-01-06\"].sale_amount.sum()"
   ]
  },
  {
   "cell_type": "code",
   "execution_count": 24,
   "metadata": {},
   "outputs": [
    {
     "data": {
      "text/plain": [
       "sale_date\n",
       "2013-01-06 00:00:00+00:00     91067.0\n",
       "2013-01-13 00:00:00+00:00    103902.0\n",
       "2013-01-20 00:00:00+00:00    102950.0\n",
       "2013-01-27 00:00:00+00:00    103298.0\n",
       "2013-02-03 00:00:00+00:00    109027.0\n",
       "Freq: W-SUN, Name: sale_amount, dtype: float64"
      ]
     },
     "execution_count": 24,
     "metadata": {},
     "output_type": "execute_result"
    }
   ],
   "source": [
    "# When we .resample by the week, we provide an aggregate function to aggregate all of the granular data\n",
    "# .resample applies the aggregate function to all the datapoints in the time frame to produce the appropriate answer.\n",
    "df.sale_amount.resample(\"W\").sum().head()"
   ]
  },
  {
   "cell_type": "code",
   "execution_count": 25,
   "metadata": {},
   "outputs": [
    {
     "data": {
      "text/plain": [
       "sale_date\n",
       "2013-01-31 00:00:00+00:00    454904.0\n",
       "2013-02-28 00:00:00+00:00    459417.0\n",
       "2013-03-31 00:00:00+00:00    617382.0\n",
       "2013-04-30 00:00:00+00:00    682274.0\n",
       "2013-05-31 00:00:00+00:00    763242.0\n",
       "Freq: M, Name: sale_amount, dtype: float64"
      ]
     },
     "execution_count": 25,
     "metadata": {},
     "output_type": "execute_result"
    }
   ],
   "source": [
    "# Upsample by month and aggregate by sum to show the sum of sales in by month\n",
    "df.sale_amount.resample(\"M\").sum().head()"
   ]
  },
  {
   "cell_type": "code",
   "execution_count": 28,
   "metadata": {},
   "outputs": [
    {
     "data": {
      "text/plain": [
       "store  sale_date                \n",
       "1      2015-06-30 00:00:00+00:00    1500\n",
       "       2015-07-31 00:00:00+00:00    1550\n",
       "       2015-08-31 00:00:00+00:00    1550\n",
       "2      2015-06-30 00:00:00+00:00    1500\n",
       "       2015-07-31 00:00:00+00:00    1550\n",
       "       2015-08-31 00:00:00+00:00    1550\n",
       "3      2015-06-30 00:00:00+00:00    1500\n",
       "Name: sale_amount, dtype: int64"
      ]
     },
     "execution_count": 28,
     "metadata": {},
     "output_type": "execute_result"
    }
   ],
   "source": [
    "# Show rows for the summer months of 2015\n",
    "# Group by store_id, upsample by month, and aggregate by count to produce the number of rows per month\n",
    "df.loc[\"2015-06\":\"2015-08\"].groupby(\"store\").sale_amount.resample(\"M\").count().head(7)"
   ]
  },
  {
   "cell_type": "code",
   "execution_count": 34,
   "metadata": {},
   "outputs": [
    {
     "data": {
      "text/plain": [
       "sale_date\n",
       "2013-12-31 00:00:00+00:00     7941243.0\n",
       "2014-12-31 00:00:00+00:00     9135482.0\n",
       "2015-12-31 00:00:00+00:00     9536887.0\n",
       "2016-12-31 00:00:00+00:00    10357160.0\n",
       "2017-12-31 00:00:00+00:00    10733740.0\n",
       "Freq: A-DEC, Name: sale_amount, dtype: float64"
      ]
     },
     "execution_count": 34,
     "metadata": {},
     "output_type": "execute_result"
    }
   ],
   "source": [
    "# Upsample to show the sum of sales amounts by year\n",
    "df.sale_amount.resample(\"Y\").sum()"
   ]
  },
  {
   "cell_type": "markdown",
   "metadata": {},
   "source": [
    "## Check for time gaps in the data\n",
    "\n",
    "* While there may not be nulls present, the time observations may leave a gap that we need to be able to detect!\n",
    "* Let's check the number of rows vs. the number of timedeltas that may exist between the datetime min and max.\n",
    "* This will check for any gaps in the time data that we may need to handle.\n",
    "* Our algorithm to check for number of timedeltas is df.index.max() - df.index.min() + 1 unit of the observation (day in this case)\n"
   ]
  },
  {
   "cell_type": "code",
   "execution_count": 29,
   "metadata": {},
   "outputs": [
    {
     "name": "stdout",
     "output_type": "stream",
     "text": [
      "Number of rows: 1826\n",
      "Number of timedeltas of a day 1826 days 00:00:00\n"
     ]
    }
   ],
   "source": [
    "print(f\"Number of rows: {df.index.nunique()}\")\n",
    "print(f\"Number of timedeltas of a day {df.index.max() - df.index.min() + timedelta(days=1)}\")"
   ]
  },
  {
   "cell_type": "markdown",
   "metadata": {},
   "source": [
    "## Handling Nulls\n",
    "\n",
    "* There could be many sources of nulls\n",
    "    * A common cause is that new rows might be written when there's activity, not every day or time period, by default\n",
    "    * Older data was recorded weekly, newer data daily, and if they are in one dataframe w/ a daily index, then there will be nulls.\n",
    "    * Downsampling\n",
    "* Downsampling the data to have more datapoints than originally leads us to have nulls\n",
    "* Downsampling may be valuable in case new data has a higher time granularity\n",
    "* Either way, we'll need to handle the nulls. We have .ffill, .bfill, and our trusty fillna method\n",
    "* `.ffill()` forward-fills each null with the previously good value\n",
    "* `.bfill()` backfills each null with the next good null"
   ]
  },
  {
   "cell_type": "code",
   "execution_count": 30,
   "metadata": {},
   "outputs": [
    {
     "data": {
      "text/html": [
       "<div>\n",
       "<style scoped>\n",
       "    .dataframe tbody tr th:only-of-type {\n",
       "        vertical-align: middle;\n",
       "    }\n",
       "\n",
       "    .dataframe tbody tr th {\n",
       "        vertical-align: top;\n",
       "    }\n",
       "\n",
       "    .dataframe thead th {\n",
       "        text-align: right;\n",
       "    }\n",
       "</style>\n",
       "<table border=\"1\" class=\"dataframe\">\n",
       "  <thead>\n",
       "    <tr style=\"text-align: right;\">\n",
       "      <th></th>\n",
       "      <th>sale_amount</th>\n",
       "      <th>ffill</th>\n",
       "      <th>bfill</th>\n",
       "    </tr>\n",
       "    <tr>\n",
       "      <th>sale_date</th>\n",
       "      <th></th>\n",
       "      <th></th>\n",
       "      <th></th>\n",
       "    </tr>\n",
       "  </thead>\n",
       "  <tbody>\n",
       "    <tr>\n",
       "      <th>2013-01-01 00:00:00+00:00</th>\n",
       "      <td>13696.0</td>\n",
       "      <td>13696.0</td>\n",
       "      <td>13696.0</td>\n",
       "    </tr>\n",
       "    <tr>\n",
       "      <th>2013-01-01 12:00:00+00:00</th>\n",
       "      <td>NaN</td>\n",
       "      <td>13696.0</td>\n",
       "      <td>13678.0</td>\n",
       "    </tr>\n",
       "    <tr>\n",
       "      <th>2013-01-02 00:00:00+00:00</th>\n",
       "      <td>13678.0</td>\n",
       "      <td>13678.0</td>\n",
       "      <td>13678.0</td>\n",
       "    </tr>\n",
       "    <tr>\n",
       "      <th>2013-01-02 12:00:00+00:00</th>\n",
       "      <td>NaN</td>\n",
       "      <td>13678.0</td>\n",
       "      <td>14488.0</td>\n",
       "    </tr>\n",
       "    <tr>\n",
       "      <th>2013-01-03 00:00:00+00:00</th>\n",
       "      <td>14488.0</td>\n",
       "      <td>14488.0</td>\n",
       "      <td>14488.0</td>\n",
       "    </tr>\n",
       "  </tbody>\n",
       "</table>\n",
       "</div>"
      ],
      "text/plain": [
       "                           sale_amount    ffill    bfill\n",
       "sale_date                                               \n",
       "2013-01-01 00:00:00+00:00      13696.0  13696.0  13696.0\n",
       "2013-01-01 12:00:00+00:00          NaN  13696.0  13678.0\n",
       "2013-01-02 00:00:00+00:00      13678.0  13678.0  13678.0\n",
       "2013-01-02 12:00:00+00:00          NaN  13678.0  14488.0\n",
       "2013-01-03 00:00:00+00:00      14488.0  14488.0  14488.0"
      ]
     },
     "execution_count": 30,
     "metadata": {},
     "output_type": "execute_result"
    }
   ],
   "source": [
    "# In this example of downsampling, we have daily data and downsample to 12 hour frequency\n",
    "nan_example = df.groupby(\"sale_date\").sum().asfreq(\"12H\")[[\"sale_amount\"]]\n",
    "nan_example[\"ffill\"] = nan_example.sale_amount.ffill()\n",
    "nan_example[\"bfill\"] = nan_example.sale_amount.bfill()\n",
    "nan_example.head()"
   ]
  },
  {
   "cell_type": "markdown",
   "metadata": {},
   "source": [
    "## Rolling Windows\n",
    "\n",
    "* Rolling windows of time allow us to add windows of time\n",
    "* With different aggregation functions, we can have rolling averages, rolling counts, rolling minimums or maximums, etc...\n",
    "* Rolling averages, for example, are often called \"moving averages\"\n"
   ]
  },
  {
   "cell_type": "code",
   "execution_count": 35,
   "metadata": {},
   "outputs": [
    {
     "data": {
      "image/png": "[encoded data removed]",
      "text/plain": [
       "<Figure size 936x504 with 1 Axes>"
      ]
     },
     "metadata": {
      "needs_background": "light"
     },
     "output_type": "display_data"
    }
   ],
   "source": [
    "rolling_example = pd.DataFrame()\n",
    "\n",
    "rolling_example[\"daily_average\"] = df.loc[\"2015\":\"2016\"].groupby(\"sale_date\").sale_amount.mean()\n",
    "rolling_example[\"30_day_avg\"] = rolling_example.daily_average.rolling(30).mean()\n",
    "rolling_example[\"90_day_avg\"] = rolling_example.daily_average.rolling(90).mean()\n",
    "\n",
    "plt.figure(figsize=(13, 7))\n",
    "plt.title(\"Example of Moving Averages\")\n",
    "plt.xlabel(\"Daily Breakdown\")\n",
    "plt.ylabel(\"Average Daily Sales Amount\")\n",
    "\n",
    "# It's useful to lower the alpha/opacity to reduce the noise\n",
    "plt.plot(rolling_example.index, rolling_example.daily_average, alpha=0.1)\n",
    "\n",
    "plt.plot(rolling_example.index, rolling_example[\"30_day_avg\"])\n",
    "plt.plot(rolling_example.index, rolling_example[\"90_day_avg\"])\n",
    "plt.legend(['daily avg', '30 day rolling average','90 day rolling average'], loc='upper left')\n",
    "plt.show()"
   ]
  },
  {
   "cell_type": "markdown",
   "metadata": {},
   "source": [
    "## Lagging and Lead\n",
    "\n",
    "* `.shift` moves the data backwards and forwards by a given amount shift docs\n",
    "* `.diff` finds the difference with the previous observation (or a specified further back observation). diff docs"
   ]
  },
  {
   "cell_type": "code",
   "execution_count": 32,
   "metadata": {},
   "outputs": [
    {
     "data": {
      "text/html": [
       "<div>\n",
       "<style scoped>\n",
       "    .dataframe tbody tr th:only-of-type {\n",
       "        vertical-align: middle;\n",
       "    }\n",
       "\n",
       "    .dataframe tbody tr th {\n",
       "        vertical-align: top;\n",
       "    }\n",
       "\n",
       "    .dataframe thead th {\n",
       "        text-align: right;\n",
       "    }\n",
       "</style>\n",
       "<table border=\"1\" class=\"dataframe\">\n",
       "  <thead>\n",
       "    <tr style=\"text-align: right;\">\n",
       "      <th></th>\n",
       "      <th>item</th>\n",
       "      <th>sale_amount</th>\n",
       "      <th>sale_id</th>\n",
       "      <th>store</th>\n",
       "      <th>store_address</th>\n",
       "      <th>store_city</th>\n",
       "      <th>store_state</th>\n",
       "      <th>store_zipcode</th>\n",
       "      <th>item_brand</th>\n",
       "      <th>item_id</th>\n",
       "      <th>item_name</th>\n",
       "      <th>item_price</th>\n",
       "      <th>item_upc12</th>\n",
       "      <th>item_upc14</th>\n",
       "      <th>shift(-1)</th>\n",
       "      <th>diff(1)</th>\n",
       "    </tr>\n",
       "    <tr>\n",
       "      <th>sale_date</th>\n",
       "      <th></th>\n",
       "      <th></th>\n",
       "      <th></th>\n",
       "      <th></th>\n",
       "      <th></th>\n",
       "      <th></th>\n",
       "      <th></th>\n",
       "      <th></th>\n",
       "      <th></th>\n",
       "      <th></th>\n",
       "      <th></th>\n",
       "      <th></th>\n",
       "      <th></th>\n",
       "      <th></th>\n",
       "      <th></th>\n",
       "      <th></th>\n",
       "    </tr>\n",
       "  </thead>\n",
       "  <tbody>\n",
       "    <tr>\n",
       "      <th>2013-01-01 00:00:00+00:00</th>\n",
       "      <td>1</td>\n",
       "      <td>13.0</td>\n",
       "      <td>1</td>\n",
       "      <td>1</td>\n",
       "      <td>12125 Alamo Ranch Pkwy</td>\n",
       "      <td>San Antonio</td>\n",
       "      <td>TX</td>\n",
       "      <td>78253</td>\n",
       "      <td>Riceland</td>\n",
       "      <td>1</td>\n",
       "      <td>Riceland American Jazmine Rice</td>\n",
       "      <td>0.84</td>\n",
       "      <td>35200264013</td>\n",
       "      <td>35200264013</td>\n",
       "      <td>26.0</td>\n",
       "      <td>NaN</td>\n",
       "    </tr>\n",
       "    <tr>\n",
       "      <th>2013-01-01 00:00:00+00:00</th>\n",
       "      <td>12</td>\n",
       "      <td>26.0</td>\n",
       "      <td>211817</td>\n",
       "      <td>7</td>\n",
       "      <td>12018 Perrin Beitel Rd</td>\n",
       "      <td>San Antonio</td>\n",
       "      <td>TX</td>\n",
       "      <td>78217</td>\n",
       "      <td>Mueller</td>\n",
       "      <td>12</td>\n",
       "      <td>Mueller Sport Care Basic Support Level Medium ...</td>\n",
       "      <td>8.40</td>\n",
       "      <td>74676640211</td>\n",
       "      <td>74676640211</td>\n",
       "      <td>27.0</td>\n",
       "      <td>13.0</td>\n",
       "    </tr>\n",
       "    <tr>\n",
       "      <th>2013-01-01 00:00:00+00:00</th>\n",
       "      <td>46</td>\n",
       "      <td>27.0</td>\n",
       "      <td>832657</td>\n",
       "      <td>7</td>\n",
       "      <td>12018 Perrin Beitel Rd</td>\n",
       "      <td>San Antonio</td>\n",
       "      <td>TX</td>\n",
       "      <td>78217</td>\n",
       "      <td>Mama Marys</td>\n",
       "      <td>46</td>\n",
       "      <td>Pizza Sauce</td>\n",
       "      <td>4.65</td>\n",
       "      <td>35457770664</td>\n",
       "      <td>35457770664</td>\n",
       "      <td>54.0</td>\n",
       "      <td>1.0</td>\n",
       "    </tr>\n",
       "    <tr>\n",
       "      <th>2013-01-01 00:00:00+00:00</th>\n",
       "      <td>12</td>\n",
       "      <td>54.0</td>\n",
       "      <td>213643</td>\n",
       "      <td>8</td>\n",
       "      <td>15000 San Pedro Ave</td>\n",
       "      <td>San Antonio</td>\n",
       "      <td>TX</td>\n",
       "      <td>78232</td>\n",
       "      <td>Mueller</td>\n",
       "      <td>12</td>\n",
       "      <td>Mueller Sport Care Basic Support Level Medium ...</td>\n",
       "      <td>8.40</td>\n",
       "      <td>74676640211</td>\n",
       "      <td>74676640211</td>\n",
       "      <td>35.0</td>\n",
       "      <td>27.0</td>\n",
       "    </tr>\n",
       "    <tr>\n",
       "      <th>2013-01-01 00:00:00+00:00</th>\n",
       "      <td>12</td>\n",
       "      <td>35.0</td>\n",
       "      <td>215469</td>\n",
       "      <td>9</td>\n",
       "      <td>735 SW Military Dr</td>\n",
       "      <td>San Antonio</td>\n",
       "      <td>TX</td>\n",
       "      <td>78221</td>\n",
       "      <td>Mueller</td>\n",
       "      <td>12</td>\n",
       "      <td>Mueller Sport Care Basic Support Level Medium ...</td>\n",
       "      <td>8.40</td>\n",
       "      <td>74676640211</td>\n",
       "      <td>74676640211</td>\n",
       "      <td>41.0</td>\n",
       "      <td>-19.0</td>\n",
       "    </tr>\n",
       "  </tbody>\n",
       "</table>\n",
       "</div>"
      ],
      "text/plain": [
       "                           item  sale_amount  sale_id  store  \\\n",
       "sale_date                                                      \n",
       "2013-01-01 00:00:00+00:00     1         13.0        1      1   \n",
       "2013-01-01 00:00:00+00:00    12         26.0   211817      7   \n",
       "2013-01-01 00:00:00+00:00    46         27.0   832657      7   \n",
       "2013-01-01 00:00:00+00:00    12         54.0   213643      8   \n",
       "2013-01-01 00:00:00+00:00    12         35.0   215469      9   \n",
       "\n",
       "                                    store_address   store_city store_state  \\\n",
       "sale_date                                                                    \n",
       "2013-01-01 00:00:00+00:00  12125 Alamo Ranch Pkwy  San Antonio          TX   \n",
       "2013-01-01 00:00:00+00:00  12018 Perrin Beitel Rd  San Antonio          TX   \n",
       "2013-01-01 00:00:00+00:00  12018 Perrin Beitel Rd  San Antonio          TX   \n",
       "2013-01-01 00:00:00+00:00     15000 San Pedro Ave  San Antonio          TX   \n",
       "2013-01-01 00:00:00+00:00      735 SW Military Dr  San Antonio          TX   \n",
       "\n",
       "                           store_zipcode  item_brand  item_id  \\\n",
       "sale_date                                                       \n",
       "2013-01-01 00:00:00+00:00          78253    Riceland        1   \n",
       "2013-01-01 00:00:00+00:00          78217     Mueller       12   \n",
       "2013-01-01 00:00:00+00:00          78217  Mama Marys       46   \n",
       "2013-01-01 00:00:00+00:00          78232     Mueller       12   \n",
       "2013-01-01 00:00:00+00:00          78221     Mueller       12   \n",
       "\n",
       "                                                                   item_name  \\\n",
       "sale_date                                                                      \n",
       "2013-01-01 00:00:00+00:00                     Riceland American Jazmine Rice   \n",
       "2013-01-01 00:00:00+00:00  Mueller Sport Care Basic Support Level Medium ...   \n",
       "2013-01-01 00:00:00+00:00                                        Pizza Sauce   \n",
       "2013-01-01 00:00:00+00:00  Mueller Sport Care Basic Support Level Medium ...   \n",
       "2013-01-01 00:00:00+00:00  Mueller Sport Care Basic Support Level Medium ...   \n",
       "\n",
       "                           item_price   item_upc12   item_upc14  shift(-1)  \\\n",
       "sale_date                                                                    \n",
       "2013-01-01 00:00:00+00:00        0.84  35200264013  35200264013       26.0   \n",
       "2013-01-01 00:00:00+00:00        8.40  74676640211  74676640211       27.0   \n",
       "2013-01-01 00:00:00+00:00        4.65  35457770664  35457770664       54.0   \n",
       "2013-01-01 00:00:00+00:00        8.40  74676640211  74676640211       35.0   \n",
       "2013-01-01 00:00:00+00:00        8.40  74676640211  74676640211       41.0   \n",
       "\n",
       "                           diff(1)  \n",
       "sale_date                           \n",
       "2013-01-01 00:00:00+00:00      NaN  \n",
       "2013-01-01 00:00:00+00:00     13.0  \n",
       "2013-01-01 00:00:00+00:00      1.0  \n",
       "2013-01-01 00:00:00+00:00     27.0  \n",
       "2013-01-01 00:00:00+00:00    -19.0  "
      ]
     },
     "execution_count": 32,
     "metadata": {},
     "output_type": "execute_result"
    }
   ],
   "source": [
    "df[\"shift(-1)\"] = df.sale_amount.shift(-1)\n",
    "df[\"diff(1)\"] = df.sale_amount.diff(1)\n",
    "df.head()"
   ]
  },
  {
   "cell_type": "code",
   "execution_count": 33,
   "metadata": {},
   "outputs": [],
   "source": [
    "def prep_store_data(df):\n",
    "    return df.asign(sale_date=pd.to_datetime(df.sale_date)).sort_values('sale_date').set_index('sale_date')"
   ]
  }
 ],
 "metadata": {
  "kernelspec": {
   "display_name": "Python 3",
   "language": "python",
   "name": "python3"
  },
  "language_info": {
   "codemirror_mode": {
    "name": "ipython",
    "version": 3
   },
   "file_extension": ".py",
   "mimetype": "text/x-python",
   "name": "python",
   "nbconvert_exporter": "python",
   "pygments_lexer": "ipython3",
   "version": "3.7.4"
  }
 },
 "nbformat": 4,
 "nbformat_minor": 2
}
