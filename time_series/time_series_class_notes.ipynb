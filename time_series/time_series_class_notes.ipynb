{
 "cells": [
  {
   "cell_type": "markdown",
   "metadata": {},
   "source": [
    "# Overview\n"
   ]
  },
  {
   "cell_type": "markdown",
   "metadata": {},
   "source": [
    "# Class Discussion\n",
    "\n",
    "* More of a sub methodology - fall under regression or classification\n",
    "* It's all about finding patters in temporal data, and making predictioms. \n",
    "    * The features are, by their nature, dependent on one another. \n",
    "    \n",
    "Time Series | Not Time Series |\n",
    "------------|-----------------|\n",
    "Forecast  the number of new customers next month using historical data | Predict number of new customers each month using sales / marketing activity |\n",
    "Features = each historical month | observation = month / year |\n",
    "target = next month | features = previous minth campaign count | \n",
    "\n",
    "\n",
    "* We can use linear regression to get predictions over time, but in this case, we do not use any date elements into the model. In time series, it is the only model where time is a factor that is fed into the model. \n",
    "\n",
    "*Limitation of Time Series*\n",
    "\n",
    "* It is very easy to fall to the curse of dimensionality, jsut because time can be a huge features with lots of dimensions, and thus it leads to use having to create individual models for each group or product. \n",
    "* We can avoid this by using an ensamble algorithm or to cluster them into smaller patters.\n",
    "\n",
    "\n",
    "In time series, you can visualize the entire dataset in one line chart. While in regression models, we visualize observations as scatter plot. Features in time series are dependent on time, while in the linear regression models they are completely independent of each other. \n",
    "\n",
    "## Vocab\n",
    "\n",
    "* **Resampling**: Chaninging the frequency of data points\n",
    "* **Treand**: Long term preogression (increasing or decreasing)\n",
    "* **Seasonality**: Series is influenced by season falctors. Also know as prediodic series\n",
    "* **cyclic**: Fluctuations that are not of a fixed period. Duration of fluctiontion might be something like 2 yrs\n",
    "* **Heteroskedasticity**: Changes in variance over time \n",
    "* **Autocorrelation**: Used to detect non randomess in data. It is a correlation coefficient, but instead of between 2 difference variables, it is between the values of the same variable at 2 different times. (Think of the lotery numbers, the loterry number of tomorrow are in no way correlated to the ones to yesturday). \n",
    "* **Lag Variable**: Previous time step (yesturday is a lag var to today).\n",
    "\n",
    "## New Skills:\n",
    "\n",
    "**Acquisition**: Gather data using a RESTAPI\n",
    "**Prep**: Working with dates (resample(), asfreq())\n",
    "**Explore**: Splitting a TS data into train/test\n",
    "  * `sklearn.model_selection.TimeSeriesSplit`\n",
    "  * Using date cutoff\n",
    "    Vis time series data: Plot simple aggregate\n",
    "    * Rolling aggregate \n",
    "    * Customize dateime axis\n",
    "    * Explore seasonality\n",
    "    * Merge multiple frequencies into same plot\n",
    "\n",
    "**Model**: Forcast / predict methods\n",
    "* Analysing lag\n",
    "* Last observed value\n",
    "* Previous cycle\n"
   ]
  },
  {
   "cell_type": "markdown",
   "metadata": {},
   "source": [
    "# Acquire\n",
    "\n",
    "### Definition: \n",
    "\n",
    "* Concept of sending requests over the internet\n",
    "* "
   ]
  }
 ],
 "metadata": {
  "kernelspec": {
   "display_name": "Python 3",
   "language": "python",
   "name": "python3"
  },
  "language_info": {
   "codemirror_mode": {
    "name": "ipython",
    "version": 3
   },
   "file_extension": ".py",
   "mimetype": "text/x-python",
   "name": "python",
   "nbconvert_exporter": "python",
   "pygments_lexer": "ipython3",
   "version": "3.7.4"
  }
 },
 "nbformat": 4,
 "nbformat_minor": 2
}
