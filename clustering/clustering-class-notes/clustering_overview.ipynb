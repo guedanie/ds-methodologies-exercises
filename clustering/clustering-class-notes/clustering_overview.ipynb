{
 "cells": [
  {
   "cell_type": "markdown",
   "metadata": {},
   "source": [
    "# Clustering\n",
    "\n",
    "## About the module:\n",
    "\n",
    "Clustering is an unsupervised machine learning methodology for grouping and identifing similar objects, people, or observations.\n",
    "\n",
    "Clustering is often used as a preprocessing or an exploratory step in the data science pipeline. This is because the cluster that each item is assigned to becomes a feature for a supervised model.\n",
    "\n",
    "In this module, you will be introduced to various clustering algorithms and learn why and when to use them. You will learn how to use clustering methods to identify similar groups using Python and Scikit-Learn. You will learn how to apply these clusters further down the pipeline.\n",
    "\n",
    "## Learning\n",
    "\n",
    "1. Goals\n",
    "\n",
    "    * Understand how clustering is used across multiple industries and use cases.\n",
    "    * Understand how the k-means clustering algorithm works.\n",
    "    * Understand how to use k-means clustering in python.\n",
    "\n",
    "2. Skills\n",
    "\n",
    "    * Cluster observations of a dataset into meaningful groups.\n",
    "    * Methods for estimating parameters for the clustering algorithm.\n",
    "    * Use clustering as a pre-processing step: Creating a feature that labels each observation into a cluster. These clusters are significant drivers of a target outcome you wish to predict.\n",
    "\n",
    "3. Methods/Tools\n",
    "\n",
    "    * sklearn.metrics.pairwise_distances\n",
    "    * sklearn.cluster.KMeans\n"
   ]
  },
  {
   "cell_type": "markdown",
   "metadata": {},
   "source": [
    "# About Clustering"
   ]
  },
  {
   "cell_type": "markdown",
   "metadata": {},
   "source": [
    "# Data Wrangling\n",
    "\n",
    "### Learning Goals\n",
    "\n",
    "* Acquire a sample of data from SQL.\n",
    "* Identify null values, which nulls are 'deal-breakers', i.e. rows removed, which nulls should be represented by 0, and which should be replaced by a value from other methods, such as mean.\n",
    "* Identify outliers and decide what to do with them, if anything (remove, keep as-is, replace).\n",
    "* Data Structure: Aggregate as needed so that every row is an observation and each column is a variable (1 variable and not a measure).\n"
   ]
  },
  {
   "cell_type": "markdown",
   "metadata": {},
   "source": [
    "# Class Discussion\n",
    "\n",
    "## Plan for data prep:\n",
    "\n",
    "1. Acquire and Summarize the data\n",
    "    * How many records do we have? \n",
    "    * What data types do we have? \n",
    "    * Are there columns that should become multiple columns?\n",
    "        * Is a column a string w/ delimeters?\n",
    "    * Are there many columns that should become two columns (.melt)\n",
    "    * what exacly is an observation?\n",
    "    * what does each row represent?\n",
    "1. Handle nulls\n",
    "    * When to remove?\n",
    "        * The row (individal observation)\n",
    "        * The column (the entire features)\n",
    "    * When to replace nulls?\n",
    "    * What to replace nulls with? \n",
    "1. Handle Anomalies/Outliers\n",
    "    * Our first anomaly filter is the IQR rule\n",
    "    * We'll do much deeper dive into outliers/anomalies in a later modele"
   ]
  },
  {
   "cell_type": "code",
   "execution_count": 1,
   "metadata": {},
   "outputs": [],
   "source": [
    "import pandas as pd\n",
    "import numpy as np"
   ]
  },
  {
   "cell_type": "markdown",
   "metadata": {},
   "source": [
    "# Exploration\n",
    "\n"
   ]
  },
  {
   "cell_type": "markdown",
   "metadata": {},
   "source": [
    "Exploratory data analysis is really important because it is what gives us the insights to produce the better models."
   ]
  }
 ],
 "metadata": {
  "kernelspec": {
   "display_name": "Python 3",
   "language": "python",
   "name": "python3"
  },
  "language_info": {
   "codemirror_mode": {
    "name": "ipython",
    "version": 3
   },
   "file_extension": ".py",
   "mimetype": "text/x-python",
   "name": "python",
   "nbconvert_exporter": "python",
   "pygments_lexer": "ipython3",
   "version": "3.7.4"
  }
 },
 "nbformat": 4,
 "nbformat_minor": 2
}
