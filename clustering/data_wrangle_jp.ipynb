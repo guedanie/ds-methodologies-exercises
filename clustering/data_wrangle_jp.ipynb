{
 "cells": [
  {
   "cell_type": "markdown",
   "metadata": {},
   "source": [
    "# Data Wrangle\n",
    "\n",
    "All of these exercises should be done within your bayes-methodologies-exercises repository inside of a directory named clustering. For example, if the exercise directs you to create a file named myfile.py, you should have clustering/myfile.py in your repository.\n",
    "\n",
    "If a file extension is specified, you should create that specific file. If there is not file extension specified, you may either create a python script or a jupyter notebook for the exercise."
   ]
  },
  {
   "cell_type": "markdown",
   "metadata": {},
   "source": [
    "## Zillow\n",
    "\n",
    "For the following, iterate through the steps you would take to create functions: Write the code to do the following in a jupyter notebook, test it, convert to functions, then create the file to house those functions.\n",
    "\n",
    "You will have a zillow.ipynb file and a helper file for each section in the pipeline.\n",
    "\n",
    "### acquire & summarize\n",
    "\n",
    "Acquire data from mySQL using the python module to connect and query. You will want to end with a single dataframe. Make sure to include: the logerror, all fields related to the properties that are available. You will end up using all the tables in the database"
   ]
  },
  {
   "cell_type": "code",
   "execution_count": 1,
   "metadata": {},
   "outputs": [],
   "source": [
    "import pandas as pd\n",
    "import numpy as np\n",
    "from env import sql_database"
   ]
  },
  {
   "cell_type": "code",
   "execution_count": 2,
   "metadata": {},
   "outputs": [],
   "source": [
    "# query = '''\n",
    "\n",
    "# SELECT *\n",
    "# FROM properties_2017\n",
    "# JOIN (\n",
    "# \tSELECT parcelid, `logerror`, max(transactiondate)\n",
    "# \tFROM predictions_2017\n",
    "# \tGROUP BY parcelid, logerror) predictions_2017 USING (parcelid)\n",
    "# LEFT JOIN `typeconstructiontype` USING (typeconstructiontypeid)\n",
    "# LEFT JOIN propertylandusetype USING (propertylandusetypeid)\n",
    "# LEFT JOIN airconditioningtype USING (airconditioningtypeid)\n",
    "# LEFT JOIN architecturalstyletype USING (architecturalstyletypeid)\n",
    "# LEFT JOIN buildingclasstype USING (buildingclasstypeid)\n",
    "# LEFT JOIN `heatingorsystemtype` USING (`heatingorsystemtypeid`)\n",
    "# LEFT JOIN storytype USING (`storytypeid`)\n",
    "# WHERE latitude IS NOT NULL AND longitude IS NOT NULL\n",
    "# ;\n",
    "\n",
    "# '''\n",
    "\n",
    "# data_base_name = \"zillow\""
   ]
  },
  {
   "cell_type": "code",
   "execution_count": 3,
   "metadata": {},
   "outputs": [],
   "source": [
    "# df = sql_database(data_base_name, query)"
   ]
  },
  {
   "cell_type": "code",
   "execution_count": 4,
   "metadata": {},
   "outputs": [],
   "source": [
    "# df.to_csv(\"zillow_data.csv\")"
   ]
  },
  {
   "cell_type": "code",
   "execution_count": 5,
   "metadata": {
    "scrolled": false
   },
   "outputs": [
    {
     "name": "stderr",
     "output_type": "stream",
     "text": [
      "/usr/local/anaconda3/lib/python3.7/site-packages/IPython/core/interactiveshell.py:3058: DtypeWarning: Columns (37,38,62,65,66,68) have mixed types. Specify dtype option on import or set low_memory=False.\n",
      "  interactivity=interactivity, compiler=compiler, result=result)\n"
     ]
    }
   ],
   "source": [
    "df = pd.read_csv(\"zillow_data.csv\")"
   ]
  },
  {
   "cell_type": "code",
   "execution_count": 6,
   "metadata": {},
   "outputs": [],
   "source": [
    "df = df.drop(columns=\"Unnamed: 0\")"
   ]
  },
  {
   "cell_type": "code",
   "execution_count": 7,
   "metadata": {},
   "outputs": [
    {
     "data": {
      "text/plain": [
       "(77575, 68)"
      ]
     },
     "execution_count": 7,
     "metadata": {},
     "output_type": "execute_result"
    }
   ],
   "source": [
    "df.shape"
   ]
  },
  {
   "cell_type": "code",
   "execution_count": 8,
   "metadata": {
    "scrolled": true
   },
   "outputs": [
    {
     "name": "stdout",
     "output_type": "stream",
     "text": [
      "<class 'pandas.core.frame.DataFrame'>\n",
      "RangeIndex: 77575 entries, 0 to 77574\n",
      "Data columns (total 68 columns):\n",
      "storytypeid                     50 non-null float64\n",
      "heatingorsystemtypeid           49570 non-null float64\n",
      "buildingclasstypeid             15 non-null float64\n",
      "architecturalstyletypeid        206 non-null float64\n",
      "airconditioningtypeid           25006 non-null float64\n",
      "propertylandusetypeid           77575 non-null float64\n",
      "typeconstructiontypeid          222 non-null float64\n",
      "parcelid                        77575 non-null int64\n",
      "id                              77575 non-null int64\n",
      "basementsqft                    50 non-null float64\n",
      "bathroomcnt                     77575 non-null float64\n",
      "bedroomcnt                      77575 non-null float64\n",
      "buildingqualitytypeid           49809 non-null float64\n",
      "calculatedbathnbr               76960 non-null float64\n",
      "decktypeid                      614 non-null float64\n",
      "finishedfloor1squarefeet        6035 non-null float64\n",
      "calculatedfinishedsquarefeet    77375 non-null float64\n",
      "finishedsquarefeet12            73920 non-null float64\n",
      "finishedsquarefeet13            42 non-null float64\n",
      "finishedsquarefeet15            3027 non-null float64\n",
      "finishedsquarefeet50            6035 non-null float64\n",
      "finishedsquarefeet6             386 non-null float64\n",
      "fips                            77575 non-null float64\n",
      "fireplacecnt                    8287 non-null float64\n",
      "fullbathcnt                     76960 non-null float64\n",
      "garagecarcnt                    25517 non-null float64\n",
      "garagetotalsqft                 25517 non-null float64\n",
      "hashottuborspa                  1539 non-null float64\n",
      "latitude                        77575 non-null float64\n",
      "longitude                       77575 non-null float64\n",
      "lotsizesquarefeet               69318 non-null float64\n",
      "poolcnt                         16173 non-null float64\n",
      "poolsizesum                     869 non-null float64\n",
      "pooltypeid10                    465 non-null float64\n",
      "pooltypeid2                     1074 non-null float64\n",
      "pooltypeid7                     15078 non-null float64\n",
      "propertycountylandusecode       77575 non-null object\n",
      "propertyzoningdesc              50475 non-null object\n",
      "rawcensustractandblock          77575 non-null float64\n",
      "regionidcity                    76103 non-null float64\n",
      "regionidcounty                  77575 non-null float64\n",
      "regionidneighborhood            30973 non-null float64\n",
      "regionidzip                     77525 non-null float64\n",
      "roomcnt                         77575 non-null float64\n",
      "threequarterbathnbr             10105 non-null float64\n",
      "unitcnt                         50703 non-null float64\n",
      "yardbuildingsqft17              2393 non-null float64\n",
      "yardbuildingsqft26              70 non-null float64\n",
      "yearbuilt                       77306 non-null float64\n",
      "numberofstories                 17596 non-null float64\n",
      "fireplaceflag                   172 non-null float64\n",
      "structuretaxvaluedollarcnt      77460 non-null float64\n",
      "taxvaluedollarcnt               77574 non-null float64\n",
      "assessmentyear                  77575 non-null float64\n",
      "landtaxvaluedollarcnt           77573 non-null float64\n",
      "taxamount                       77570 non-null float64\n",
      "taxdelinquencyflag              2900 non-null object\n",
      "taxdelinquencyyear              2900 non-null float64\n",
      "censustractandblock             77328 non-null float64\n",
      "logerror                        77575 non-null float64\n",
      "max(transactiondate)            77575 non-null object\n",
      "typeconstructiondesc            222 non-null object\n",
      "propertylandusedesc             77575 non-null object\n",
      "airconditioningdesc             25006 non-null object\n",
      "architecturalstyledesc          206 non-null object\n",
      "buildingclassdesc               15 non-null object\n",
      "heatingorsystemdesc             49570 non-null object\n",
      "storydesc                       50 non-null object\n",
      "dtypes: float64(55), int64(2), object(11)\n",
      "memory usage: 40.2+ MB\n"
     ]
    }
   ],
   "source": [
    "df.info()"
   ]
  },
  {
   "cell_type": "code",
   "execution_count": 9,
   "metadata": {},
   "outputs": [
    {
     "data": {
      "text/html": [
       "<div>\n",
       "<style scoped>\n",
       "    .dataframe tbody tr th:only-of-type {\n",
       "        vertical-align: middle;\n",
       "    }\n",
       "\n",
       "    .dataframe tbody tr th {\n",
       "        vertical-align: top;\n",
       "    }\n",
       "\n",
       "    .dataframe thead th {\n",
       "        text-align: right;\n",
       "    }\n",
       "</style>\n",
       "<table border=\"1\" class=\"dataframe\">\n",
       "  <thead>\n",
       "    <tr style=\"text-align: right;\">\n",
       "      <th></th>\n",
       "      <th>storytypeid</th>\n",
       "      <th>heatingorsystemtypeid</th>\n",
       "      <th>buildingclasstypeid</th>\n",
       "      <th>architecturalstyletypeid</th>\n",
       "      <th>airconditioningtypeid</th>\n",
       "      <th>propertylandusetypeid</th>\n",
       "      <th>typeconstructiontypeid</th>\n",
       "      <th>parcelid</th>\n",
       "      <th>id</th>\n",
       "      <th>basementsqft</th>\n",
       "      <th>...</th>\n",
       "      <th>censustractandblock</th>\n",
       "      <th>logerror</th>\n",
       "      <th>max(transactiondate)</th>\n",
       "      <th>typeconstructiondesc</th>\n",
       "      <th>propertylandusedesc</th>\n",
       "      <th>airconditioningdesc</th>\n",
       "      <th>architecturalstyledesc</th>\n",
       "      <th>buildingclassdesc</th>\n",
       "      <th>heatingorsystemdesc</th>\n",
       "      <th>storydesc</th>\n",
       "    </tr>\n",
       "  </thead>\n",
       "  <tbody>\n",
       "    <tr>\n",
       "      <th>0</th>\n",
       "      <td>NaN</td>\n",
       "      <td>2.0</td>\n",
       "      <td>NaN</td>\n",
       "      <td>NaN</td>\n",
       "      <td>NaN</td>\n",
       "      <td>261.0</td>\n",
       "      <td>NaN</td>\n",
       "      <td>10711855</td>\n",
       "      <td>1087254</td>\n",
       "      <td>NaN</td>\n",
       "      <td>...</td>\n",
       "      <td>6.037113e+13</td>\n",
       "      <td>-0.007357</td>\n",
       "      <td>2017-07-07</td>\n",
       "      <td>NaN</td>\n",
       "      <td>Single Family Residential</td>\n",
       "      <td>NaN</td>\n",
       "      <td>NaN</td>\n",
       "      <td>NaN</td>\n",
       "      <td>Central</td>\n",
       "      <td>NaN</td>\n",
       "    </tr>\n",
       "    <tr>\n",
       "      <th>1</th>\n",
       "      <td>NaN</td>\n",
       "      <td>2.0</td>\n",
       "      <td>NaN</td>\n",
       "      <td>NaN</td>\n",
       "      <td>1.0</td>\n",
       "      <td>261.0</td>\n",
       "      <td>NaN</td>\n",
       "      <td>10711877</td>\n",
       "      <td>1072280</td>\n",
       "      <td>NaN</td>\n",
       "      <td>...</td>\n",
       "      <td>6.037113e+13</td>\n",
       "      <td>0.021066</td>\n",
       "      <td>2017-08-29</td>\n",
       "      <td>NaN</td>\n",
       "      <td>Single Family Residential</td>\n",
       "      <td>Central</td>\n",
       "      <td>NaN</td>\n",
       "      <td>NaN</td>\n",
       "      <td>Central</td>\n",
       "      <td>NaN</td>\n",
       "    </tr>\n",
       "    <tr>\n",
       "      <th>2</th>\n",
       "      <td>NaN</td>\n",
       "      <td>2.0</td>\n",
       "      <td>NaN</td>\n",
       "      <td>NaN</td>\n",
       "      <td>1.0</td>\n",
       "      <td>261.0</td>\n",
       "      <td>NaN</td>\n",
       "      <td>10711888</td>\n",
       "      <td>1340933</td>\n",
       "      <td>NaN</td>\n",
       "      <td>...</td>\n",
       "      <td>6.037113e+13</td>\n",
       "      <td>0.077174</td>\n",
       "      <td>2017-04-04</td>\n",
       "      <td>NaN</td>\n",
       "      <td>Single Family Residential</td>\n",
       "      <td>Central</td>\n",
       "      <td>NaN</td>\n",
       "      <td>NaN</td>\n",
       "      <td>Central</td>\n",
       "      <td>NaN</td>\n",
       "    </tr>\n",
       "    <tr>\n",
       "      <th>3</th>\n",
       "      <td>NaN</td>\n",
       "      <td>2.0</td>\n",
       "      <td>NaN</td>\n",
       "      <td>NaN</td>\n",
       "      <td>NaN</td>\n",
       "      <td>261.0</td>\n",
       "      <td>NaN</td>\n",
       "      <td>10711910</td>\n",
       "      <td>1878109</td>\n",
       "      <td>NaN</td>\n",
       "      <td>...</td>\n",
       "      <td>6.037113e+13</td>\n",
       "      <td>-0.041238</td>\n",
       "      <td>2017-03-17</td>\n",
       "      <td>NaN</td>\n",
       "      <td>Single Family Residential</td>\n",
       "      <td>NaN</td>\n",
       "      <td>NaN</td>\n",
       "      <td>NaN</td>\n",
       "      <td>Central</td>\n",
       "      <td>NaN</td>\n",
       "    </tr>\n",
       "    <tr>\n",
       "      <th>4</th>\n",
       "      <td>NaN</td>\n",
       "      <td>2.0</td>\n",
       "      <td>NaN</td>\n",
       "      <td>NaN</td>\n",
       "      <td>NaN</td>\n",
       "      <td>261.0</td>\n",
       "      <td>NaN</td>\n",
       "      <td>10711923</td>\n",
       "      <td>2190858</td>\n",
       "      <td>NaN</td>\n",
       "      <td>...</td>\n",
       "      <td>6.037113e+13</td>\n",
       "      <td>-0.009496</td>\n",
       "      <td>2017-03-24</td>\n",
       "      <td>NaN</td>\n",
       "      <td>Single Family Residential</td>\n",
       "      <td>NaN</td>\n",
       "      <td>NaN</td>\n",
       "      <td>NaN</td>\n",
       "      <td>Central</td>\n",
       "      <td>NaN</td>\n",
       "    </tr>\n",
       "  </tbody>\n",
       "</table>\n",
       "<p>5 rows × 68 columns</p>\n",
       "</div>"
      ],
      "text/plain": [
       "   storytypeid  heatingorsystemtypeid  buildingclasstypeid  \\\n",
       "0          NaN                    2.0                  NaN   \n",
       "1          NaN                    2.0                  NaN   \n",
       "2          NaN                    2.0                  NaN   \n",
       "3          NaN                    2.0                  NaN   \n",
       "4          NaN                    2.0                  NaN   \n",
       "\n",
       "   architecturalstyletypeid  airconditioningtypeid  propertylandusetypeid  \\\n",
       "0                       NaN                    NaN                  261.0   \n",
       "1                       NaN                    1.0                  261.0   \n",
       "2                       NaN                    1.0                  261.0   \n",
       "3                       NaN                    NaN                  261.0   \n",
       "4                       NaN                    NaN                  261.0   \n",
       "\n",
       "   typeconstructiontypeid  parcelid       id  basementsqft  ...  \\\n",
       "0                     NaN  10711855  1087254           NaN  ...   \n",
       "1                     NaN  10711877  1072280           NaN  ...   \n",
       "2                     NaN  10711888  1340933           NaN  ...   \n",
       "3                     NaN  10711910  1878109           NaN  ...   \n",
       "4                     NaN  10711923  2190858           NaN  ...   \n",
       "\n",
       "   censustractandblock  logerror  max(transactiondate)  typeconstructiondesc  \\\n",
       "0         6.037113e+13 -0.007357            2017-07-07                   NaN   \n",
       "1         6.037113e+13  0.021066            2017-08-29                   NaN   \n",
       "2         6.037113e+13  0.077174            2017-04-04                   NaN   \n",
       "3         6.037113e+13 -0.041238            2017-03-17                   NaN   \n",
       "4         6.037113e+13 -0.009496            2017-03-24                   NaN   \n",
       "\n",
       "         propertylandusedesc  airconditioningdesc  architecturalstyledesc  \\\n",
       "0  Single Family Residential                  NaN                     NaN   \n",
       "1  Single Family Residential              Central                     NaN   \n",
       "2  Single Family Residential              Central                     NaN   \n",
       "3  Single Family Residential                  NaN                     NaN   \n",
       "4  Single Family Residential                  NaN                     NaN   \n",
       "\n",
       "   buildingclassdesc  heatingorsystemdesc  storydesc  \n",
       "0                NaN              Central        NaN  \n",
       "1                NaN              Central        NaN  \n",
       "2                NaN              Central        NaN  \n",
       "3                NaN              Central        NaN  \n",
       "4                NaN              Central        NaN  \n",
       "\n",
       "[5 rows x 68 columns]"
      ]
     },
     "execution_count": 9,
     "metadata": {},
     "output_type": "execute_result"
    }
   ],
   "source": [
    "df.head()"
   ]
  },
  {
   "cell_type": "markdown",
   "metadata": {},
   "source": [
    "Write a function that takes in a dataframe of observations and attributes and returns a dataframe where each row is an atttribute name, the first column is the number of rows with missing values for that attribute, and the second column is percent of total rows that have missing values for that attribute. Run the function and document takeaways from this on how you want to handle missing values."
   ]
  },
  {
   "cell_type": "code",
   "execution_count": 10,
   "metadata": {},
   "outputs": [],
   "source": [
    "def find_missing_values_rows(df):\n",
    "    num_rows_missing = df.isnull().sum()\n",
    "    ptc_rows_missing = df.isnull().sum() / df.shape[0]\n",
    "    new_df = pd.DataFrame({\"num_rows_missing\": num_rows_missing, \"pct_rows_missing\": ptc_rows_missing})\n",
    "    return new_df"
   ]
  },
  {
   "cell_type": "code",
   "execution_count": 11,
   "metadata": {
    "scrolled": true
   },
   "outputs": [
    {
     "data": {
      "text/html": [
       "<div>\n",
       "<style scoped>\n",
       "    .dataframe tbody tr th:only-of-type {\n",
       "        vertical-align: middle;\n",
       "    }\n",
       "\n",
       "    .dataframe tbody tr th {\n",
       "        vertical-align: top;\n",
       "    }\n",
       "\n",
       "    .dataframe thead th {\n",
       "        text-align: right;\n",
       "    }\n",
       "</style>\n",
       "<table border=\"1\" class=\"dataframe\">\n",
       "  <thead>\n",
       "    <tr style=\"text-align: right;\">\n",
       "      <th></th>\n",
       "      <th>num_rows_missing</th>\n",
       "      <th>pct_rows_missing</th>\n",
       "    </tr>\n",
       "  </thead>\n",
       "  <tbody>\n",
       "    <tr>\n",
       "      <th>storytypeid</th>\n",
       "      <td>77525</td>\n",
       "      <td>0.999355</td>\n",
       "    </tr>\n",
       "    <tr>\n",
       "      <th>heatingorsystemtypeid</th>\n",
       "      <td>28005</td>\n",
       "      <td>0.361005</td>\n",
       "    </tr>\n",
       "    <tr>\n",
       "      <th>buildingclasstypeid</th>\n",
       "      <td>77560</td>\n",
       "      <td>0.999807</td>\n",
       "    </tr>\n",
       "    <tr>\n",
       "      <th>architecturalstyletypeid</th>\n",
       "      <td>77369</td>\n",
       "      <td>0.997345</td>\n",
       "    </tr>\n",
       "    <tr>\n",
       "      <th>airconditioningtypeid</th>\n",
       "      <td>52569</td>\n",
       "      <td>0.677654</td>\n",
       "    </tr>\n",
       "    <tr>\n",
       "      <th>...</th>\n",
       "      <td>...</td>\n",
       "      <td>...</td>\n",
       "    </tr>\n",
       "    <tr>\n",
       "      <th>airconditioningdesc</th>\n",
       "      <td>52569</td>\n",
       "      <td>0.677654</td>\n",
       "    </tr>\n",
       "    <tr>\n",
       "      <th>architecturalstyledesc</th>\n",
       "      <td>77369</td>\n",
       "      <td>0.997345</td>\n",
       "    </tr>\n",
       "    <tr>\n",
       "      <th>buildingclassdesc</th>\n",
       "      <td>77560</td>\n",
       "      <td>0.999807</td>\n",
       "    </tr>\n",
       "    <tr>\n",
       "      <th>heatingorsystemdesc</th>\n",
       "      <td>28005</td>\n",
       "      <td>0.361005</td>\n",
       "    </tr>\n",
       "    <tr>\n",
       "      <th>storydesc</th>\n",
       "      <td>77525</td>\n",
       "      <td>0.999355</td>\n",
       "    </tr>\n",
       "  </tbody>\n",
       "</table>\n",
       "<p>68 rows × 2 columns</p>\n",
       "</div>"
      ],
      "text/plain": [
       "                          num_rows_missing  pct_rows_missing\n",
       "storytypeid                          77525          0.999355\n",
       "heatingorsystemtypeid                28005          0.361005\n",
       "buildingclasstypeid                  77560          0.999807\n",
       "architecturalstyletypeid             77369          0.997345\n",
       "airconditioningtypeid                52569          0.677654\n",
       "...                                    ...               ...\n",
       "airconditioningdesc                  52569          0.677654\n",
       "architecturalstyledesc               77369          0.997345\n",
       "buildingclassdesc                    77560          0.999807\n",
       "heatingorsystemdesc                  28005          0.361005\n",
       "storydesc                            77525          0.999355\n",
       "\n",
       "[68 rows x 2 columns]"
      ]
     },
     "execution_count": 11,
     "metadata": {},
     "output_type": "execute_result"
    }
   ],
   "source": [
    "new_df = find_missing_values_rows(df)\n",
    "new_df"
   ]
  },
  {
   "cell_type": "markdown",
   "metadata": {},
   "source": [
    "Write a function that takes in a dataframe and returns a dataframe with 3 columns: the number of columns missing, percent of columns missing, and number of rows with n columns missing. Run the function and document takeaways from this on how you want to handle missing values."
   ]
  },
  {
   "cell_type": "code",
   "execution_count": 12,
   "metadata": {
    "scrolled": false
   },
   "outputs": [],
   "source": [
    "def find_missing_rows(df):\n",
    "    num_cols_missing = df.isnull().sum(axis=1)\n",
    "    pct_cols_missing = df.isnull().sum(axis=1) / df.shape[0] \n",
    "    num_rows = df.isnull().sum()\n",
    "\n",
    "    n_columns = pd.DataFrame({\"num_cols_missing\": num_cols_missing, \"ptc_cols_missing\": pct_cols_missing, \"num_rows\": num_rows})\n",
    "    return n_columns"
   ]
  },
  {
   "cell_type": "markdown",
   "metadata": {},
   "source": [
    "### Prepare"
   ]
  },
  {
   "cell_type": "code",
   "execution_count": 13,
   "metadata": {},
   "outputs": [],
   "source": [
    "import seaborn as sns\n",
    "import matplotlib.pyplot as plt"
   ]
  },
  {
   "cell_type": "markdown",
   "metadata": {},
   "source": [
    "Remove any properties that are likely to be something other than single unit properties. (e.g. no duplexes, no land/lot, ...). There are multiple ways to estimate that a property is a single unit, and there is not a single \"right\" answer. But for this exercise, do not purely filter by unitcnt as we did previously. Add some new logic that will reduce the number of properties that are falsely removed. You might want to use # bedrooms, square feet, unit type or the like to then identify those with unitcnt not defined."
   ]
  },
  {
   "cell_type": "code",
   "execution_count": 14,
   "metadata": {},
   "outputs": [
    {
     "name": "stdout",
     "output_type": "stream",
     "text": [
      "<class 'pandas.core.frame.DataFrame'>\n",
      "RangeIndex: 77575 entries, 0 to 77574\n",
      "Data columns (total 68 columns):\n",
      "storytypeid                     50 non-null float64\n",
      "heatingorsystemtypeid           49570 non-null float64\n",
      "buildingclasstypeid             15 non-null float64\n",
      "architecturalstyletypeid        206 non-null float64\n",
      "airconditioningtypeid           25006 non-null float64\n",
      "propertylandusetypeid           77575 non-null float64\n",
      "typeconstructiontypeid          222 non-null float64\n",
      "parcelid                        77575 non-null int64\n",
      "id                              77575 non-null int64\n",
      "basementsqft                    50 non-null float64\n",
      "bathroomcnt                     77575 non-null float64\n",
      "bedroomcnt                      77575 non-null float64\n",
      "buildingqualitytypeid           49809 non-null float64\n",
      "calculatedbathnbr               76960 non-null float64\n",
      "decktypeid                      614 non-null float64\n",
      "finishedfloor1squarefeet        6035 non-null float64\n",
      "calculatedfinishedsquarefeet    77375 non-null float64\n",
      "finishedsquarefeet12            73920 non-null float64\n",
      "finishedsquarefeet13            42 non-null float64\n",
      "finishedsquarefeet15            3027 non-null float64\n",
      "finishedsquarefeet50            6035 non-null float64\n",
      "finishedsquarefeet6             386 non-null float64\n",
      "fips                            77575 non-null float64\n",
      "fireplacecnt                    8287 non-null float64\n",
      "fullbathcnt                     76960 non-null float64\n",
      "garagecarcnt                    25517 non-null float64\n",
      "garagetotalsqft                 25517 non-null float64\n",
      "hashottuborspa                  1539 non-null float64\n",
      "latitude                        77575 non-null float64\n",
      "longitude                       77575 non-null float64\n",
      "lotsizesquarefeet               69318 non-null float64\n",
      "poolcnt                         16173 non-null float64\n",
      "poolsizesum                     869 non-null float64\n",
      "pooltypeid10                    465 non-null float64\n",
      "pooltypeid2                     1074 non-null float64\n",
      "pooltypeid7                     15078 non-null float64\n",
      "propertycountylandusecode       77575 non-null object\n",
      "propertyzoningdesc              50475 non-null object\n",
      "rawcensustractandblock          77575 non-null float64\n",
      "regionidcity                    76103 non-null float64\n",
      "regionidcounty                  77575 non-null float64\n",
      "regionidneighborhood            30973 non-null float64\n",
      "regionidzip                     77525 non-null float64\n",
      "roomcnt                         77575 non-null float64\n",
      "threequarterbathnbr             10105 non-null float64\n",
      "unitcnt                         50703 non-null float64\n",
      "yardbuildingsqft17              2393 non-null float64\n",
      "yardbuildingsqft26              70 non-null float64\n",
      "yearbuilt                       77306 non-null float64\n",
      "numberofstories                 17596 non-null float64\n",
      "fireplaceflag                   172 non-null float64\n",
      "structuretaxvaluedollarcnt      77460 non-null float64\n",
      "taxvaluedollarcnt               77574 non-null float64\n",
      "assessmentyear                  77575 non-null float64\n",
      "landtaxvaluedollarcnt           77573 non-null float64\n",
      "taxamount                       77570 non-null float64\n",
      "taxdelinquencyflag              2900 non-null object\n",
      "taxdelinquencyyear              2900 non-null float64\n",
      "censustractandblock             77328 non-null float64\n",
      "logerror                        77575 non-null float64\n",
      "max(transactiondate)            77575 non-null object\n",
      "typeconstructiondesc            222 non-null object\n",
      "propertylandusedesc             77575 non-null object\n",
      "airconditioningdesc             25006 non-null object\n",
      "architecturalstyledesc          206 non-null object\n",
      "buildingclassdesc               15 non-null object\n",
      "heatingorsystemdesc             49570 non-null object\n",
      "storydesc                       50 non-null object\n",
      "dtypes: float64(55), int64(2), object(11)\n",
      "memory usage: 40.2+ MB\n"
     ]
    }
   ],
   "source": [
    "df.info()"
   ]
  },
  {
   "cell_type": "code",
   "execution_count": 15,
   "metadata": {},
   "outputs": [
    {
     "data": {
      "text/plain": [
       "26872"
      ]
     },
     "execution_count": 15,
     "metadata": {},
     "output_type": "execute_result"
    }
   ],
   "source": [
    "df.unitcnt.isnull().sum()"
   ]
  },
  {
   "cell_type": "code",
   "execution_count": 16,
   "metadata": {
    "scrolled": true
   },
   "outputs": [
    {
     "data": {
      "text/plain": [
       "1.0      47413\n",
       "2.0       2031\n",
       "4.0        726\n",
       "3.0        529\n",
       "6.0          1\n",
       "45.0         1\n",
       "237.0        1\n",
       "42.0         1\n",
       "Name: unitcnt, dtype: int64"
      ]
     },
     "execution_count": 16,
     "metadata": {},
     "output_type": "execute_result"
    }
   ],
   "source": [
    "df.unitcnt.value_counts()"
   ]
  },
  {
   "cell_type": "code",
   "execution_count": 17,
   "metadata": {
    "scrolled": false
   },
   "outputs": [
    {
     "data": {
      "text/html": [
       "<div>\n",
       "<style scoped>\n",
       "    .dataframe tbody tr th:only-of-type {\n",
       "        vertical-align: middle;\n",
       "    }\n",
       "\n",
       "    .dataframe tbody tr th {\n",
       "        vertical-align: top;\n",
       "    }\n",
       "\n",
       "    .dataframe thead tr th {\n",
       "        text-align: left;\n",
       "    }\n",
       "\n",
       "    .dataframe thead tr:last-of-type th {\n",
       "        text-align: right;\n",
       "    }\n",
       "</style>\n",
       "<table border=\"1\" class=\"dataframe\">\n",
       "  <thead>\n",
       "    <tr>\n",
       "      <th></th>\n",
       "      <th colspan=\"2\" halign=\"left\">bedroomcnt</th>\n",
       "      <th colspan=\"2\" halign=\"left\">bathroomcnt</th>\n",
       "      <th colspan=\"2\" halign=\"left\">calculatedfinishedsquarefeet</th>\n",
       "      <th colspan=\"2\" halign=\"left\">taxvaluedollarcnt</th>\n",
       "    </tr>\n",
       "    <tr>\n",
       "      <th></th>\n",
       "      <th>max</th>\n",
       "      <th>min</th>\n",
       "      <th>max</th>\n",
       "      <th>min</th>\n",
       "      <th>max</th>\n",
       "      <th>min</th>\n",
       "      <th>max</th>\n",
       "      <th>min</th>\n",
       "    </tr>\n",
       "    <tr>\n",
       "      <th>unitcnt</th>\n",
       "      <th></th>\n",
       "      <th></th>\n",
       "      <th></th>\n",
       "      <th></th>\n",
       "      <th></th>\n",
       "      <th></th>\n",
       "      <th></th>\n",
       "      <th></th>\n",
       "    </tr>\n",
       "  </thead>\n",
       "  <tbody>\n",
       "    <tr>\n",
       "      <th>1.0</th>\n",
       "      <td>11.0</td>\n",
       "      <td>0.0</td>\n",
       "      <td>13.0</td>\n",
       "      <td>0.0</td>\n",
       "      <td>35640.0</td>\n",
       "      <td>152.0</td>\n",
       "      <td>25381250.0</td>\n",
       "      <td>1000.0</td>\n",
       "    </tr>\n",
       "    <tr>\n",
       "      <th>2.0</th>\n",
       "      <td>14.0</td>\n",
       "      <td>0.0</td>\n",
       "      <td>18.0</td>\n",
       "      <td>0.0</td>\n",
       "      <td>18654.0</td>\n",
       "      <td>432.0</td>\n",
       "      <td>49061236.0</td>\n",
       "      <td>18998.0</td>\n",
       "    </tr>\n",
       "    <tr>\n",
       "      <th>3.0</th>\n",
       "      <td>13.0</td>\n",
       "      <td>0.0</td>\n",
       "      <td>10.0</td>\n",
       "      <td>0.0</td>\n",
       "      <td>18197.0</td>\n",
       "      <td>384.0</td>\n",
       "      <td>4906845.0</td>\n",
       "      <td>29435.0</td>\n",
       "    </tr>\n",
       "    <tr>\n",
       "      <th>4.0</th>\n",
       "      <td>16.0</td>\n",
       "      <td>0.0</td>\n",
       "      <td>9.0</td>\n",
       "      <td>0.0</td>\n",
       "      <td>6862.0</td>\n",
       "      <td>1136.0</td>\n",
       "      <td>5373376.0</td>\n",
       "      <td>28437.0</td>\n",
       "    </tr>\n",
       "    <tr>\n",
       "      <th>6.0</th>\n",
       "      <td>4.0</td>\n",
       "      <td>4.0</td>\n",
       "      <td>3.0</td>\n",
       "      <td>3.0</td>\n",
       "      <td>1582.0</td>\n",
       "      <td>1582.0</td>\n",
       "      <td>233437.0</td>\n",
       "      <td>233437.0</td>\n",
       "    </tr>\n",
       "    <tr>\n",
       "      <th>42.0</th>\n",
       "      <td>0.0</td>\n",
       "      <td>0.0</td>\n",
       "      <td>0.0</td>\n",
       "      <td>0.0</td>\n",
       "      <td>10422.0</td>\n",
       "      <td>10422.0</td>\n",
       "      <td>561320.0</td>\n",
       "      <td>561320.0</td>\n",
       "    </tr>\n",
       "    <tr>\n",
       "      <th>45.0</th>\n",
       "      <td>0.0</td>\n",
       "      <td>0.0</td>\n",
       "      <td>0.0</td>\n",
       "      <td>0.0</td>\n",
       "      <td>3709.0</td>\n",
       "      <td>3709.0</td>\n",
       "      <td>329438.0</td>\n",
       "      <td>329438.0</td>\n",
       "    </tr>\n",
       "    <tr>\n",
       "      <th>237.0</th>\n",
       "      <td>0.0</td>\n",
       "      <td>0.0</td>\n",
       "      <td>0.0</td>\n",
       "      <td>0.0</td>\n",
       "      <td>3472.0</td>\n",
       "      <td>3472.0</td>\n",
       "      <td>1045707.0</td>\n",
       "      <td>1045707.0</td>\n",
       "    </tr>\n",
       "  </tbody>\n",
       "</table>\n",
       "</div>"
      ],
      "text/plain": [
       "        bedroomcnt      bathroomcnt      calculatedfinishedsquarefeet  \\\n",
       "               max  min         max  min                          max   \n",
       "unitcnt                                                                 \n",
       "1.0           11.0  0.0        13.0  0.0                      35640.0   \n",
       "2.0           14.0  0.0        18.0  0.0                      18654.0   \n",
       "3.0           13.0  0.0        10.0  0.0                      18197.0   \n",
       "4.0           16.0  0.0         9.0  0.0                       6862.0   \n",
       "6.0            4.0  4.0         3.0  3.0                       1582.0   \n",
       "42.0           0.0  0.0         0.0  0.0                      10422.0   \n",
       "45.0           0.0  0.0         0.0  0.0                       3709.0   \n",
       "237.0          0.0  0.0         0.0  0.0                       3472.0   \n",
       "\n",
       "                 taxvaluedollarcnt             \n",
       "             min               max        min  \n",
       "unitcnt                                        \n",
       "1.0        152.0        25381250.0     1000.0  \n",
       "2.0        432.0        49061236.0    18998.0  \n",
       "3.0        384.0         4906845.0    29435.0  \n",
       "4.0       1136.0         5373376.0    28437.0  \n",
       "6.0       1582.0          233437.0   233437.0  \n",
       "42.0     10422.0          561320.0   561320.0  \n",
       "45.0      3709.0          329438.0   329438.0  \n",
       "237.0     3472.0         1045707.0  1045707.0  "
      ]
     },
     "execution_count": 17,
     "metadata": {},
     "output_type": "execute_result"
    }
   ],
   "source": [
    "df.groupby(\"unitcnt\")[\"bedroomcnt\", \"bathroomcnt\", \"calculatedfinishedsquarefeet\", \"taxvaluedollarcnt\"].agg([\"max\", \"min\"])"
   ]
  },
  {
   "cell_type": "code",
   "execution_count": 18,
   "metadata": {},
   "outputs": [
    {
     "data": {
      "text/plain": [
       "unitcnt  propertylandusedesc                     \n",
       "1.0      Commercial/Office/Residential Mixed Used        8\n",
       "         Condominium                                 11527\n",
       "         Cooperative                                    29\n",
       "         Duplex (2 Units, Any Combination)              21\n",
       "         Mobile Home                                    53\n",
       "         Planned Unit Development                     1940\n",
       "         Residential General                            10\n",
       "         Single Family Residential                   33817\n",
       "         Townhouse                                       6\n",
       "         Triplex (3 Units, Any Combination)              2\n",
       "2.0      Condominium                                     5\n",
       "         Duplex (2 Units, Any Combination)            1981\n",
       "         Quadruplex (4 Units, Any Combination)           2\n",
       "         Residential General                             1\n",
       "         Single Family Residential                      29\n",
       "         Triplex (3 Units, Any Combination)             13\n",
       "3.0      Commercial/Office/Residential Mixed Used        1\n",
       "         Condominium                                     2\n",
       "         Quadruplex (4 Units, Any Combination)           4\n",
       "         Single Family Residential                       1\n",
       "         Triplex (3 Units, Any Combination)            521\n",
       "4.0      Commercial/Office/Residential Mixed Used        2\n",
       "         Duplex (2 Units, Any Combination)               1\n",
       "         Quadruplex (4 Units, Any Combination)         719\n",
       "         Residential General                             3\n",
       "         Triplex (3 Units, Any Combination)              1\n",
       "6.0      Condominium                                     1\n",
       "42.0     Commercial/Office/Residential Mixed Used        1\n",
       "45.0     Quadruplex (4 Units, Any Combination)           1\n",
       "237.0    Triplex (3 Units, Any Combination)              1\n",
       "Name: propertylandusedesc, dtype: int64"
      ]
     },
     "execution_count": 18,
     "metadata": {},
     "output_type": "execute_result"
    }
   ],
   "source": [
    "df.groupby([\"unitcnt\", \"propertylandusedesc\"]).propertylandusedesc.count()"
   ]
  },
  {
   "cell_type": "markdown",
   "metadata": {},
   "source": [
    "It seems that most signle unit properties have a property land use description of either \"comdominum\" or \"Single Family Residential\". While other unitcnt also have these descriptions, they are by far the minority, and would be ok dropping them. This is great because there are no null values for property land use."
   ]
  },
  {
   "cell_type": "code",
   "execution_count": 19,
   "metadata": {},
   "outputs": [
    {
     "data": {
      "text/plain": [
       "propertylandusedesc\n",
       "Cluster Home                                    335\n",
       "Commercial/Office/Residential Mixed Used          3\n",
       "Condominium                                    7806\n",
       "Duplex (2 Units, Any Combination)                18\n",
       "Manufactured, Modular, Prefabricated Homes       59\n",
       "Mobile Home                                      21\n",
       "Planned Unit Development                          7\n",
       "Quadruplex (4 Units, Any Combination)             3\n",
       "Residential General                              27\n",
       "Single Family Residential                     18592\n",
       "Triplex (3 Units, Any Combination)                1\n",
       "Name: bedroomcnt, dtype: int64"
      ]
     },
     "execution_count": 19,
     "metadata": {},
     "output_type": "execute_result"
    }
   ],
   "source": [
    "df[df[\"unitcnt\"].isnull()].groupby(\"propertylandusedesc\")[\"bedroomcnt\"].count()"
   ]
  },
  {
   "cell_type": "markdown",
   "metadata": {},
   "source": [
    "Here we see - from the values that are missing - that the majority of values are \"Single Family Residential\" or \"Condominium\". I will keep these rows, and assume they are single unit homes, and drop the rest. "
   ]
  },
  {
   "cell_type": "code",
   "execution_count": 20,
   "metadata": {},
   "outputs": [],
   "source": [
    "def impude_unit_cnt(df):\n",
    "    if df.propertylandusedesc == \"Condominium\" or df.propertylandusedesc == \"Single Family Residential\":\n",
    "        return 1\n",
    "    else:\n",
    "        return 0"
   ]
  },
  {
   "cell_type": "code",
   "execution_count": 21,
   "metadata": {},
   "outputs": [],
   "source": [
    "df.unitcnt = df.unitcnt.fillna(df.apply(lambda col: impude_unit_cnt(col), axis = 1))"
   ]
  },
  {
   "cell_type": "code",
   "execution_count": 22,
   "metadata": {
    "scrolled": true
   },
   "outputs": [
    {
     "data": {
      "text/plain": [
       "1.0      73811\n",
       "2.0       2031\n",
       "4.0        726\n",
       "3.0        529\n",
       "0.0        474\n",
       "6.0          1\n",
       "45.0         1\n",
       "237.0        1\n",
       "42.0         1\n",
       "Name: unitcnt, dtype: int64"
      ]
     },
     "execution_count": 22,
     "metadata": {},
     "output_type": "execute_result"
    }
   ],
   "source": [
    "df.unitcnt.value_counts()"
   ]
  },
  {
   "cell_type": "code",
   "execution_count": 23,
   "metadata": {},
   "outputs": [],
   "source": [
    "df = df[df.unitcnt == 1]"
   ]
  },
  {
   "cell_type": "markdown",
   "metadata": {},
   "source": [
    "2. Create a function that will drop rows or columns based on the percent of values that are missing: handle_missing_values(df, prop_required_column, prop_required_row).\n",
    "\n",
    "* The input:\n",
    "    * A dataframe\n",
    "    * A number between 0 and 1 that represents the proportion, for each column, of rows with non-missing values required to keep the column. i.e. if prop_required_column = .6, then you are requiring a column to have at least 60% of values not-NA (no more than 40% missing).\n",
    "     * A number between 0 and 1 that represents the proportion, for each row, of columns/variables with non-missing values required to keep the row. For example, if prop_required_row = .75, then you are requiring a row to have at least 75% of variables with a non-missing value (no more that 25% missing).\n",
    "\n",
    "\n",
    "\n",
    "* The output:\n",
    "    * The dataframe with the columns and rows dropped as indicated. Be sure to drop the columns prior to the rows in your function."
   ]
  },
  {
   "cell_type": "code",
   "execution_count": 24,
   "metadata": {},
   "outputs": [],
   "source": [
    "def handle_missing_values(df, prop_required_column, prop_required_row):\n",
    "    df.dropna(axis=1, thresh= (prop_required_column * df.shape[0]), inplace=True)\n",
    "    df.dropna(thresh= (prop_required_row * df.shape[1]), inplace=True)\n",
    "    return df"
   ]
  },
  {
   "cell_type": "code",
   "execution_count": 25,
   "metadata": {},
   "outputs": [
    {
     "name": "stdout",
     "output_type": "stream",
     "text": [
      "<class 'pandas.core.frame.DataFrame'>\n",
      "Int64Index: 73794 entries, 0 to 77573\n",
      "Data columns (total 30 columns):\n",
      "propertylandusetypeid           73794 non-null float64\n",
      "parcelid                        73794 non-null int64\n",
      "id                              73794 non-null int64\n",
      "bathroomcnt                     73794 non-null float64\n",
      "bedroomcnt                      73794 non-null float64\n",
      "calculatedbathnbr               73585 non-null float64\n",
      "calculatedfinishedsquarefeet    73664 non-null float64\n",
      "finishedsquarefeet12            73458 non-null float64\n",
      "fips                            73794 non-null float64\n",
      "fullbathcnt                     73585 non-null float64\n",
      "latitude                        73794 non-null float64\n",
      "longitude                       73794 non-null float64\n",
      "lotsizesquarefeet               65622 non-null float64\n",
      "propertycountylandusecode       73794 non-null object\n",
      "rawcensustractandblock          73794 non-null float64\n",
      "regionidcity                    72351 non-null float64\n",
      "regionidcounty                  73794 non-null float64\n",
      "regionidzip                     73752 non-null float64\n",
      "roomcnt                         73794 non-null float64\n",
      "unitcnt                         73794 non-null float64\n",
      "yearbuilt                       73630 non-null float64\n",
      "structuretaxvaluedollarcnt      73712 non-null float64\n",
      "taxvaluedollarcnt               73793 non-null float64\n",
      "assessmentyear                  73794 non-null float64\n",
      "landtaxvaluedollarcnt           73793 non-null float64\n",
      "taxamount                       73789 non-null float64\n",
      "censustractandblock             73576 non-null float64\n",
      "logerror                        73794 non-null float64\n",
      "max(transactiondate)            73794 non-null object\n",
      "propertylandusedesc             73794 non-null object\n",
      "dtypes: float64(25), int64(2), object(3)\n",
      "memory usage: 17.5+ MB\n"
     ]
    }
   ],
   "source": [
    "df = handle_missing_values(df, .8, .8)\n",
    "df.info()"
   ]
  },
  {
   "cell_type": "markdown",
   "metadata": {},
   "source": [
    "Decide how to handle the remaining missing values:\n",
    "\n",
    "* Fill with constant value.\n",
    "* Impute with mean, median, mode.\n",
    "* Drop row/column"
   ]
  },
  {
   "cell_type": "code",
   "execution_count": 26,
   "metadata": {},
   "outputs": [],
   "source": [
    "bath = df.bathroomcnt != 0\n",
    "bedroom = df.bedroomcnt != 0\n",
    "df = df[bedroom & bath]"
   ]
  },
  {
   "cell_type": "markdown",
   "metadata": {},
   "source": [
    "Take-aways:\n",
    "\n",
    "* I know from experience that `calculatedbathnbr` is the same as `bathroomcnt`, so I ok dropping that column all together.\n",
    "* I don't want to drop any of the `calcualtedfinishedsquarefeet`, so I will try to find the mean for those values. Same goes for `finishedsquarefeet12`\n",
    "* I am not as interested in `fullbathcnt`, so I can drop the column.\n",
    "* I will impude the `lotsizesquarefeet` with the mean."
   ]
  },
  {
   "cell_type": "code",
   "execution_count": 27,
   "metadata": {},
   "outputs": [],
   "source": [
    "df.calculatedfinishedsquarefeet = df.calculatedfinishedsquarefeet.dropna()"
   ]
  },
  {
   "cell_type": "code",
   "execution_count": 28,
   "metadata": {},
   "outputs": [],
   "source": [
    "df.lotsizesquarefeet = df.lotsizesquarefeet.fillna(df.lotsizesquarefeet.mean())"
   ]
  },
  {
   "cell_type": "code",
   "execution_count": 29,
   "metadata": {},
   "outputs": [],
   "source": [
    "df.regionidcity = df.regionidcity.fillna(value=df.regionidcity.mode()[0])"
   ]
  },
  {
   "cell_type": "code",
   "execution_count": 30,
   "metadata": {},
   "outputs": [],
   "source": [
    "df.censustractandblock = df.censustractandblock.fillna(value=df.censustractandblock.mode()[0])"
   ]
  },
  {
   "cell_type": "code",
   "execution_count": 31,
   "metadata": {},
   "outputs": [],
   "source": [
    "df = df.dropna()"
   ]
  },
  {
   "cell_type": "code",
   "execution_count": 32,
   "metadata": {},
   "outputs": [
    {
     "data": {
      "text/plain": [
       "propertylandusetypeid           0\n",
       "parcelid                        0\n",
       "id                              0\n",
       "bathroomcnt                     0\n",
       "bedroomcnt                      0\n",
       "calculatedbathnbr               0\n",
       "calculatedfinishedsquarefeet    0\n",
       "finishedsquarefeet12            0\n",
       "fips                            0\n",
       "fullbathcnt                     0\n",
       "latitude                        0\n",
       "longitude                       0\n",
       "lotsizesquarefeet               0\n",
       "propertycountylandusecode       0\n",
       "rawcensustractandblock          0\n",
       "regionidcity                    0\n",
       "regionidcounty                  0\n",
       "regionidzip                     0\n",
       "roomcnt                         0\n",
       "unitcnt                         0\n",
       "yearbuilt                       0\n",
       "structuretaxvaluedollarcnt      0\n",
       "taxvaluedollarcnt               0\n",
       "assessmentyear                  0\n",
       "landtaxvaluedollarcnt           0\n",
       "taxamount                       0\n",
       "censustractandblock             0\n",
       "logerror                        0\n",
       "max(transactiondate)            0\n",
       "propertylandusedesc             0\n",
       "dtype: int64"
      ]
     },
     "execution_count": 32,
     "metadata": {},
     "output_type": "execute_result"
    }
   ],
   "source": [
    "df.isnull().sum()"
   ]
  },
  {
   "cell_type": "markdown",
   "metadata": {},
   "source": [
    "# Exercise 2\n",
    "\n",
    "* Acquire data from mall_customers.customers in mysql database.\n",
    "* Summarize data (include distributions and descriptive statistics).\n",
    "* Detect outliers using IQR.\n",
    "* Split data (train-test-split).\n",
    "* Encode categorical columns using a one hot encoder.\n",
    "* Handles missing values.\n",
    "* Scaling"
   ]
  },
  {
   "cell_type": "code",
   "execution_count": 33,
   "metadata": {},
   "outputs": [],
   "source": [
    "query = '''\n",
    "\n",
    "SELECT *\n",
    "FROM customers\n",
    "\n",
    "'''\n",
    "\n",
    "data_base_name = \"mall_customers\""
   ]
  },
  {
   "cell_type": "code",
   "execution_count": 34,
   "metadata": {},
   "outputs": [],
   "source": [
    "df = sql_database(data_base_name, query)"
   ]
  },
  {
   "cell_type": "code",
   "execution_count": 35,
   "metadata": {},
   "outputs": [
    {
     "data": {
      "text/html": [
       "<div>\n",
       "<style scoped>\n",
       "    .dataframe tbody tr th:only-of-type {\n",
       "        vertical-align: middle;\n",
       "    }\n",
       "\n",
       "    .dataframe tbody tr th {\n",
       "        vertical-align: top;\n",
       "    }\n",
       "\n",
       "    .dataframe thead th {\n",
       "        text-align: right;\n",
       "    }\n",
       "</style>\n",
       "<table border=\"1\" class=\"dataframe\">\n",
       "  <thead>\n",
       "    <tr style=\"text-align: right;\">\n",
       "      <th></th>\n",
       "      <th>customer_id</th>\n",
       "      <th>gender</th>\n",
       "      <th>age</th>\n",
       "      <th>annual_income</th>\n",
       "      <th>spending_score</th>\n",
       "    </tr>\n",
       "  </thead>\n",
       "  <tbody>\n",
       "    <tr>\n",
       "      <th>0</th>\n",
       "      <td>1</td>\n",
       "      <td>Male</td>\n",
       "      <td>19</td>\n",
       "      <td>15</td>\n",
       "      <td>39</td>\n",
       "    </tr>\n",
       "    <tr>\n",
       "      <th>1</th>\n",
       "      <td>2</td>\n",
       "      <td>Male</td>\n",
       "      <td>21</td>\n",
       "      <td>15</td>\n",
       "      <td>81</td>\n",
       "    </tr>\n",
       "    <tr>\n",
       "      <th>2</th>\n",
       "      <td>3</td>\n",
       "      <td>Female</td>\n",
       "      <td>20</td>\n",
       "      <td>16</td>\n",
       "      <td>6</td>\n",
       "    </tr>\n",
       "    <tr>\n",
       "      <th>3</th>\n",
       "      <td>4</td>\n",
       "      <td>Female</td>\n",
       "      <td>23</td>\n",
       "      <td>16</td>\n",
       "      <td>77</td>\n",
       "    </tr>\n",
       "    <tr>\n",
       "      <th>4</th>\n",
       "      <td>5</td>\n",
       "      <td>Female</td>\n",
       "      <td>31</td>\n",
       "      <td>17</td>\n",
       "      <td>40</td>\n",
       "    </tr>\n",
       "  </tbody>\n",
       "</table>\n",
       "</div>"
      ],
      "text/plain": [
       "   customer_id  gender  age  annual_income  spending_score\n",
       "0            1    Male   19             15              39\n",
       "1            2    Male   21             15              81\n",
       "2            3  Female   20             16               6\n",
       "3            4  Female   23             16              77\n",
       "4            5  Female   31             17              40"
      ]
     },
     "execution_count": 35,
     "metadata": {},
     "output_type": "execute_result"
    }
   ],
   "source": [
    "df.head()"
   ]
  },
  {
   "cell_type": "code",
   "execution_count": 36,
   "metadata": {},
   "outputs": [
    {
     "name": "stdout",
     "output_type": "stream",
     "text": [
      "<class 'pandas.core.frame.DataFrame'>\n",
      "RangeIndex: 200 entries, 0 to 199\n",
      "Data columns (total 5 columns):\n",
      "customer_id       200 non-null int64\n",
      "gender            200 non-null object\n",
      "age               200 non-null int64\n",
      "annual_income     200 non-null int64\n",
      "spending_score    200 non-null int64\n",
      "dtypes: int64(4), object(1)\n",
      "memory usage: 7.9+ KB\n"
     ]
    }
   ],
   "source": [
    "df.info()"
   ]
  },
  {
   "cell_type": "code",
   "execution_count": 37,
   "metadata": {},
   "outputs": [
    {
     "data": {
      "image/png": "[encoded data removed]",
      "text/plain": [
       "<Figure size 432x288 with 1 Axes>"
      ]
     },
     "metadata": {
      "needs_background": "light"
     },
     "output_type": "display_data"
    },
    {
     "data": {
      "image/png": "[encoded data removed]",
      "text/plain": [
       "<Figure size 432x288 with 1 Axes>"
      ]
     },
     "metadata": {
      "needs_background": "light"
     },
     "output_type": "display_data"
    },
    {
     "data": {
      "image/png": "[encoded data removed]",
      "text/plain": [
       "<Figure size 432x288 with 1 Axes>"
      ]
     },
     "metadata": {
      "needs_background": "light"
     },
     "output_type": "display_data"
    },
    {
     "data": {
      "image/png": "[encoded data removed]",
      "text/plain": [
       "<Figure size 432x288 with 1 Axes>"
      ]
     },
     "metadata": {
      "needs_background": "light"
     },
     "output_type": "display_data"
    }
   ],
   "source": [
    "for i in range(0,4):\n",
    "    df_int = df.select_dtypes(\"int\")\n",
    "    plt.subplot(3,2,i+1)\n",
    "    sns.distplot(df_int.iloc[:,i])\n",
    "    plt.show()"
   ]
  },
  {
   "cell_type": "code",
   "execution_count": 38,
   "metadata": {
    "scrolled": true
   },
   "outputs": [
    {
     "data": {
      "image/png": "[encoded data removed]",
      "text/plain": [
       "<Figure size 432x288 with 1 Axes>"
      ]
     },
     "metadata": {
      "needs_background": "light"
     },
     "output_type": "display_data"
    },
    {
     "data": {
      "image/png": "[encoded data removed]",
      "text/plain": [
       "<Figure size 432x288 with 1 Axes>"
      ]
     },
     "metadata": {
      "needs_background": "light"
     },
     "output_type": "display_data"
    },
    {
     "data": {
      "image/png": "[encoded data removed]",
      "text/plain": [
       "<Figure size 432x288 with 1 Axes>"
      ]
     },
     "metadata": {
      "needs_background": "light"
     },
     "output_type": "display_data"
    }
   ],
   "source": [
    "for i in range(1,4):\n",
    "    columns= df.drop(columns=\"gender\")\n",
    "    plt.subplot(2, 2, i)\n",
    "    sns.boxplot(data=df, x=\"gender\", y=columns.columns[i])\n",
    "    plt.show()"
   ]
  },
  {
   "cell_type": "markdown",
   "metadata": {},
   "source": [
    "* There is an outlier when it comes to annual_income"
   ]
  },
  {
   "cell_type": "code",
   "execution_count": 39,
   "metadata": {},
   "outputs": [],
   "source": [
    "def get_upper_outliers(s, k):\n",
    "    '''\n",
    "    Given a series and a cutoff value, k, returns the upper outliers for the\n",
    "    series.\n",
    "\n",
    "    The values returned will be either 0 (if the point is not an outlier), or a\n",
    "    number that indicates how far away from the upper bound the observation is.\n",
    "    '''\n",
    "    q1, q3 = s.quantile([.25, .75])\n",
    "    iqr = q3 - q1\n",
    "    upper_bound = q3 + k * iqr\n",
    "    return s.apply(lambda x: max([x - upper_bound, 0]))\n",
    "\n",
    "def add_upper_outlier_columns(df, k):\n",
    "    '''\n",
    "    Add a column with the suffix _outliers for all the numeric columns\n",
    "    in the given dataframe.\n",
    "    '''\n",
    "    # outlier_cols = {col + '_outliers': get_upper_outliers(df[col], k)\n",
    "    #                 for col in df.select_dtypes('number')}\n",
    "    # return df.assign(**outlier_cols)\n",
    "\n",
    "    for col in df.select_dtypes('number'):\n",
    "        df[col + '_outliers'] = get_upper_outliers(df[col], k)\n",
    "\n",
    "    return df"
   ]
  },
  {
   "cell_type": "code",
   "execution_count": 40,
   "metadata": {
    "scrolled": false
   },
   "outputs": [],
   "source": [
    "# df_outliers = add_upper_outlier_columns(df, k=1.5)\n",
    "# df_outliers.head()"
   ]
  },
  {
   "cell_type": "code",
   "execution_count": 41,
   "metadata": {},
   "outputs": [],
   "source": [
    "from sklearn.model_selection import train_test_split"
   ]
  },
  {
   "cell_type": "code",
   "execution_count": 42,
   "metadata": {},
   "outputs": [],
   "source": [
    "# Split\n",
    "train, test = train_test_split(df, random_state=123, train_size=.8)"
   ]
  },
  {
   "cell_type": "code",
   "execution_count": 43,
   "metadata": {},
   "outputs": [],
   "source": [
    "from sklearn.preprocessing import LabelEncoder, OneHotEncoder, MinMaxScaler"
   ]
  },
  {
   "cell_type": "code",
   "execution_count": 44,
   "metadata": {},
   "outputs": [],
   "source": [
    "# Encode\n",
    "def ohe(col, X_train, X_test):\n",
    "    ''' \n",
    "    Function to fit and transform a OneHotEncoder to encode columns and replace the new values in our train, validate, and test df\n",
    "    '''\n",
    "    # Creates and fits that encoder\n",
    "    encoder = OneHotEncoder().fit(X_train[[col]])\n",
    "    \n",
    "    # Transforms and replaced the new columns back to the dataframes\n",
    "    m = encoder.transform(X_train[[col]]).todense()\n",
    "    X_train = pd.concat([X_train, pd.DataFrame(m, columns= col +\"_\"+ encoder.categories_[0], index=X_train.index)], axis = 1)\n",
    "    \n",
    "    m = encoder. transform(X_test[[col]]).todense()\n",
    "    X_test = pd.concat([X_test, pd.DataFrame(m, columns=col +\"_\"+ encoder.categories_[0], index = X_test.index)], axis = 1)\n",
    "    \n",
    "    X_train.drop(columns=col,inplace=True)\n",
    "    X_test.drop(columns=col, inplace=True)\n",
    "    \n",
    "    return X_train, X_test"
   ]
  },
  {
   "cell_type": "code",
   "execution_count": 45,
   "metadata": {},
   "outputs": [],
   "source": [
    "train, test = ohe(\"gender\", train, test)"
   ]
  },
  {
   "cell_type": "code",
   "execution_count": 46,
   "metadata": {},
   "outputs": [],
   "source": [
    "def return_values(scaler, train, test):\n",
    "    '''\n",
    "    Helper function used to updated the scaled arrays and transform them into usable dataframes\n",
    "    '''\n",
    "    train_scaled = pd.DataFrame(scaler.transform(train), columns=train.columns.values).set_index([train.index.values])\n",
    "    test_scaled = pd.DataFrame(scaler.transform(test), columns=test.columns.values).set_index([test.index.values])\n",
    "    return scaler, train_scaled, test_scaled\n",
    "\n",
    "# Linear scaler\n",
    "def min_max_scaler(train, test):\n",
    "    '''\n",
    "    Helper function that scales that data. Returns scaler, as well as the scaled dataframes\n",
    "    '''\n",
    "    scaler = MinMaxScaler().fit(test)\n",
    "    scaler, train_scaled, test_scaled = return_values(scaler, train, test)\n",
    "    return scaler, train_scaled, test_scaled"
   ]
  },
  {
   "cell_type": "code",
   "execution_count": 47,
   "metadata": {
    "scrolled": true
   },
   "outputs": [],
   "source": [
    "train_scaled = train.drop(columns=[\"gender_Male\", \"gender_Female\"])\n",
    "test_scaled = test.drop(columns=[\"gender_Male\", \"gender_Female\"])\n",
    "\n",
    "_, train_scaled, test_scaled = min_max_scaler(train_scaled, test_scaled)\n",
    "\n",
    "train_scaled[\"gender_male\"] = train[\"gender_Male\"]\n",
    "train_scaled[\"gender_female\"] = train[\"gender_Female\"]\n",
    "\n",
    "test_scaled[\"gender_male\"] = test[\"gender_Male\"]\n",
    "test_scaled[\"gender_female\"] = test[\"gender_Female\"]"
   ]
  },
  {
   "cell_type": "code",
   "execution_count": 48,
   "metadata": {
    "scrolled": true
   },
   "outputs": [
    {
     "data": {
      "text/html": [
       "<div>\n",
       "<style scoped>\n",
       "    .dataframe tbody tr th:only-of-type {\n",
       "        vertical-align: middle;\n",
       "    }\n",
       "\n",
       "    .dataframe tbody tr th {\n",
       "        vertical-align: top;\n",
       "    }\n",
       "\n",
       "    .dataframe thead th {\n",
       "        text-align: right;\n",
       "    }\n",
       "</style>\n",
       "<table border=\"1\" class=\"dataframe\">\n",
       "  <thead>\n",
       "    <tr style=\"text-align: right;\">\n",
       "      <th></th>\n",
       "      <th>customer_id</th>\n",
       "      <th>age</th>\n",
       "      <th>annual_income</th>\n",
       "      <th>spending_score</th>\n",
       "      <th>gender_male</th>\n",
       "      <th>gender_female</th>\n",
       "    </tr>\n",
       "  </thead>\n",
       "  <tbody>\n",
       "    <tr>\n",
       "      <th>24</th>\n",
       "      <td>0.108108</td>\n",
       "      <td>0.714286</td>\n",
       "      <td>0.127907</td>\n",
       "      <td>0.134021</td>\n",
       "      <td>0.0</td>\n",
       "      <td>1.0</td>\n",
       "    </tr>\n",
       "    <tr>\n",
       "      <th>150</th>\n",
       "      <td>0.789189</td>\n",
       "      <td>0.489796</td>\n",
       "      <td>0.709302</td>\n",
       "      <td>0.164948</td>\n",
       "      <td>1.0</td>\n",
       "      <td>0.0</td>\n",
       "    </tr>\n",
       "    <tr>\n",
       "      <th>114</th>\n",
       "      <td>0.594595</td>\n",
       "      <td>-0.020408</td>\n",
       "      <td>0.558140</td>\n",
       "      <td>0.484536</td>\n",
       "      <td>0.0</td>\n",
       "      <td>1.0</td>\n",
       "    </tr>\n",
       "    <tr>\n",
       "      <th>33</th>\n",
       "      <td>0.156757</td>\n",
       "      <td>-0.020408</td>\n",
       "      <td>0.186047</td>\n",
       "      <td>0.938144</td>\n",
       "      <td>1.0</td>\n",
       "      <td>0.0</td>\n",
       "    </tr>\n",
       "    <tr>\n",
       "      <th>23</th>\n",
       "      <td>0.102703</td>\n",
       "      <td>0.244898</td>\n",
       "      <td>0.093023</td>\n",
       "      <td>0.742268</td>\n",
       "      <td>1.0</td>\n",
       "      <td>0.0</td>\n",
       "    </tr>\n",
       "    <tr>\n",
       "      <th>...</th>\n",
       "      <td>...</td>\n",
       "      <td>...</td>\n",
       "      <td>...</td>\n",
       "      <td>...</td>\n",
       "      <td>...</td>\n",
       "      <td>...</td>\n",
       "    </tr>\n",
       "    <tr>\n",
       "      <th>17</th>\n",
       "      <td>0.070270</td>\n",
       "      <td>0.020408</td>\n",
       "      <td>0.046512</td>\n",
       "      <td>0.670103</td>\n",
       "      <td>1.0</td>\n",
       "      <td>0.0</td>\n",
       "    </tr>\n",
       "    <tr>\n",
       "      <th>98</th>\n",
       "      <td>0.508108</td>\n",
       "      <td>0.591837</td>\n",
       "      <td>0.511628</td>\n",
       "      <td>0.422680</td>\n",
       "      <td>1.0</td>\n",
       "      <td>0.0</td>\n",
       "    </tr>\n",
       "    <tr>\n",
       "      <th>66</th>\n",
       "      <td>0.335135</td>\n",
       "      <td>0.489796</td>\n",
       "      <td>0.360465</td>\n",
       "      <td>0.505155</td>\n",
       "      <td>0.0</td>\n",
       "      <td>1.0</td>\n",
       "    </tr>\n",
       "    <tr>\n",
       "      <th>126</th>\n",
       "      <td>0.659459</td>\n",
       "      <td>0.489796</td>\n",
       "      <td>0.627907</td>\n",
       "      <td>0.350515</td>\n",
       "      <td>1.0</td>\n",
       "      <td>0.0</td>\n",
       "    </tr>\n",
       "    <tr>\n",
       "      <th>109</th>\n",
       "      <td>0.567568</td>\n",
       "      <td>0.959184</td>\n",
       "      <td>0.534884</td>\n",
       "      <td>0.484536</td>\n",
       "      <td>1.0</td>\n",
       "      <td>0.0</td>\n",
       "    </tr>\n",
       "  </tbody>\n",
       "</table>\n",
       "<p>160 rows × 6 columns</p>\n",
       "</div>"
      ],
      "text/plain": [
       "     customer_id       age  annual_income  spending_score  gender_male  \\\n",
       "24      0.108108  0.714286       0.127907        0.134021          0.0   \n",
       "150     0.789189  0.489796       0.709302        0.164948          1.0   \n",
       "114     0.594595 -0.020408       0.558140        0.484536          0.0   \n",
       "33      0.156757 -0.020408       0.186047        0.938144          1.0   \n",
       "23      0.102703  0.244898       0.093023        0.742268          1.0   \n",
       "..           ...       ...            ...             ...          ...   \n",
       "17      0.070270  0.020408       0.046512        0.670103          1.0   \n",
       "98      0.508108  0.591837       0.511628        0.422680          1.0   \n",
       "66      0.335135  0.489796       0.360465        0.505155          0.0   \n",
       "126     0.659459  0.489796       0.627907        0.350515          1.0   \n",
       "109     0.567568  0.959184       0.534884        0.484536          1.0   \n",
       "\n",
       "     gender_female  \n",
       "24             1.0  \n",
       "150            0.0  \n",
       "114            1.0  \n",
       "33             0.0  \n",
       "23             0.0  \n",
       "..             ...  \n",
       "17             0.0  \n",
       "98             0.0  \n",
       "66             1.0  \n",
       "126            0.0  \n",
       "109            0.0  \n",
       "\n",
       "[160 rows x 6 columns]"
      ]
     },
     "execution_count": 48,
     "metadata": {},
     "output_type": "execute_result"
    }
   ],
   "source": [
    "train_scaled"
   ]
  },
  {
   "cell_type": "code",
   "execution_count": 49,
   "metadata": {},
   "outputs": [],
   "source": [
    "import wrangle_zillow"
   ]
  },
  {
   "cell_type": "code",
   "execution_count": 50,
   "metadata": {
    "scrolled": false
   },
   "outputs": [
    {
     "name": "stderr",
     "output_type": "stream",
     "text": [
      "/usr/local/anaconda3/lib/python3.7/site-packages/IPython/core/interactiveshell.py:3249: DtypeWarning: Columns (37,38,62,65,66,68) have mixed types. Specify dtype option on import or set low_memory=False.\n",
      "  if (await self.run_code(code, result,  async_=asy)):\n"
     ]
    }
   ],
   "source": [
    "zillow = wrangle_zillow.read_zillow()"
   ]
  },
  {
   "cell_type": "code",
   "execution_count": 51,
   "metadata": {
    "scrolled": false
   },
   "outputs": [
    {
     "name": "stdout",
     "output_type": "stream",
     "text": [
      "<class 'pandas.core.frame.DataFrame'>\n",
      "RangeIndex: 77575 entries, 0 to 77574\n",
      "Data columns (total 68 columns):\n",
      "storytypeid                     50 non-null float64\n",
      "heatingorsystemtypeid           49570 non-null float64\n",
      "buildingclasstypeid             15 non-null float64\n",
      "architecturalstyletypeid        206 non-null float64\n",
      "airconditioningtypeid           25006 non-null float64\n",
      "propertylandusetypeid           77575 non-null float64\n",
      "typeconstructiontypeid          222 non-null float64\n",
      "parcelid                        77575 non-null int64\n",
      "id                              77575 non-null int64\n",
      "basementsqft                    50 non-null float64\n",
      "bathroomcnt                     77575 non-null float64\n",
      "bedroomcnt                      77575 non-null float64\n",
      "buildingqualitytypeid           49809 non-null float64\n",
      "calculatedbathnbr               76960 non-null float64\n",
      "decktypeid                      614 non-null float64\n",
      "finishedfloor1squarefeet        6035 non-null float64\n",
      "calculatedfinishedsquarefeet    77375 non-null float64\n",
      "finishedsquarefeet12            73920 non-null float64\n",
      "finishedsquarefeet13            42 non-null float64\n",
      "finishedsquarefeet15            3027 non-null float64\n",
      "finishedsquarefeet50            6035 non-null float64\n",
      "finishedsquarefeet6             386 non-null float64\n",
      "fips                            77575 non-null float64\n",
      "fireplacecnt                    8287 non-null float64\n",
      "fullbathcnt                     76960 non-null float64\n",
      "garagecarcnt                    25517 non-null float64\n",
      "garagetotalsqft                 25517 non-null float64\n",
      "hashottuborspa                  1539 non-null float64\n",
      "latitude                        77575 non-null float64\n",
      "longitude                       77575 non-null float64\n",
      "lotsizesquarefeet               69318 non-null float64\n",
      "poolcnt                         16173 non-null float64\n",
      "poolsizesum                     869 non-null float64\n",
      "pooltypeid10                    465 non-null float64\n",
      "pooltypeid2                     1074 non-null float64\n",
      "pooltypeid7                     15078 non-null float64\n",
      "propertycountylandusecode       77575 non-null object\n",
      "propertyzoningdesc              50475 non-null object\n",
      "rawcensustractandblock          77575 non-null float64\n",
      "regionidcity                    76103 non-null float64\n",
      "regionidcounty                  77575 non-null float64\n",
      "regionidneighborhood            30973 non-null float64\n",
      "regionidzip                     77525 non-null float64\n",
      "roomcnt                         77575 non-null float64\n",
      "threequarterbathnbr             10105 non-null float64\n",
      "unitcnt                         50703 non-null float64\n",
      "yardbuildingsqft17              2393 non-null float64\n",
      "yardbuildingsqft26              70 non-null float64\n",
      "yearbuilt                       77306 non-null float64\n",
      "numberofstories                 17596 non-null float64\n",
      "fireplaceflag                   172 non-null float64\n",
      "structuretaxvaluedollarcnt      77460 non-null float64\n",
      "taxvaluedollarcnt               77574 non-null float64\n",
      "assessmentyear                  77575 non-null float64\n",
      "landtaxvaluedollarcnt           77573 non-null float64\n",
      "taxamount                       77570 non-null float64\n",
      "taxdelinquencyflag              2900 non-null object\n",
      "taxdelinquencyyear              2900 non-null float64\n",
      "censustractandblock             77328 non-null float64\n",
      "logerror                        77575 non-null float64\n",
      "max(transactiondate)            77575 non-null object\n",
      "typeconstructiondesc            222 non-null object\n",
      "propertylandusedesc             77575 non-null object\n",
      "airconditioningdesc             25006 non-null object\n",
      "architecturalstyledesc          206 non-null object\n",
      "buildingclassdesc               15 non-null object\n",
      "heatingorsystemdesc             49570 non-null object\n",
      "storydesc                       50 non-null object\n",
      "dtypes: float64(55), int64(2), object(11)\n",
      "memory usage: 40.2+ MB\n"
     ]
    }
   ],
   "source": [
    "zillow.info()"
   ]
  },
  {
   "cell_type": "code",
   "execution_count": 60,
   "metadata": {
    "scrolled": false
   },
   "outputs": [],
   "source": [
    "df = wrangle_zillow.data_prep(zillow, cols_to_remove=[\"calculatedbathnbr\"])"
   ]
  },
  {
   "cell_type": "code",
   "execution_count": null,
   "metadata": {},
   "outputs": [],
   "source": []
  },
  {
   "cell_type": "code",
   "execution_count": null,
   "metadata": {},
   "outputs": [],
   "source": []
  },
  {
   "cell_type": "code",
   "execution_count": 56,
   "metadata": {},
   "outputs": [
    {
     "data": {
      "text/plain": [
       "8.0     14272\n",
       "6.0     12739\n",
       "4.0      8034\n",
       "7.0      5785\n",
       "9.0      2210\n",
       "5.0      1282\n",
       "11.0      899\n",
       "10.0      297\n",
       "12.0      113\n",
       "3.0        87\n",
       "1.0         6\n",
       "Name: buildingqualitytypeid, dtype: int64"
      ]
     },
     "execution_count": 56,
     "metadata": {},
     "output_type": "execute_result"
    }
   ],
   "source": [
    "df.buildingqualitytypeid.value_counts()"
   ]
  }
 ],
 "metadata": {
  "kernelspec": {
   "display_name": "Python 3",
   "language": "python",
   "name": "python3"
  },
  "language_info": {
   "codemirror_mode": {
    "name": "ipython",
    "version": 3
   },
   "file_extension": ".py",
   "mimetype": "text/x-python",
   "name": "python",
   "nbconvert_exporter": "python",
   "pygments_lexer": "ipython3",
   "version": "3.7.4"
  }
 },
 "nbformat": 4,
 "nbformat_minor": 2
}
